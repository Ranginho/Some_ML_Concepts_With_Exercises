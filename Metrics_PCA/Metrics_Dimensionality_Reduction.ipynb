{
  "nbformat": 4,
  "nbformat_minor": 0,
  "metadata": {
    "colab": {
      "name": "Metrics_Dimensionality_Reduction.ipynb",
      "provenance": [],
      "collapsed_sections": [],
      "toc_visible": true
    },
    "kernelspec": {
      "name": "python3",
      "display_name": "Python 3"
    }
  },
  "cells": [
    {
      "cell_type": "markdown",
      "metadata": {
        "id": "c3TI5vrMXyiV"
      },
      "source": [
        "# Model Evaluation Metrics"
      ]
    },
    {
      "cell_type": "markdown",
      "metadata": {
        "id": "JoO8gm2udJKj"
      },
      "source": [
        "## Evaluation of regression model"
      ]
    },
    {
      "cell_type": "markdown",
      "metadata": {
        "id": "wjNLqzrMdQqB"
      },
      "source": [
        "Some methods we already know:\n",
        "\n",
        "* MSE - Mean Squared Error:\n",
        "$$ \\frac {1}{n} \\sum_{i=1}^{n} (y_i^* - y_i)^2 $$\n",
        "\n",
        "* RMSE - Root Mean Squared Error: \n",
        "$$ \\sqrt {\\frac {1}{n} \\sum_{i=1}^{n} (y_i^* - y_i)^2} $$\n",
        "\n",
        "* MAE - Mean Absolute Error:\n",
        "$$ \\frac {1}{n} \\sum_{i=1}^{n} \\lvert y_i^* - y_i \\rvert $$  \n",
        "\n",
        "* $R^2$ - \n",
        "$$ R^2 = 1 - \\frac {\\sum_{i=1}^{n}(y_i - y^*_i)^2}{\\sum_{i=1}^{n}(y_i - \\bar{y})^2} $$ \n"
      ]
    },
    {
      "cell_type": "code",
      "metadata": {
        "id": "zmj8F8KFbj9E",
        "colab": {
          "base_uri": "https://localhost:8080/"
        },
        "outputId": "876bf769-c3a7-45bd-b367-e603f5116eab"
      },
      "source": [
        "from sklearn.metrics import mean_squared_error, mean_absolute_error, r2_score\n",
        "import numpy as np\n",
        "\n",
        "y_true = [3, -0.5, 2, 7]\n",
        "y_pred = [2.5, 0.0, 2, 8]\n",
        "\n",
        "print('MSE: {}'.format(mean_squared_error(y_true, y_pred)))\n",
        "print('RMSE: {}'.format(np.sqrt(mean_squared_error(y_true, y_pred))))\n",
        "print('MAE: {}'.format(mean_absolute_error(y_true, y_pred)))\n",
        "print('R^e: {}'.format(r2_score(y_true, y_pred)))"
      ],
      "execution_count": 1,
      "outputs": [
        {
          "output_type": "stream",
          "name": "stdout",
          "text": [
            "MSE: 0.375\n",
            "RMSE: 0.6123724356957945\n",
            "MAE: 0.5\n",
            "R^e: 0.9486081370449679\n"
          ]
        }
      ]
    },
    {
      "cell_type": "markdown",
      "metadata": {
        "id": "IuWd_v2w5Giz"
      },
      "source": [
        "## Evaluation of classification model"
      ]
    },
    {
      "cell_type": "markdown",
      "metadata": {
        "id": "vwMyaUrhdNgj"
      },
      "source": [
        "Confusion matrix - two dimensional matrix. $C_{ij}$ - number of elements that belongs to $i$ class but model predicted class $j$ so on diagonal we have correctly classified elements:  \n",
        "![picture](https://scikit-learn.org/stable/_images/sphx_glr_plot_confusion_matrix_001.png)\n",
        "\n",
        "\n",
        "Most common metrics are: Accuracy, Precision, Recall, F1 score\n",
        "\n",
        "* Accuracy - we should use this metric for balanced datasets.\n",
        "$$Accuracy = (TP + TN)/( TP + FP + FN + TN)$$\n",
        "\n",
        "\n",
        "* Precision - what part of predicted positive classes are actually positive? We should use this metric if we want to make sure that most of positive predictions are correct.\n",
        "$$Precision = (TP)/(TP+FP)$$\n",
        "\n",
        "* Recall - what part of actual positive records is guessed as positive by model?\n",
        "$$Recall = (TP)/(TP+FN)$$\n",
        "\n",
        "* F1 score - If model always predicts positive class than our Recall is $1$ and we need to find balance between precision and recall and here we have F1 score, this is some number in range $0$ - $1$ and we can calculate it like this:\n",
        "$$ F_1 = 2* \\frac {Precision * Recall}{Precision + Recall}$$\n",
        "If none of predictions are correct $F_1 = 1$. "
      ]
    },
    {
      "cell_type": "markdown",
      "metadata": {
        "id": "jqGacLS8ms7m"
      },
      "source": [
        "Accuracy using confusion matrix for multiclass classification:\n",
        "$$ Accuracy =  \\frac {\\sum_{i=1}^{N} C_{ii} }{ \\sum_{i=1}^{N} \\sum_{j=1}^{N} C_{ij} } $$\n",
        "\n",
        "Precision, Recall, F1 score for multiclass classification using sklearn:\n",
        "* `'micro'`: ealuates global metric on whole matrix. It calculates true positives, false negatives and false positives .\n",
        "* `'macro'`: evaluates metric seperately for each class and returns average(not weighted). it doesn't take in consideration unbalance of elements.\n",
        "* `'weighted'`: evaluates metric seperately for each class and returns weighted average. It takes in consideration unbalance of elements\n",
        "* `'samples'`: evaluates metric for each sample and finds its average(it is meaningless for binary classification).\n",
        "\n",
        "Precision and Recall of $i$th class from confusion matrix elements:\n",
        "\n",
        "$$ Precision_i =  \\frac {C_{ii} }{ \\sum_{j=1}^{N} C_{ji} } $$\n",
        "$$ Recall_i =  \\frac {C_{ii} }{ \\sum_{j=1}^{N} C_{ij} } $$"
      ]
    },
    {
      "cell_type": "markdown",
      "metadata": {
        "id": "jDKRE84mmlyv"
      },
      "source": [
        "Precision, Recall, Acuracy and F1 score aren't used as cost functions. We can use Binary Crossentropy or Categorical Crossentropy as cost functions. Both functions take into account both - the model's responses as well as how confident the model was in the response received. \n",
        "\n",
        "* Log Loss/Binary Crossentropy is used for binary classification like logistic regression and also is used for neural networks: \n",
        "$$ \\sum_{i=1}^{n} -(y_i \\log(p_i) + (1-y_i) \\log(1-p_i))  $$ \n",
        "$y$ - actual value, $p$ - probability that models result is $1$. \n",
        "\n",
        "![image](https://ml-cheatsheet.readthedocs.io/en/latest/_images/cross_entropy.png)\n",
        "\n",
        "\n",
        "* Categorical Crossentropy - used for multiclass classification:\n",
        "$$ -\\frac{1}{n} \\sum_{i=1}^{n} \\sum_{j=1}^{K} y_{ij} \\log(p_{ij})$$\n",
        "$n$ - number of samples, $K$ - number of classes. $y_{ij}$ = $1$ if $i$th element belongs to $j$ class, else it's $0$. $p_{ij}$ - probability that $i$ element will be predicted as part of class $j$.\n",
        "\n",
        "> Binary and Categorical Crossentropy have bad results for unbalanced data. We can fix this by assigning some weights to classes\n",
        "\n",
        "* AUC - Area Under ROC(Receiver Operating Characteristics) Curve is used to estimated how well model can seperate classes from each other. We should plot True Positive Rate versus False Positive Rate to get ROC curve\n",
        "\n",
        "$$ TPR = Recall = TP/(TP+FN)$$\n",
        "$$ FPR = FP/(FP+TN)$$ \n",
        "\n",
        "AUC for perfect model is $1$.\n",
        "\n",
        "![picture](https://miro.medium.com/max/361/1*pk05QGzoWhCgRiiFbz-oKQ.png)\n",
        "\n",
        "Green line is ROC curve. to plot this curve we should consider some different values of threshold from $0$ to $1$ and for each threshold value we should calculate TPR and FPR.\n",
        "\n",
        "threshold = $0$ means that we consider any result of model as positive so $FN = TN = 0$ and $TPR = FPR = 1$ (upper right corner of graph)\n",
        "\n",
        "threshold = $1$ means that we consider any result of model as negative so $TP = FP = 0$ და $TPR = FPR = 0$ (lower left corner of graph)\n",
        "\n",
        "area under ROC curve = AUC\n"
      ]
    },
    {
      "cell_type": "markdown",
      "metadata": {
        "id": "j4dUqHKMnX8L"
      },
      "source": [
        "train iris dataset using SVM and look at different metrics(Accuracy, Precision, Recall, F1 score, AUC  and confusion matrix)"
      ]
    },
    {
      "cell_type": "code",
      "metadata": {
        "id": "qhRQ67Id460L"
      },
      "source": [
        "import numpy as np\n",
        "import matplotlib.pyplot as plt\n",
        "\n",
        "from sklearn import svm, datasets\n",
        "from sklearn.model_selection import train_test_split\n",
        "\n",
        "iris = datasets.load_iris()\n",
        "X = iris.data\n",
        "y = iris.target\n",
        "class_names = iris.target_names\n",
        "\n",
        "X_train, X_test, y_train, y_test = train_test_split(X, y, random_state=0)\n",
        "\n",
        "classifier = svm.SVC(kernel='linear', C=0.01).fit(X_train, y_train)"
      ],
      "execution_count": 2,
      "outputs": []
    },
    {
      "cell_type": "code",
      "metadata": {
        "id": "fQdrs47dXx-H",
        "colab": {
          "base_uri": "https://localhost:8080/"
        },
        "outputId": "ff018901-0677-483b-d8d4-e69fa12f9cdd"
      },
      "source": [
        "from sklearn.metrics import precision_score, recall_score, f1_score, plot_confusion_matrix\n",
        "\n",
        "y_pred = classifier.predict(X_test)\n",
        "\n",
        "print('precision: {}'.format(precision_score(y_test, y_pred, average='macro')))\n",
        "print('recall: {}'.format(recall_score(y_test, y_pred, average='macro')))\n",
        "print('f1 score: {}'.format(f1_score(y_test, y_pred, average='macro')))"
      ],
      "execution_count": 3,
      "outputs": [
        {
          "output_type": "stream",
          "name": "stdout",
          "text": [
            "precision: 0.8666666666666667\n",
            "recall: 0.875\n",
            "f1 score: 0.8397435897435898\n"
          ]
        }
      ]
    },
    {
      "cell_type": "code",
      "metadata": {
        "id": "Jxf60j7mCQbV",
        "colab": {
          "base_uri": "https://localhost:8080/",
          "height": 350
        },
        "outputId": "1bf3dea7-7e57-457f-9657-7b680676a157"
      },
      "source": [
        "disp = plot_confusion_matrix(classifier, X_test, y_test, display_labels=class_names, cmap=plt.cm.Blues, normalize=None)\n",
        "disp.ax_.set_title(\"Confusion matrix, without normalization\")\n",
        "plt.show()"
      ],
      "execution_count": 4,
      "outputs": [
        {
          "output_type": "stream",
          "name": "stderr",
          "text": [
            "/usr/local/lib/python3.7/dist-packages/sklearn/utils/deprecation.py:87: FutureWarning: Function plot_confusion_matrix is deprecated; Function `plot_confusion_matrix` is deprecated in 1.0 and will be removed in 1.2. Use one of the class methods: ConfusionMatrixDisplay.from_predictions or ConfusionMatrixDisplay.from_estimator.\n",
            "  warnings.warn(msg, category=FutureWarning)\n"
          ]
        },
        {
          "output_type": "display_data",
          "data": {
            "text/plain": [
              "<Figure size 432x288 with 2 Axes>"
            ],
            "image/png": "[encoded data removed]"
          },
          "metadata": {
            "needs_background": "light"
          }
        }
      ]
    },
    {
      "cell_type": "code",
      "metadata": {
        "id": "M8v54ybhEp0B",
        "colab": {
          "base_uri": "https://localhost:8080/",
          "height": 350
        },
        "outputId": "6918294f-8be4-4826-9321-be62ced6239e"
      },
      "source": [
        "disp = plot_confusion_matrix(classifier, X_test, y_test,  display_labels=class_names, cmap=plt.cm.Blues, normalize='true')\n",
        "\n",
        "disp.ax_.set_title(\"Confusion matrix, with normalization\")\n",
        "plt.show()"
      ],
      "execution_count": 5,
      "outputs": [
        {
          "output_type": "stream",
          "name": "stderr",
          "text": [
            "/usr/local/lib/python3.7/dist-packages/sklearn/utils/deprecation.py:87: FutureWarning: Function plot_confusion_matrix is deprecated; Function `plot_confusion_matrix` is deprecated in 1.0 and will be removed in 1.2. Use one of the class methods: ConfusionMatrixDisplay.from_predictions or ConfusionMatrixDisplay.from_estimator.\n",
            "  warnings.warn(msg, category=FutureWarning)\n"
          ]
        },
        {
          "output_type": "display_data",
          "data": {
            "text/plain": [
              "<Figure size 432x288 with 2 Axes>"
            ],
            "image/png": "[encoded data removed]"
          },
          "metadata": {
            "needs_background": "light"
          }
        }
      ]
    },
    {
      "cell_type": "markdown",
      "metadata": {
        "id": "FbbBgv2adryM"
      },
      "source": [
        "ROC AUC "
      ]
    },
    {
      "cell_type": "code",
      "metadata": {
        "colab": {
          "base_uri": "https://localhost:8080/",
          "height": 334
        },
        "id": "7gImWIhHJiIg",
        "outputId": "82b82661-5cfc-4bce-f0aa-570432572d36"
      },
      "source": [
        "from sklearn.datasets import make_classification\n",
        "from sklearn.linear_model import LogisticRegression\n",
        "from sklearn.metrics import plot_roc_curve\n",
        "\n",
        "# create dataset for binary classification\n",
        "X, y = datasets.make_classification(random_state=0)\n",
        "X_train, X_test, y_train, y_test = train_test_split(X, y, random_state=0)\n",
        "\n",
        "clf = LogisticRegression(random_state=0)\n",
        "clf.fit(X_train, y_train)\n",
        "\n",
        "plot_roc_curve(clf, X_test, y_test)  # ROC AUC visualization\n",
        "plt.show() "
      ],
      "execution_count": 6,
      "outputs": [
        {
          "output_type": "stream",
          "name": "stderr",
          "text": [
            "/usr/local/lib/python3.7/dist-packages/sklearn/utils/deprecation.py:87: FutureWarning: Function plot_roc_curve is deprecated; Function :func:`plot_roc_curve` is deprecated in 1.0 and will be removed in 1.2. Use one of the class methods: :meth:`sklearn.metric.RocCurveDisplay.from_predictions` or :meth:`sklearn.metric.RocCurveDisplay.from_estimator`.\n",
            "  warnings.warn(msg, category=FutureWarning)\n"
          ]
        },
        {
          "output_type": "display_data",
          "data": {
            "text/plain": [
              "<Figure size 432x288 with 1 Axes>"
            ],
            "image/png": "[encoded data removed]"
          },
          "metadata": {
            "needs_background": "light"
          }
        }
      ]
    },
    {
      "cell_type": "markdown",
      "metadata": {
        "id": "VFVnR5A8-aPs"
      },
      "source": [
        "# Dimensionality Reduction "
      ]
    },
    {
      "cell_type": "markdown",
      "metadata": {
        "id": "dUCyN6mQLyEV"
      },
      "source": [
        "Machine learning works good if we have a big dataset. We can get better models with bigger dataset but this may not be truth if we increase number of features.\n",
        "\n",
        "Increasing number of features causes increase of evaluation time but also may cause dicrease in model accuracy.\n",
        "\n",
        "To solve this problem people created some dimensionality reduction techniques that tries to dicrease number of features in such way that model accuracy stays the same(or slightly dicreases)."
      ]
    },
    {
      "cell_type": "markdown",
      "metadata": {
        "id": "WAqDtqKi-ad9"
      },
      "source": [
        "Principal Component Analysis(PCA) is the most common used dimensionality reduction technique. It transforms features into a smaller number of features that still contain most of the information.\n",
        "\n",
        "Reducing the number of features can be done at the expense of model accuracy, however, the purpose of reducing the dimension is to simplify the data so that the accuracy of the algorithms is as slightly dicreased as possible. Advantages:\n",
        "\n",
        "* using small number of features makes model training process much faster\n",
        "* mostly we get $2$ or $3$ dimension after using suc techniques and visualization becomes too easy."
      ]
    },
    {
      "cell_type": "markdown",
      "metadata": {
        "id": "-wE3BB-m-alr"
      },
      "source": [
        "PCA has this steps:\n",
        "    Standartization of data\n",
        "    Calculate covariance matrix\n",
        "    Calculate eigenvectors and eigenvalues\n",
        "    Define principal components\n",
        "    Reduce the data dimension"
      ]
    },
    {
      "cell_type": "markdown",
      "metadata": {
        "id": "rnqihd82Q7Ih"
      },
      "source": [
        "Let's implement PCA without libraries:"
      ]
    },
    {
      "cell_type": "code",
      "metadata": {
        "id": "qrl5m1lMQsDt",
        "colab": {
          "base_uri": "https://localhost:8080/"
        },
        "outputId": "2a5f5fc7-6fd3-4536-a758-b709a11c3ecc"
      },
      "source": [
        "\n",
        "from google.colab import drive\n",
        "drive.mount('/content/drive')"
      ],
      "execution_count": 7,
      "outputs": [
        {
          "output_type": "stream",
          "name": "stdout",
          "text": [
            "Mounted at /content/drive\n"
          ]
        }
      ]
    },
    {
      "cell_type": "code",
      "metadata": {
        "id": "QbuIOXq9Qv0L",
        "colab": {
          "base_uri": "https://localhost:8080/",
          "height": 285
        },
        "outputId": "198d4853-9705-4437-8f41-51d783aa021d"
      },
      "source": [
        "import pandas as pd\n",
        "df = pd.read_csv('/content/drive/MyDrive/Rango/data/winequality_cleaned.csv')\n",
        "df.head(5)"
      ],
      "execution_count": 8,
      "outputs": [
        {
          "output_type": "execute_result",
          "data": {
            "text/plain": [
              "    type  fixed acidity  volatile acidity  citric acid  residual sugar  \\\n",
              "0  white            6.3              0.30         0.34             1.6   \n",
              "1  white            8.1              0.28         0.40             6.9   \n",
              "2  white            7.2              0.23         0.32             8.5   \n",
              "3  white            6.2              0.32         0.16             7.0   \n",
              "4  white            8.1              0.22         0.43             1.5   \n",
              "\n",
              "   chlorides  free sulfur dioxide  total sulfur dioxide  density    pH  \\\n",
              "0      0.049                 14.0                 132.0   0.9940  3.30   \n",
              "1      0.050                 30.0                  97.0   0.9951  3.26   \n",
              "2      0.058                 47.0                 186.0   0.9956  3.19   \n",
              "3      0.045                 30.0                 136.0   0.9949  3.18   \n",
              "4      0.044                 28.0                 129.0   0.9938  3.22   \n",
              "\n",
              "   sulphates  alcohol  \n",
              "0       0.49      9.5  \n",
              "1       0.44     10.1  \n",
              "2       0.40      9.9  \n",
              "3       0.47      9.6  \n",
              "4       0.45     11.0  "
            ],
            "text/html": [
              "\n",
              "  <div id=\"df-a34191bd-fb4c-4a88-a1c0-8cb296b99557\">\n",
              "    <div class=\"colab-df-container\">\n",
              "      <div>\n",
              "<style scoped>\n",
              "    .dataframe tbody tr th:only-of-type {\n",
              "        vertical-align: middle;\n",
              "    }\n",
              "\n",
              "    .dataframe tbody tr th {\n",
              "        vertical-align: top;\n",
              "    }\n",
              "\n",
              "    .dataframe thead th {\n",
              "        text-align: right;\n",
              "    }\n",
              "</style>\n",
              "<table border=\"1\" class=\"dataframe\">\n",
              "  <thead>\n",
              "    <tr style=\"text-align: right;\">\n",
              "      <th></th>\n",
              "      <th>type</th>\n",
              "      <th>fixed acidity</th>\n",
              "      <th>volatile acidity</th>\n",
              "      <th>citric acid</th>\n",
              "      <th>residual sugar</th>\n",
              "      <th>chlorides</th>\n",
              "      <th>free sulfur dioxide</th>\n",
              "      <th>total sulfur dioxide</th>\n",
              "      <th>density</th>\n",
              "      <th>pH</th>\n",
              "      <th>sulphates</th>\n",
              "      <th>alcohol</th>\n",
              "    </tr>\n",
              "  </thead>\n",
              "  <tbody>\n",
              "    <tr>\n",
              "      <th>0</th>\n",
              "      <td>white</td>\n",
              "      <td>6.3</td>\n",
              "      <td>0.30</td>\n",
              "      <td>0.34</td>\n",
              "      <td>1.6</td>\n",
              "      <td>0.049</td>\n",
              "      <td>14.0</td>\n",
              "      <td>132.0</td>\n",
              "      <td>0.9940</td>\n",
              "      <td>3.30</td>\n",
              "      <td>0.49</td>\n",
              "      <td>9.5</td>\n",
              "    </tr>\n",
              "    <tr>\n",
              "      <th>1</th>\n",
              "      <td>white</td>\n",
              "      <td>8.1</td>\n",
              "      <td>0.28</td>\n",
              "      <td>0.40</td>\n",
              "      <td>6.9</td>\n",
              "      <td>0.050</td>\n",
              "      <td>30.0</td>\n",
              "      <td>97.0</td>\n",
              "      <td>0.9951</td>\n",
              "      <td>3.26</td>\n",
              "      <td>0.44</td>\n",
              "      <td>10.1</td>\n",
              "    </tr>\n",
              "    <tr>\n",
              "      <th>2</th>\n",
              "      <td>white</td>\n",
              "      <td>7.2</td>\n",
              "      <td>0.23</td>\n",
              "      <td>0.32</td>\n",
              "      <td>8.5</td>\n",
              "      <td>0.058</td>\n",
              "      <td>47.0</td>\n",
              "      <td>186.0</td>\n",
              "      <td>0.9956</td>\n",
              "      <td>3.19</td>\n",
              "      <td>0.40</td>\n",
              "      <td>9.9</td>\n",
              "    </tr>\n",
              "    <tr>\n",
              "      <th>3</th>\n",
              "      <td>white</td>\n",
              "      <td>6.2</td>\n",
              "      <td>0.32</td>\n",
              "      <td>0.16</td>\n",
              "      <td>7.0</td>\n",
              "      <td>0.045</td>\n",
              "      <td>30.0</td>\n",
              "      <td>136.0</td>\n",
              "      <td>0.9949</td>\n",
              "      <td>3.18</td>\n",
              "      <td>0.47</td>\n",
              "      <td>9.6</td>\n",
              "    </tr>\n",
              "    <tr>\n",
              "      <th>4</th>\n",
              "      <td>white</td>\n",
              "      <td>8.1</td>\n",
              "      <td>0.22</td>\n",
              "      <td>0.43</td>\n",
              "      <td>1.5</td>\n",
              "      <td>0.044</td>\n",
              "      <td>28.0</td>\n",
              "      <td>129.0</td>\n",
              "      <td>0.9938</td>\n",
              "      <td>3.22</td>\n",
              "      <td>0.45</td>\n",
              "      <td>11.0</td>\n",
              "    </tr>\n",
              "  </tbody>\n",
              "</table>\n",
              "</div>\n",
              "      <button class=\"colab-df-convert\" onclick=\"convertToInteractive('df-a34191bd-fb4c-4a88-a1c0-8cb296b99557')\"\n",
              "              title=\"Convert this dataframe to an interactive table.\"\n",
              "              style=\"display:none;\">\n",
              "        \n",
              "  <svg xmlns=\"http://www.w3.org/2000/svg\" height=\"24px\"viewBox=\"0 0 24 24\"\n",
              "       width=\"24px\">\n",
              "    <path d=\"M0 0h24v24H0V0z\" fill=\"none\"/>\n",
              "    <path d=\"M18.56 5.44l.94 2.06.94-2.06 2.06-.94-2.06-.94-.94-2.06-.94 2.06-2.06.94zm-11 1L8.5 8.5l.94-2.06 2.06-.94-2.06-.94L8.5 2.5l-.94 2.06-2.06.94zm10 10l.94 2.06.94-2.06 2.06-.94-2.06-.94-.94-2.06-.94 2.06-2.06.94z\"/><path d=\"M17.41 7.96l-1.37-1.37c-.4-.4-.92-.59-1.43-.59-.52 0-1.04.2-1.43.59L10.3 9.45l-7.72 7.72c-.78.78-.78 2.05 0 2.83L4 21.41c.39.39.9.59 1.41.59.51 0 1.02-.2 1.41-.59l7.78-7.78 2.81-2.81c.8-.78.8-2.07 0-2.86zM5.41 20L4 18.59l7.72-7.72 1.47 1.35L5.41 20z\"/>\n",
              "  </svg>\n",
              "      </button>\n",
              "      \n",
              "  <style>\n",
              "    .colab-df-container {\n",
              "      display:flex;\n",
              "      flex-wrap:wrap;\n",
              "      gap: 12px;\n",
              "    }\n",
              "\n",
              "    .colab-df-convert {\n",
              "      background-color: #E8F0FE;\n",
              "      border: none;\n",
              "      border-radius: 50%;\n",
              "      cursor: pointer;\n",
              "      display: none;\n",
              "      fill: #1967D2;\n",
              "      height: 32px;\n",
              "      padding: 0 0 0 0;\n",
              "      width: 32px;\n",
              "    }\n",
              "\n",
              "    .colab-df-convert:hover {\n",
              "      background-color: #E2EBFA;\n",
              "      box-shadow: 0px 1px 2px rgba(60, 64, 67, 0.3), 0px 1px 3px 1px rgba(60, 64, 67, 0.15);\n",
              "      fill: #174EA6;\n",
              "    }\n",
              "\n",
              "    [theme=dark] .colab-df-convert {\n",
              "      background-color: #3B4455;\n",
              "      fill: #D2E3FC;\n",
              "    }\n",
              "\n",
              "    [theme=dark] .colab-df-convert:hover {\n",
              "      background-color: #434B5C;\n",
              "      box-shadow: 0px 1px 3px 1px rgba(0, 0, 0, 0.15);\n",
              "      filter: drop-shadow(0px 1px 2px rgba(0, 0, 0, 0.3));\n",
              "      fill: #FFFFFF;\n",
              "    }\n",
              "  </style>\n",
              "\n",
              "      <script>\n",
              "        const buttonEl =\n",
              "          document.querySelector('#df-a34191bd-fb4c-4a88-a1c0-8cb296b99557 button.colab-df-convert');\n",
              "        buttonEl.style.display =\n",
              "          google.colab.kernel.accessAllowed ? 'block' : 'none';\n",
              "\n",
              "        async function convertToInteractive(key) {\n",
              "          const element = document.querySelector('#df-a34191bd-fb4c-4a88-a1c0-8cb296b99557');\n",
              "          const dataTable =\n",
              "            await google.colab.kernel.invokeFunction('convertToInteractive',\n",
              "                                                     [key], {});\n",
              "          if (!dataTable) return;\n",
              "\n",
              "          const docLinkHtml = 'Like what you see? Visit the ' +\n",
              "            '<a target=\"_blank\" href=https://colab.research.google.com/notebooks/data_table.ipynb>data table notebook</a>'\n",
              "            + ' to learn more about interactive tables.';\n",
              "          element.innerHTML = '';\n",
              "          dataTable['output_type'] = 'display_data';\n",
              "          await google.colab.output.renderOutput(dataTable, element);\n",
              "          const docLink = document.createElement('div');\n",
              "          docLink.innerHTML = docLinkHtml;\n",
              "          element.appendChild(docLink);\n",
              "        }\n",
              "      </script>\n",
              "    </div>\n",
              "  </div>\n",
              "  "
            ]
          },
          "metadata": {},
          "execution_count": 8
        }
      ]
    },
    {
      "cell_type": "code",
      "metadata": {
        "id": "1kfnzGUgSa2R"
      },
      "source": [
        "X = df.drop('type', axis =1)\n",
        "Y = df['type']"
      ],
      "execution_count": 9,
      "outputs": []
    },
    {
      "cell_type": "markdown",
      "metadata": {
        "id": "JZCruEWxV0OO"
      },
      "source": [
        "## Standartization\n",
        "\n",
        "If we don't use standartization, some parameters that have much bigger values will have higher impact than others."
      ]
    },
    {
      "cell_type": "code",
      "metadata": {
        "id": "48O_ovJXPu7S",
        "colab": {
          "base_uri": "https://localhost:8080/",
          "height": 285
        },
        "outputId": "1264efef-c486-4fe3-b90b-ed8f2996d51f"
      },
      "source": [
        "from sklearn.preprocessing import StandardScaler\n",
        "\n",
        "X_std = pd.DataFrame(StandardScaler().fit_transform(X), columns=X.columns)\n",
        "X_std.head()"
      ],
      "execution_count": 10,
      "outputs": [
        {
          "output_type": "execute_result",
          "data": {
            "text/plain": [
              "   fixed acidity  volatile acidity  citric acid  residual sugar  chlorides  \\\n",
              "0      -0.738644         -0.206615     0.210014       -0.800818  -0.131284   \n",
              "1       0.943084         -0.340328     0.656947        0.434354  -0.085164   \n",
              "2       0.102220         -0.674613     0.061036        0.807236   0.283802   \n",
              "3      -0.832073         -0.072901    -1.130788        0.457659  -0.315767   \n",
              "4       0.943084         -0.741469     0.880414       -0.824123  -0.361888   \n",
              "\n",
              "   free sulfur dioxide  total sulfur dioxide   density        pH  sulphates  \\\n",
              "0            -0.985854              0.293747 -0.107491  0.489730  -0.243479   \n",
              "1            -0.009734             -0.348759  0.286477  0.227656  -0.635736   \n",
              "2             1.027394              1.285042  0.465554 -0.230973  -0.949541   \n",
              "3            -0.009734              0.367176  0.214846 -0.296492  -0.400382   \n",
              "4            -0.131749              0.238675 -0.179122 -0.034418  -0.557285   \n",
              "\n",
              "    alcohol  \n",
              "0 -0.905396  \n",
              "1 -0.399850  \n",
              "2 -0.568365  \n",
              "3 -0.821138  \n",
              "4  0.358468  "
            ],
            "text/html": [
              "\n",
              "  <div id=\"df-d01d677c-238e-4939-b3e1-d5df6d0af98d\">\n",
              "    <div class=\"colab-df-container\">\n",
              "      <div>\n",
              "<style scoped>\n",
              "    .dataframe tbody tr th:only-of-type {\n",
              "        vertical-align: middle;\n",
              "    }\n",
              "\n",
              "    .dataframe tbody tr th {\n",
              "        vertical-align: top;\n",
              "    }\n",
              "\n",
              "    .dataframe thead th {\n",
              "        text-align: right;\n",
              "    }\n",
              "</style>\n",
              "<table border=\"1\" class=\"dataframe\">\n",
              "  <thead>\n",
              "    <tr style=\"text-align: right;\">\n",
              "      <th></th>\n",
              "      <th>fixed acidity</th>\n",
              "      <th>volatile acidity</th>\n",
              "      <th>citric acid</th>\n",
              "      <th>residual sugar</th>\n",
              "      <th>chlorides</th>\n",
              "      <th>free sulfur dioxide</th>\n",
              "      <th>total sulfur dioxide</th>\n",
              "      <th>density</th>\n",
              "      <th>pH</th>\n",
              "      <th>sulphates</th>\n",
              "      <th>alcohol</th>\n",
              "    </tr>\n",
              "  </thead>\n",
              "  <tbody>\n",
              "    <tr>\n",
              "      <th>0</th>\n",
              "      <td>-0.738644</td>\n",
              "      <td>-0.206615</td>\n",
              "      <td>0.210014</td>\n",
              "      <td>-0.800818</td>\n",
              "      <td>-0.131284</td>\n",
              "      <td>-0.985854</td>\n",
              "      <td>0.293747</td>\n",
              "      <td>-0.107491</td>\n",
              "      <td>0.489730</td>\n",
              "      <td>-0.243479</td>\n",
              "      <td>-0.905396</td>\n",
              "    </tr>\n",
              "    <tr>\n",
              "      <th>1</th>\n",
              "      <td>0.943084</td>\n",
              "      <td>-0.340328</td>\n",
              "      <td>0.656947</td>\n",
              "      <td>0.434354</td>\n",
              "      <td>-0.085164</td>\n",
              "      <td>-0.009734</td>\n",
              "      <td>-0.348759</td>\n",
              "      <td>0.286477</td>\n",
              "      <td>0.227656</td>\n",
              "      <td>-0.635736</td>\n",
              "      <td>-0.399850</td>\n",
              "    </tr>\n",
              "    <tr>\n",
              "      <th>2</th>\n",
              "      <td>0.102220</td>\n",
              "      <td>-0.674613</td>\n",
              "      <td>0.061036</td>\n",
              "      <td>0.807236</td>\n",
              "      <td>0.283802</td>\n",
              "      <td>1.027394</td>\n",
              "      <td>1.285042</td>\n",
              "      <td>0.465554</td>\n",
              "      <td>-0.230973</td>\n",
              "      <td>-0.949541</td>\n",
              "      <td>-0.568365</td>\n",
              "    </tr>\n",
              "    <tr>\n",
              "      <th>3</th>\n",
              "      <td>-0.832073</td>\n",
              "      <td>-0.072901</td>\n",
              "      <td>-1.130788</td>\n",
              "      <td>0.457659</td>\n",
              "      <td>-0.315767</td>\n",
              "      <td>-0.009734</td>\n",
              "      <td>0.367176</td>\n",
              "      <td>0.214846</td>\n",
              "      <td>-0.296492</td>\n",
              "      <td>-0.400382</td>\n",
              "      <td>-0.821138</td>\n",
              "    </tr>\n",
              "    <tr>\n",
              "      <th>4</th>\n",
              "      <td>0.943084</td>\n",
              "      <td>-0.741469</td>\n",
              "      <td>0.880414</td>\n",
              "      <td>-0.824123</td>\n",
              "      <td>-0.361888</td>\n",
              "      <td>-0.131749</td>\n",
              "      <td>0.238675</td>\n",
              "      <td>-0.179122</td>\n",
              "      <td>-0.034418</td>\n",
              "      <td>-0.557285</td>\n",
              "      <td>0.358468</td>\n",
              "    </tr>\n",
              "  </tbody>\n",
              "</table>\n",
              "</div>\n",
              "      <button class=\"colab-df-convert\" onclick=\"convertToInteractive('df-d01d677c-238e-4939-b3e1-d5df6d0af98d')\"\n",
              "              title=\"Convert this dataframe to an interactive table.\"\n",
              "              style=\"display:none;\">\n",
              "        \n",
              "  <svg xmlns=\"http://www.w3.org/2000/svg\" height=\"24px\"viewBox=\"0 0 24 24\"\n",
              "       width=\"24px\">\n",
              "    <path d=\"M0 0h24v24H0V0z\" fill=\"none\"/>\n",
              "    <path d=\"M18.56 5.44l.94 2.06.94-2.06 2.06-.94-2.06-.94-.94-2.06-.94 2.06-2.06.94zm-11 1L8.5 8.5l.94-2.06 2.06-.94-2.06-.94L8.5 2.5l-.94 2.06-2.06.94zm10 10l.94 2.06.94-2.06 2.06-.94-2.06-.94-.94-2.06-.94 2.06-2.06.94z\"/><path d=\"M17.41 7.96l-1.37-1.37c-.4-.4-.92-.59-1.43-.59-.52 0-1.04.2-1.43.59L10.3 9.45l-7.72 7.72c-.78.78-.78 2.05 0 2.83L4 21.41c.39.39.9.59 1.41.59.51 0 1.02-.2 1.41-.59l7.78-7.78 2.81-2.81c.8-.78.8-2.07 0-2.86zM5.41 20L4 18.59l7.72-7.72 1.47 1.35L5.41 20z\"/>\n",
              "  </svg>\n",
              "      </button>\n",
              "      \n",
              "  <style>\n",
              "    .colab-df-container {\n",
              "      display:flex;\n",
              "      flex-wrap:wrap;\n",
              "      gap: 12px;\n",
              "    }\n",
              "\n",
              "    .colab-df-convert {\n",
              "      background-color: #E8F0FE;\n",
              "      border: none;\n",
              "      border-radius: 50%;\n",
              "      cursor: pointer;\n",
              "      display: none;\n",
              "      fill: #1967D2;\n",
              "      height: 32px;\n",
              "      padding: 0 0 0 0;\n",
              "      width: 32px;\n",
              "    }\n",
              "\n",
              "    .colab-df-convert:hover {\n",
              "      background-color: #E2EBFA;\n",
              "      box-shadow: 0px 1px 2px rgba(60, 64, 67, 0.3), 0px 1px 3px 1px rgba(60, 64, 67, 0.15);\n",
              "      fill: #174EA6;\n",
              "    }\n",
              "\n",
              "    [theme=dark] .colab-df-convert {\n",
              "      background-color: #3B4455;\n",
              "      fill: #D2E3FC;\n",
              "    }\n",
              "\n",
              "    [theme=dark] .colab-df-convert:hover {\n",
              "      background-color: #434B5C;\n",
              "      box-shadow: 0px 1px 3px 1px rgba(0, 0, 0, 0.15);\n",
              "      filter: drop-shadow(0px 1px 2px rgba(0, 0, 0, 0.3));\n",
              "      fill: #FFFFFF;\n",
              "    }\n",
              "  </style>\n",
              "\n",
              "      <script>\n",
              "        const buttonEl =\n",
              "          document.querySelector('#df-d01d677c-238e-4939-b3e1-d5df6d0af98d button.colab-df-convert');\n",
              "        buttonEl.style.display =\n",
              "          google.colab.kernel.accessAllowed ? 'block' : 'none';\n",
              "\n",
              "        async function convertToInteractive(key) {\n",
              "          const element = document.querySelector('#df-d01d677c-238e-4939-b3e1-d5df6d0af98d');\n",
              "          const dataTable =\n",
              "            await google.colab.kernel.invokeFunction('convertToInteractive',\n",
              "                                                     [key], {});\n",
              "          if (!dataTable) return;\n",
              "\n",
              "          const docLinkHtml = 'Like what you see? Visit the ' +\n",
              "            '<a target=\"_blank\" href=https://colab.research.google.com/notebooks/data_table.ipynb>data table notebook</a>'\n",
              "            + ' to learn more about interactive tables.';\n",
              "          element.innerHTML = '';\n",
              "          dataTable['output_type'] = 'display_data';\n",
              "          await google.colab.output.renderOutput(dataTable, element);\n",
              "          const docLink = document.createElement('div');\n",
              "          docLink.innerHTML = docLinkHtml;\n",
              "          element.appendChild(docLink);\n",
              "        }\n",
              "      </script>\n",
              "    </div>\n",
              "  </div>\n",
              "  "
            ]
          },
          "metadata": {},
          "execution_count": 10
        }
      ]
    },
    {
      "cell_type": "markdown",
      "metadata": {
        "id": "zz-_zdkLPvE7"
      },
      "source": [
        "## Covariant matrix\n",
        "\n",
        "Covariation shows us how two variables changes are depend on each other. If they change on the same direction so they are proportional than covariation is positiv, else - negative. If there is not any dependency, covariation is 0.\n",
        "\n",
        "Covariance can take on any numerical value, depending on the mean of data and some other statistical parameters.In order to be able to compare covariances with each other it is necessary to standardize the variables. If we calculate the covariance of two standardized variables, we get a correlation that is already familiar to us, which varies between $ [- 1, 1] $, and we can already clearly compare them with each other.\n",
        "\n",
        "When the correlation of two standardized features is very close to each other, it means that they behave almost identically. The presence of many such features worsens the model results and it is therefore necessary to find strongly interdependent parameters.\n",
        "\n",
        "covariance:\n",
        "$$ Cov(x,y) = \\frac {1} {N-1} \\sum_{i=1}^{N} (x_i - \\mu_x)*(y_i - \\mu_y) $$ \n",
        "$N$ - number of samples, $ \\mu_x $ and $ \\mu_y $ - mean values\n",
        "\n",
        "[difference between covariance and correlation](https://towardsdatascience.com/let-us-understand-the-correlation-matrix-and-covariance-matrix-d42e6b643c22)\n",
        "\n"
      ]
    },
    {
      "cell_type": "code",
      "metadata": {
        "id": "8MLxrIL_PvaH"
      },
      "source": [
        "import numpy as np\n",
        "\n",
        "#covariance matrix\n",
        "cov_mat = (X_std).T.dot(X_std) / (X_std.shape[0]-1)"
      ],
      "execution_count": 11,
      "outputs": []
    },
    {
      "cell_type": "code",
      "metadata": {
        "id": "C6NSxyJYZjXA",
        "colab": {
          "base_uri": "https://localhost:8080/",
          "height": 642
        },
        "outputId": "bff2764b-0fbd-4d5f-8c02-08617579956e"
      },
      "source": [
        "import seaborn as sns\n",
        "import matplotlib.pyplot as plt\n",
        "\n",
        "f, ax = plt.subplots(figsize=(11, 9))\n",
        "\n",
        "sns.heatmap(cov_mat, cmap='magma', square=True, linewidths=.5, )"
      ],
      "execution_count": 12,
      "outputs": [
        {
          "output_type": "execute_result",
          "data": {
            "text/plain": [
              "<matplotlib.axes._subplots.AxesSubplot at 0x7f3c634b6150>"
            ]
          },
          "metadata": {},
          "execution_count": 12
        },
        {
          "output_type": "display_data",
          "data": {
            "text/plain": [
              "<Figure size 792x648 with 2 Axes>"
            ],
            "image/png": "[encoded data removed]"
          },
          "metadata": {
            "needs_background": "light"
          }
        }
      ]
    },
    {
      "cell_type": "markdown",
      "metadata": {
        "id": "G4Sk7cVCPvUU"
      },
      "source": [
        "## Eigenvectors and eigenvalues"
      ]
    },
    {
      "cell_type": "code",
      "metadata": {
        "id": "bM4eOQ43bd8O",
        "colab": {
          "base_uri": "https://localhost:8080/"
        },
        "outputId": "7256a33b-73f1-4804-8346-21b5e9cee7fc"
      },
      "source": [
        "cov_mat = np.cov(X_std.T) \n",
        "eig_vals, eig_vecs = np.linalg.eig(cov_mat)\n",
        "\n",
        "print('shape of eigenvalues {}'.format(eig_vals.shape))\n",
        "print('shape of eigenvectors {}'.format(eig_vecs.shape))"
      ],
      "execution_count": 13,
      "outputs": [
        {
          "output_type": "stream",
          "name": "stdout",
          "text": [
            "shape of eigenvalues (11,)\n",
            "shape of eigenvectors (11, 11)\n"
          ]
        }
      ]
    },
    {
      "cell_type": "markdown",
      "metadata": {
        "id": "J0cvWgX9Pvf0"
      },
      "source": [
        "## Define principal components\n",
        "\n",
        "Principal components are new features that we get from previous features combinations. This new features are indipendent from each other. New features has almost the same information.\n",
        "\n",
        "To get the principal components we must first sort our eigenvectors according to our eigenvalues. The greater its eigenvalue, the more important its eigenvector.\n",
        "\n",
        "After sorting we have to choose how many attributes ($m$) we want to have in the new dataset. Compose a matrix with its eigenvector of the largest $m$ value.\n",
        "We need to multiply the original dataset by this matrix, resulting in a new dataset containing only $m$ features.\n",
        "\n",
        "E.g. Suppose the original dataset consisted of a $1000$ record and each record had a $15$ feature, i.e. the dataset form was $(1000,15)$. We calculated our eigenvectors (the size of the vectors is $(15,)$) and our eigenvalues ​​and decided to leave only $5$ of them. The selected matrix consisting of its eigenvectors will have a dimension of $(15,5)$.\n",
        "When we multiply a dataset by our eigenvector matrix $(1000,15)\\times(15,5)$ we get a matrix of $(1000,5)$, i.e. the number of attributes is reduced to $5$.\n"
      ]
    },
    {
      "cell_type": "code",
      "metadata": {
        "id": "4tjqm93KPvlJ",
        "colab": {
          "base_uri": "https://localhost:8080/"
        },
        "outputId": "fc2be770-348b-4075-9ccb-a45e778e4a7d"
      },
      "source": [
        "eig_pairs = [(np.abs(eig_vals[i]), eig_vecs[:,i]) for i in range(len(eig_vals))]\n",
        "\n",
        "print('eigenvalues descending order:')\n",
        "for i in eig_pairs:\n",
        "    print(i[0])"
      ],
      "execution_count": 14,
      "outputs": [
        {
          "output_type": "stream",
          "name": "stdout",
          "text": [
            "eigenvalues descending order:\n",
            "3.150677470277583\n",
            "2.5303466151230647\n",
            "1.501200184339309\n",
            "0.028750359096487352\n",
            "0.9947077728946718\n",
            "0.23183003844424901\n",
            "0.35406135753344925\n",
            "0.41579999793252664\n",
            "0.5126796171123177\n",
            "0.6596130982393995\n",
            "0.6225797622354476\n"
          ]
        }
      ]
    },
    {
      "cell_type": "markdown",
      "metadata": {
        "id": "8Gabpp8S_KVI"
      },
      "source": [
        "In fact this chosen vectors are orthogonal to each other and these are new axes where we're doing projection"
      ]
    },
    {
      "cell_type": "markdown",
      "metadata": {
        "id": "jOdWdfCZPvqh"
      },
      "source": [
        "## Dimensionality Reduction\n",
        "\n",
        "Let's choose first $5$ eigenvectors, create a matrix using them and reduce the dimension"
      ]
    },
    {
      "cell_type": "code",
      "metadata": {
        "id": "HZbsCYYO2OBd",
        "colab": {
          "base_uri": "https://localhost:8080/"
        },
        "outputId": "eb14826b-a4ef-4046-b9fa-c414fc0b8e80"
      },
      "source": [
        "matrix = np.array([vec[1] for vec in eig_pairs[:5]]).T\n",
        "print('matrix dimension: ', matrix.shape)\n",
        "matrix"
      ],
      "execution_count": 15,
      "outputs": [
        {
          "output_type": "stream",
          "name": "stdout",
          "text": [
            "matrix dimension:  (11, 5)\n"
          ]
        },
        {
          "output_type": "execute_result",
          "data": {
            "text/plain": [
              "array([[ 2.22926705e-01,  2.42219746e-01, -5.67819176e-01,\n",
              "        -2.82933499e-01,  7.90194389e-02],\n",
              "       [ 3.98918036e-01,  1.07800924e-01,  2.14017454e-01,\n",
              "        -7.40760738e-02,  2.74454278e-01],\n",
              "       [-2.27312770e-01,  9.80405267e-02, -5.55657800e-01,\n",
              "        -3.96480126e-03, -3.50468299e-01],\n",
              "       [-2.85418335e-01,  3.85090339e-01,  1.19302713e-01,\n",
              "        -4.26046163e-01,  8.06885462e-02],\n",
              "       [ 3.73778578e-01,  2.93535235e-01, -9.57144574e-03,\n",
              "        -9.40684403e-02,  4.78297543e-04],\n",
              "       [-4.03153330e-01,  1.74913833e-01,  1.91920026e-01,\n",
              "        -4.53864439e-03, -2.01983845e-01],\n",
              "       [-4.49918008e-01,  1.89516468e-01,  1.51856294e-01,\n",
              "         6.06159633e-02, -1.14312660e-01],\n",
              "       [ 1.28792354e-01,  5.88952225e-01,  4.76931486e-02,\n",
              "         7.38514131e-01, -2.78903750e-02],\n",
              "       [ 2.41453758e-01, -7.67442474e-02,  4.66822608e-01,\n",
              "        -1.92034100e-01, -4.86763049e-01],\n",
              "       [ 2.79847110e-01,  1.08522706e-01, -6.66605650e-02,\n",
              "        -8.09173650e-02, -6.93216589e-01],\n",
              "       [ 1.27406446e-02, -5.04575253e-01, -1.55442360e-01,\n",
              "         3.62710236e-01, -1.30236870e-01]])"
            ]
          },
          "metadata": {},
          "execution_count": 15
        }
      ]
    },
    {
      "cell_type": "markdown",
      "metadata": {
        "id": "ypNUhUyH9Ci4"
      },
      "source": [
        "To get a new dataset let's take a product of standardized dataset and eigenvectors matrix"
      ]
    },
    {
      "cell_type": "code",
      "metadata": {
        "id": "_OazTOFg2ONF",
        "colab": {
          "base_uri": "https://localhost:8080/"
        },
        "outputId": "a07ee013-1b56-44e9-c1d8-a170bf382cf8"
      },
      "source": [
        "X_PCA = np.dot(X_std, matrix)\n",
        "print('dimension of new dataset: ', X_PCA.shape)"
      ],
      "execution_count": 16,
      "outputs": [
        {
          "output_type": "stream",
          "name": "stdout",
          "text": [
            "dimension of new dataset:  (4898, 5)\n"
          ]
        }
      ]
    },
    {
      "cell_type": "markdown",
      "metadata": {
        "id": "C8UYidkz9Yus"
      },
      "source": [
        "## Training and visualization\n",
        "\n",
        "Let's train some different logistic regression models using PCA"
      ]
    },
    {
      "cell_type": "code",
      "metadata": {
        "id": "rqr77bMOPvvh",
        "colab": {
          "base_uri": "https://localhost:8080/"
        },
        "outputId": "8b571c4e-3eea-47d0-fc08-b527345f409f"
      },
      "source": [
        "from sklearn.decomposition import PCA \n",
        "\n",
        "pca = PCA(n_components=3)\n",
        "\n",
        "X_PCA = pca.fit_transform(X_std)\n",
        "print('dimension of new dataset: ', X_PCA.shape)"
      ],
      "execution_count": 17,
      "outputs": [
        {
          "output_type": "stream",
          "name": "stdout",
          "text": [
            "dimension of new dataset:  (4898, 3)\n"
          ]
        }
      ]
    },
    {
      "cell_type": "code",
      "metadata": {
        "id": "K3OmLgHScM22",
        "colab": {
          "base_uri": "https://localhost:8080/",
          "height": 279
        },
        "outputId": "f52e2fa3-0880-4d4f-d6a7-d1e219c8821b"
      },
      "source": [
        "pca_all = PCA().fit(X_std) \n",
        "plt.plot(np.cumsum(pca_all.explained_variance_ratio_), 'o')\n",
        "plt.xlabel('number of components')\n",
        "plt.ylabel('cumulative explained variance')\n",
        "plt.show()"
      ],
      "execution_count": 18,
      "outputs": [
        {
          "output_type": "display_data",
          "data": {
            "text/plain": [
              "<Figure size 432x288 with 1 Axes>"
            ],
            "image/png": "[encoded data removed]"
          },
          "metadata": {
            "needs_background": "light"
          }
        }
      ]
    },
    {
      "cell_type": "code",
      "metadata": {
        "id": "kVQdQO61jue4",
        "colab": {
          "base_uri": "https://localhost:8080/"
        },
        "outputId": "0f4dd22d-56e2-4945-dc7a-8d02b9e1989c"
      },
      "source": [
        "from sklearn.model_selection import train_test_split\n",
        "from sklearn.linear_model import LogisticRegression\n",
        "\n",
        "X_train, X_test, y_train, y_test = train_test_split(X_PCA, Y , test_size=0.3, random_state=0)\n",
        "\n",
        "lreg = LogisticRegression(random_state=0)\n",
        "lreg.fit(X_train, y_train)\n",
        "print('Train accuracy: ', lreg.score(X_train, y_train))\n",
        "print('Test accuracy: ', lreg.score(X_test, y_test))"
      ],
      "execution_count": 19,
      "outputs": [
        {
          "output_type": "stream",
          "name": "stdout",
          "text": [
            "Train accuracy:  0.985414235705951\n",
            "Test accuracy:  0.9809523809523809\n"
          ]
        }
      ]
    },
    {
      "cell_type": "markdown",
      "metadata": {
        "id": "SiCs2Dh-_eNG"
      },
      "source": [
        "Let's train model before PCA and check it's accuracy:"
      ]
    },
    {
      "cell_type": "code",
      "metadata": {
        "id": "6pDwv5QGjucx",
        "colab": {
          "base_uri": "https://localhost:8080/"
        },
        "outputId": "9003d99a-a0b4-4955-b70d-0e51f40d1f9d"
      },
      "source": [
        "X_train, X_test, y_train, y_test = train_test_split(X_std, Y , test_size=0.3, random_state=0)\n",
        "\n",
        "lreg_std = LogisticRegression(random_state=0)\n",
        "lreg_std.fit(X_train, y_train)\n",
        "print('Train accuracy: ', lreg_std.score(X_train, y_train))\n",
        "print('Test accuracy: ', lreg_std.score(X_test, y_test))\n",
        "base_train = lreg_std.score(X_train, y_train)\n",
        "base_test = lreg_std.score(X_test, y_test)"
      ],
      "execution_count": 20,
      "outputs": [
        {
          "output_type": "stream",
          "name": "stdout",
          "text": [
            "Train accuracy:  0.9962077012835473\n",
            "Test accuracy:  0.9938775510204082\n"
          ]
        }
      ]
    },
    {
      "cell_type": "markdown",
      "metadata": {
        "id": "ubNDTowW_7M8"
      },
      "source": [
        "Plot a graph of how the accuracy of training and test sets depends on the number of dimensions"
      ]
    },
    {
      "cell_type": "code",
      "metadata": {
        "id": "L1Mbi8P3juXR",
        "colab": {
          "base_uri": "https://localhost:8080/",
          "height": 497
        },
        "outputId": "0cbab040-4a29-40e6-bc6e-e12926071d82"
      },
      "source": [
        "Train_results = []\n",
        "Test_results = []\n",
        "\n",
        "parameter_count = len(X.columns)\n",
        "\n",
        "for i in range(1, parameter_count+1):\n",
        "    X_PCA = PCA(n_components=i).fit_transform(X_std)\n",
        "    X_train, X_test, y_train, y_test = train_test_split(X_PCA, Y , test_size=0.3, random_state=0)\n",
        "\n",
        "    lreg = LogisticRegression(random_state=0)\n",
        "    lreg.fit(X_train, y_train)\n",
        "    Train_results.append(lreg.score(X_train, y_train))\n",
        "    Test_results.append(lreg.score(X_test, y_test))\n",
        "\n",
        "\n",
        "plt.figure(figsize=(12,8))\n",
        "plt.plot(Train_results, '-o', label='train accuracy')\n",
        "plt.plot(Test_results, '-o', label='test accuracy')\n",
        "plt.hlines(base_train, 0, parameter_count, 'blue', linestyles='dashed', label='train accuracy before transformations')\n",
        "plt.hlines(base_test, 0, parameter_count, 'red', linestyles='dashed', label='test accuracy before transformations')\n",
        "plt.xlabel('number of PCA components')\n",
        "plt.ylabel('accuracy')\n",
        "plt.legend(loc=\"lower right\")\n",
        "plt.show()"
      ],
      "execution_count": 21,
      "outputs": [
        {
          "output_type": "display_data",
          "data": {
            "text/plain": [
              "<Figure size 864x576 with 1 Axes>"
            ],
            "image/png": "[encoded data removed]"
          },
          "metadata": {
            "needs_background": "light"
          }
        }
      ]
    },
    {
      "cell_type": "markdown",
      "metadata": {
        "id": "JEEHwV5yCbVX"
      },
      "source": [
        "As can be seen from the graph, even one parameter gives us $98\\%$ accuracy, which is a very high result.\n",
        "\n",
        "This graph proves that even with a small number of parameters it is possible to get almost the same result. Moreover, in some cases, PCA conversion can even improve accuracy."
      ]
    },
    {
      "cell_type": "code",
      "source": [
        ""
      ],
      "metadata": {
        "id": "er6M75e-qfnJ"
      },
      "execution_count": null,
      "outputs": []
    }
  ]
}