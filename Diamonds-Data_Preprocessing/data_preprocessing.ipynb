{
  "nbformat": 4,
  "nbformat_minor": 0,
  "metadata": {
    "colab": {
      "name": "data preprocessing.ipynb",
      "provenance": [],
      "collapsed_sections": []
    },
    "kernelspec": {
      "name": "python3",
      "display_name": "Python 3"
    }
  },
  "cells": [
    {
      "cell_type": "markdown",
      "metadata": {
        "id": "9Ia-3m78xaLg"
      },
      "source": [
        "### Data cleaning"
      ]
    },
    {
      "cell_type": "markdown",
      "metadata": {
        "id": "wH52leu1xfGt"
      },
      "source": [
        "Very often we need to work with some messy data where we have missing values, null values, missing formats and some non-understandable values so data needs to be cleaned and this is very crucial part of machine learning."
      ]
    },
    {
      "cell_type": "markdown",
      "metadata": {
        "id": "SbL_3Otiz9KB"
      },
      "source": [
        "Let's read the `diamonds_messy.csv` file. This is very messy dataset of diamonds."
      ]
    },
    {
      "cell_type": "code",
      "metadata": {
        "id": "IyK2WF_PSj3Z",
        "outputId": "c64705ff-a9b8-4dd8-b90e-303d0263832f",
        "colab": {
          "base_uri": "https://localhost:8080/"
        }
      },
      "source": [
        "from google.colab import drive\n",
        "drive.mount('/content/drive')"
      ],
      "execution_count": 1,
      "outputs": [
        {
          "output_type": "stream",
          "name": "stdout",
          "text": [
            "Mounted at /content/drive\n"
          ]
        }
      ]
    },
    {
      "cell_type": "code",
      "metadata": {
        "id": "n96zTF0QncT-",
        "outputId": "38f62ed4-6694-4b67-ec2a-817022e4789e",
        "colab": {
          "base_uri": "https://localhost:8080/",
          "height": 424
        }
      },
      "source": [
        "import pandas as pd\n",
        "\n",
        "df = pd.read_csv('/content/drive/MyDrive/Rango/data/diamonds_messy.csv', index_col=0)\n",
        "df"
      ],
      "execution_count": 2,
      "outputs": [
        {
          "output_type": "execute_result",
          "data": {
            "text/plain": [
              "      carat        cut    price     x     y     z\n",
              "0      2.19       Good  13978.0  8.26  8.17  5.23\n",
              "1      1.22      Ideal   5099.0  6.89  6.95  4.22\n",
              "2      0.70      Ideal   2874.0  5.77  5.73  3.51\n",
              "3      0.40  Very Good   1033.0   NaN  4.76  2.90\n",
              "4      1.03      Ideal   5037.0  6.54   6.5  3.97\n",
              "...     ...        ...      ...   ...   ...   ...\n",
              "1005   1.08      Ideal   5172.0  6.54  6.61  4.07\n",
              "1006   0.53  Very Good   1852.0  5.28  5.39  3.12\n",
              "1007   1.60    Premium  10064.0  7.54  7.49  4.65\n",
              "1008   0.30    Premium    776.0  4.35   NaN  2.63\n",
              "1009   0.46  Very Good   1345.0  5.05   5.1  2.99\n",
              "\n",
              "[1010 rows x 6 columns]"
            ],
            "text/html": [
              "\n",
              "  <div id=\"df-aff5179e-6dad-4db0-a496-22bef3ff9c34\">\n",
              "    <div class=\"colab-df-container\">\n",
              "      <div>\n",
              "<style scoped>\n",
              "    .dataframe tbody tr th:only-of-type {\n",
              "        vertical-align: middle;\n",
              "    }\n",
              "\n",
              "    .dataframe tbody tr th {\n",
              "        vertical-align: top;\n",
              "    }\n",
              "\n",
              "    .dataframe thead th {\n",
              "        text-align: right;\n",
              "    }\n",
              "</style>\n",
              "<table border=\"1\" class=\"dataframe\">\n",
              "  <thead>\n",
              "    <tr style=\"text-align: right;\">\n",
              "      <th></th>\n",
              "      <th>carat</th>\n",
              "      <th>cut</th>\n",
              "      <th>price</th>\n",
              "      <th>x</th>\n",
              "      <th>y</th>\n",
              "      <th>z</th>\n",
              "    </tr>\n",
              "  </thead>\n",
              "  <tbody>\n",
              "    <tr>\n",
              "      <th>0</th>\n",
              "      <td>2.19</td>\n",
              "      <td>Good</td>\n",
              "      <td>13978.0</td>\n",
              "      <td>8.26</td>\n",
              "      <td>8.17</td>\n",
              "      <td>5.23</td>\n",
              "    </tr>\n",
              "    <tr>\n",
              "      <th>1</th>\n",
              "      <td>1.22</td>\n",
              "      <td>Ideal</td>\n",
              "      <td>5099.0</td>\n",
              "      <td>6.89</td>\n",
              "      <td>6.95</td>\n",
              "      <td>4.22</td>\n",
              "    </tr>\n",
              "    <tr>\n",
              "      <th>2</th>\n",
              "      <td>0.70</td>\n",
              "      <td>Ideal</td>\n",
              "      <td>2874.0</td>\n",
              "      <td>5.77</td>\n",
              "      <td>5.73</td>\n",
              "      <td>3.51</td>\n",
              "    </tr>\n",
              "    <tr>\n",
              "      <th>3</th>\n",
              "      <td>0.40</td>\n",
              "      <td>Very Good</td>\n",
              "      <td>1033.0</td>\n",
              "      <td>NaN</td>\n",
              "      <td>4.76</td>\n",
              "      <td>2.90</td>\n",
              "    </tr>\n",
              "    <tr>\n",
              "      <th>4</th>\n",
              "      <td>1.03</td>\n",
              "      <td>Ideal</td>\n",
              "      <td>5037.0</td>\n",
              "      <td>6.54</td>\n",
              "      <td>6.5</td>\n",
              "      <td>3.97</td>\n",
              "    </tr>\n",
              "    <tr>\n",
              "      <th>...</th>\n",
              "      <td>...</td>\n",
              "      <td>...</td>\n",
              "      <td>...</td>\n",
              "      <td>...</td>\n",
              "      <td>...</td>\n",
              "      <td>...</td>\n",
              "    </tr>\n",
              "    <tr>\n",
              "      <th>1005</th>\n",
              "      <td>1.08</td>\n",
              "      <td>Ideal</td>\n",
              "      <td>5172.0</td>\n",
              "      <td>6.54</td>\n",
              "      <td>6.61</td>\n",
              "      <td>4.07</td>\n",
              "    </tr>\n",
              "    <tr>\n",
              "      <th>1006</th>\n",
              "      <td>0.53</td>\n",
              "      <td>Very Good</td>\n",
              "      <td>1852.0</td>\n",
              "      <td>5.28</td>\n",
              "      <td>5.39</td>\n",
              "      <td>3.12</td>\n",
              "    </tr>\n",
              "    <tr>\n",
              "      <th>1007</th>\n",
              "      <td>1.60</td>\n",
              "      <td>Premium</td>\n",
              "      <td>10064.0</td>\n",
              "      <td>7.54</td>\n",
              "      <td>7.49</td>\n",
              "      <td>4.65</td>\n",
              "    </tr>\n",
              "    <tr>\n",
              "      <th>1008</th>\n",
              "      <td>0.30</td>\n",
              "      <td>Premium</td>\n",
              "      <td>776.0</td>\n",
              "      <td>4.35</td>\n",
              "      <td>NaN</td>\n",
              "      <td>2.63</td>\n",
              "    </tr>\n",
              "    <tr>\n",
              "      <th>1009</th>\n",
              "      <td>0.46</td>\n",
              "      <td>Very Good</td>\n",
              "      <td>1345.0</td>\n",
              "      <td>5.05</td>\n",
              "      <td>5.1</td>\n",
              "      <td>2.99</td>\n",
              "    </tr>\n",
              "  </tbody>\n",
              "</table>\n",
              "<p>1010 rows × 6 columns</p>\n",
              "</div>\n",
              "      <button class=\"colab-df-convert\" onclick=\"convertToInteractive('df-aff5179e-6dad-4db0-a496-22bef3ff9c34')\"\n",
              "              title=\"Convert this dataframe to an interactive table.\"\n",
              "              style=\"display:none;\">\n",
              "        \n",
              "  <svg xmlns=\"http://www.w3.org/2000/svg\" height=\"24px\"viewBox=\"0 0 24 24\"\n",
              "       width=\"24px\">\n",
              "    <path d=\"M0 0h24v24H0V0z\" fill=\"none\"/>\n",
              "    <path d=\"M18.56 5.44l.94 2.06.94-2.06 2.06-.94-2.06-.94-.94-2.06-.94 2.06-2.06.94zm-11 1L8.5 8.5l.94-2.06 2.06-.94-2.06-.94L8.5 2.5l-.94 2.06-2.06.94zm10 10l.94 2.06.94-2.06 2.06-.94-2.06-.94-.94-2.06-.94 2.06-2.06.94z\"/><path d=\"M17.41 7.96l-1.37-1.37c-.4-.4-.92-.59-1.43-.59-.52 0-1.04.2-1.43.59L10.3 9.45l-7.72 7.72c-.78.78-.78 2.05 0 2.83L4 21.41c.39.39.9.59 1.41.59.51 0 1.02-.2 1.41-.59l7.78-7.78 2.81-2.81c.8-.78.8-2.07 0-2.86zM5.41 20L4 18.59l7.72-7.72 1.47 1.35L5.41 20z\"/>\n",
              "  </svg>\n",
              "      </button>\n",
              "      \n",
              "  <style>\n",
              "    .colab-df-container {\n",
              "      display:flex;\n",
              "      flex-wrap:wrap;\n",
              "      gap: 12px;\n",
              "    }\n",
              "\n",
              "    .colab-df-convert {\n",
              "      background-color: #E8F0FE;\n",
              "      border: none;\n",
              "      border-radius: 50%;\n",
              "      cursor: pointer;\n",
              "      display: none;\n",
              "      fill: #1967D2;\n",
              "      height: 32px;\n",
              "      padding: 0 0 0 0;\n",
              "      width: 32px;\n",
              "    }\n",
              "\n",
              "    .colab-df-convert:hover {\n",
              "      background-color: #E2EBFA;\n",
              "      box-shadow: 0px 1px 2px rgba(60, 64, 67, 0.3), 0px 1px 3px 1px rgba(60, 64, 67, 0.15);\n",
              "      fill: #174EA6;\n",
              "    }\n",
              "\n",
              "    [theme=dark] .colab-df-convert {\n",
              "      background-color: #3B4455;\n",
              "      fill: #D2E3FC;\n",
              "    }\n",
              "\n",
              "    [theme=dark] .colab-df-convert:hover {\n",
              "      background-color: #434B5C;\n",
              "      box-shadow: 0px 1px 3px 1px rgba(0, 0, 0, 0.15);\n",
              "      filter: drop-shadow(0px 1px 2px rgba(0, 0, 0, 0.3));\n",
              "      fill: #FFFFFF;\n",
              "    }\n",
              "  </style>\n",
              "\n",
              "      <script>\n",
              "        const buttonEl =\n",
              "          document.querySelector('#df-aff5179e-6dad-4db0-a496-22bef3ff9c34 button.colab-df-convert');\n",
              "        buttonEl.style.display =\n",
              "          google.colab.kernel.accessAllowed ? 'block' : 'none';\n",
              "\n",
              "        async function convertToInteractive(key) {\n",
              "          const element = document.querySelector('#df-aff5179e-6dad-4db0-a496-22bef3ff9c34');\n",
              "          const dataTable =\n",
              "            await google.colab.kernel.invokeFunction('convertToInteractive',\n",
              "                                                     [key], {});\n",
              "          if (!dataTable) return;\n",
              "\n",
              "          const docLinkHtml = 'Like what you see? Visit the ' +\n",
              "            '<a target=\"_blank\" href=https://colab.research.google.com/notebooks/data_table.ipynb>data table notebook</a>'\n",
              "            + ' to learn more about interactive tables.';\n",
              "          element.innerHTML = '';\n",
              "          dataTable['output_type'] = 'display_data';\n",
              "          await google.colab.output.renderOutput(dataTable, element);\n",
              "          const docLink = document.createElement('div');\n",
              "          docLink.innerHTML = docLinkHtml;\n",
              "          element.appendChild(docLink);\n",
              "        }\n",
              "      </script>\n",
              "    </div>\n",
              "  </div>\n",
              "  "
            ]
          },
          "metadata": {},
          "execution_count": 2
        }
      ]
    },
    {
      "cell_type": "markdown",
      "metadata": {
        "id": "qVefs7ugxWDp"
      },
      "source": [
        "Let's check general information about dataset."
      ]
    },
    {
      "cell_type": "code",
      "metadata": {
        "id": "r-jDos65oTJE",
        "outputId": "db3ecd4d-3d35-4612-9924-e2c01b46a9d7",
        "colab": {
          "base_uri": "https://localhost:8080/"
        }
      },
      "source": [
        "df.info()"
      ],
      "execution_count": 3,
      "outputs": [
        {
          "output_type": "stream",
          "name": "stdout",
          "text": [
            "<class 'pandas.core.frame.DataFrame'>\n",
            "Int64Index: 1010 entries, 0 to 1009\n",
            "Data columns (total 6 columns):\n",
            " #   Column  Non-Null Count  Dtype  \n",
            "---  ------  --------------  -----  \n",
            " 0   carat   956 non-null    float64\n",
            " 1   cut     980 non-null    object \n",
            " 2   price   983 non-null    float64\n",
            " 3   x       954 non-null    float64\n",
            " 4   y       936 non-null    object \n",
            " 5   z       1005 non-null   float64\n",
            "dtypes: float64(4), object(2)\n",
            "memory usage: 55.2+ KB\n"
          ]
        }
      ]
    },
    {
      "cell_type": "markdown",
      "metadata": {
        "id": "JECIM8Le5DRb"
      },
      "source": [
        "We see that we have 1010 rows but all of them contains some missing values. We can't work with this kind of dataset so we need to fix this problem."
      ]
    },
    {
      "cell_type": "markdown",
      "metadata": {
        "id": "upGNAlcN5x-0"
      },
      "source": [
        "At first we need to delete duplicate values, working on the same value for twice, needs more resources."
      ]
    },
    {
      "cell_type": "code",
      "metadata": {
        "id": "oL_PRgJPA1nn",
        "outputId": "a1479401-b6c5-4f8a-919c-419e72635648",
        "colab": {
          "base_uri": "https://localhost:8080/"
        }
      },
      "source": [
        "df.drop_duplicates(inplace=True)\n",
        "df.shape"
      ],
      "execution_count": 4,
      "outputs": [
        {
          "output_type": "execute_result",
          "data": {
            "text/plain": [
              "(1001, 6)"
            ]
          },
          "metadata": {},
          "execution_count": 4
        }
      ]
    },
    {
      "cell_type": "markdown",
      "metadata": {
        "id": "DGAJA0E4DYY7"
      },
      "source": [
        "So we had 9 duplicate values"
      ]
    },
    {
      "cell_type": "markdown",
      "metadata": {
        "id": "iqLyFOGdDktT"
      },
      "source": [
        "If we have lots of missing values in any row or column, we should delete such row/column. Deleting row is not very dangerous operation because usually we have lots of rows, but deleting a column can be dangerous because each column is a feature and has some information, if we delete the column it means that we delete some feature. In our case we don't have much missing values so we don't need to delete any column."
      ]
    },
    {
      "cell_type": "markdown",
      "metadata": {
        "id": "Vpel28NBp2K9"
      },
      "source": [
        "Let's discuss rows. We have 6 features, if 4 or more of them is empty for a row, this row doesn't have any value and it's better if we delete it. If we fill with missing values, it may cause more problem than just deleting it(because we have lots of rows)."
      ]
    },
    {
      "cell_type": "code",
      "metadata": {
        "id": "T9jsEvYtmIRs",
        "outputId": "2ea29c9f-d1d1-464b-eb74-5d2c1717cc1f",
        "colab": {
          "base_uri": "https://localhost:8080/"
        }
      },
      "source": [
        "(df.isnull().sum(axis=1) > 3).sum()"
      ],
      "execution_count": 5,
      "outputs": [
        {
          "output_type": "execute_result",
          "data": {
            "text/plain": [
              "15"
            ]
          },
          "metadata": {},
          "execution_count": 5
        }
      ]
    },
    {
      "cell_type": "markdown",
      "metadata": {
        "id": "UYjBCDXyqLzg"
      },
      "source": [
        "We have 15 rows that contains 4 or more missing values, 15 is not a big number because we have around 1000 rows so we can delete this 15 rows."
      ]
    },
    {
      "cell_type": "code",
      "metadata": {
        "id": "FOD28n_w3KCz",
        "outputId": "95404375-e8b1-4548-cfb6-3816db43e23a",
        "colab": {
          "base_uri": "https://localhost:8080/",
          "height": 424
        }
      },
      "source": [
        "to_drop = df[df.isnull().sum(axis=1) > 3].index\n",
        "df.drop(index=to_drop, inplace=True)\n",
        "df"
      ],
      "execution_count": 6,
      "outputs": [
        {
          "output_type": "execute_result",
          "data": {
            "text/plain": [
              "      carat        cut    price     x     y     z\n",
              "0      2.19       Good  13978.0  8.26  8.17  5.23\n",
              "1      1.22      Ideal   5099.0  6.89  6.95  4.22\n",
              "2      0.70      Ideal   2874.0  5.77  5.73  3.51\n",
              "3      0.40  Very Good   1033.0   NaN  4.76  2.90\n",
              "4      1.03      Ideal   5037.0  6.54   6.5  3.97\n",
              "...     ...        ...      ...   ...   ...   ...\n",
              "996    0.40      Ideal   1050.0  4.77  4.75  2.92\n",
              "997    0.32        NaN    672.0  4.42  4.39  2.66\n",
              "998    1.23      Ideal  13034.0  6.95  7.03  4.19\n",
              "999    1.41  Very Good   7339.0  7.36  7.44  4.33\n",
              "1005   1.08      Ideal   5172.0  6.54  6.61  4.07\n",
              "\n",
              "[986 rows x 6 columns]"
            ],
            "text/html": [
              "\n",
              "  <div id=\"df-ea6475ea-4d78-4890-8b70-75b1c0b99181\">\n",
              "    <div class=\"colab-df-container\">\n",
              "      <div>\n",
              "<style scoped>\n",
              "    .dataframe tbody tr th:only-of-type {\n",
              "        vertical-align: middle;\n",
              "    }\n",
              "\n",
              "    .dataframe tbody tr th {\n",
              "        vertical-align: top;\n",
              "    }\n",
              "\n",
              "    .dataframe thead th {\n",
              "        text-align: right;\n",
              "    }\n",
              "</style>\n",
              "<table border=\"1\" class=\"dataframe\">\n",
              "  <thead>\n",
              "    <tr style=\"text-align: right;\">\n",
              "      <th></th>\n",
              "      <th>carat</th>\n",
              "      <th>cut</th>\n",
              "      <th>price</th>\n",
              "      <th>x</th>\n",
              "      <th>y</th>\n",
              "      <th>z</th>\n",
              "    </tr>\n",
              "  </thead>\n",
              "  <tbody>\n",
              "    <tr>\n",
              "      <th>0</th>\n",
              "      <td>2.19</td>\n",
              "      <td>Good</td>\n",
              "      <td>13978.0</td>\n",
              "      <td>8.26</td>\n",
              "      <td>8.17</td>\n",
              "      <td>5.23</td>\n",
              "    </tr>\n",
              "    <tr>\n",
              "      <th>1</th>\n",
              "      <td>1.22</td>\n",
              "      <td>Ideal</td>\n",
              "      <td>5099.0</td>\n",
              "      <td>6.89</td>\n",
              "      <td>6.95</td>\n",
              "      <td>4.22</td>\n",
              "    </tr>\n",
              "    <tr>\n",
              "      <th>2</th>\n",
              "      <td>0.70</td>\n",
              "      <td>Ideal</td>\n",
              "      <td>2874.0</td>\n",
              "      <td>5.77</td>\n",
              "      <td>5.73</td>\n",
              "      <td>3.51</td>\n",
              "    </tr>\n",
              "    <tr>\n",
              "      <th>3</th>\n",
              "      <td>0.40</td>\n",
              "      <td>Very Good</td>\n",
              "      <td>1033.0</td>\n",
              "      <td>NaN</td>\n",
              "      <td>4.76</td>\n",
              "      <td>2.90</td>\n",
              "    </tr>\n",
              "    <tr>\n",
              "      <th>4</th>\n",
              "      <td>1.03</td>\n",
              "      <td>Ideal</td>\n",
              "      <td>5037.0</td>\n",
              "      <td>6.54</td>\n",
              "      <td>6.5</td>\n",
              "      <td>3.97</td>\n",
              "    </tr>\n",
              "    <tr>\n",
              "      <th>...</th>\n",
              "      <td>...</td>\n",
              "      <td>...</td>\n",
              "      <td>...</td>\n",
              "      <td>...</td>\n",
              "      <td>...</td>\n",
              "      <td>...</td>\n",
              "    </tr>\n",
              "    <tr>\n",
              "      <th>996</th>\n",
              "      <td>0.40</td>\n",
              "      <td>Ideal</td>\n",
              "      <td>1050.0</td>\n",
              "      <td>4.77</td>\n",
              "      <td>4.75</td>\n",
              "      <td>2.92</td>\n",
              "    </tr>\n",
              "    <tr>\n",
              "      <th>997</th>\n",
              "      <td>0.32</td>\n",
              "      <td>NaN</td>\n",
              "      <td>672.0</td>\n",
              "      <td>4.42</td>\n",
              "      <td>4.39</td>\n",
              "      <td>2.66</td>\n",
              "    </tr>\n",
              "    <tr>\n",
              "      <th>998</th>\n",
              "      <td>1.23</td>\n",
              "      <td>Ideal</td>\n",
              "      <td>13034.0</td>\n",
              "      <td>6.95</td>\n",
              "      <td>7.03</td>\n",
              "      <td>4.19</td>\n",
              "    </tr>\n",
              "    <tr>\n",
              "      <th>999</th>\n",
              "      <td>1.41</td>\n",
              "      <td>Very Good</td>\n",
              "      <td>7339.0</td>\n",
              "      <td>7.36</td>\n",
              "      <td>7.44</td>\n",
              "      <td>4.33</td>\n",
              "    </tr>\n",
              "    <tr>\n",
              "      <th>1005</th>\n",
              "      <td>1.08</td>\n",
              "      <td>Ideal</td>\n",
              "      <td>5172.0</td>\n",
              "      <td>6.54</td>\n",
              "      <td>6.61</td>\n",
              "      <td>4.07</td>\n",
              "    </tr>\n",
              "  </tbody>\n",
              "</table>\n",
              "<p>986 rows × 6 columns</p>\n",
              "</div>\n",
              "      <button class=\"colab-df-convert\" onclick=\"convertToInteractive('df-ea6475ea-4d78-4890-8b70-75b1c0b99181')\"\n",
              "              title=\"Convert this dataframe to an interactive table.\"\n",
              "              style=\"display:none;\">\n",
              "        \n",
              "  <svg xmlns=\"http://www.w3.org/2000/svg\" height=\"24px\"viewBox=\"0 0 24 24\"\n",
              "       width=\"24px\">\n",
              "    <path d=\"M0 0h24v24H0V0z\" fill=\"none\"/>\n",
              "    <path d=\"M18.56 5.44l.94 2.06.94-2.06 2.06-.94-2.06-.94-.94-2.06-.94 2.06-2.06.94zm-11 1L8.5 8.5l.94-2.06 2.06-.94-2.06-.94L8.5 2.5l-.94 2.06-2.06.94zm10 10l.94 2.06.94-2.06 2.06-.94-2.06-.94-.94-2.06-.94 2.06-2.06.94z\"/><path d=\"M17.41 7.96l-1.37-1.37c-.4-.4-.92-.59-1.43-.59-.52 0-1.04.2-1.43.59L10.3 9.45l-7.72 7.72c-.78.78-.78 2.05 0 2.83L4 21.41c.39.39.9.59 1.41.59.51 0 1.02-.2 1.41-.59l7.78-7.78 2.81-2.81c.8-.78.8-2.07 0-2.86zM5.41 20L4 18.59l7.72-7.72 1.47 1.35L5.41 20z\"/>\n",
              "  </svg>\n",
              "      </button>\n",
              "      \n",
              "  <style>\n",
              "    .colab-df-container {\n",
              "      display:flex;\n",
              "      flex-wrap:wrap;\n",
              "      gap: 12px;\n",
              "    }\n",
              "\n",
              "    .colab-df-convert {\n",
              "      background-color: #E8F0FE;\n",
              "      border: none;\n",
              "      border-radius: 50%;\n",
              "      cursor: pointer;\n",
              "      display: none;\n",
              "      fill: #1967D2;\n",
              "      height: 32px;\n",
              "      padding: 0 0 0 0;\n",
              "      width: 32px;\n",
              "    }\n",
              "\n",
              "    .colab-df-convert:hover {\n",
              "      background-color: #E2EBFA;\n",
              "      box-shadow: 0px 1px 2px rgba(60, 64, 67, 0.3), 0px 1px 3px 1px rgba(60, 64, 67, 0.15);\n",
              "      fill: #174EA6;\n",
              "    }\n",
              "\n",
              "    [theme=dark] .colab-df-convert {\n",
              "      background-color: #3B4455;\n",
              "      fill: #D2E3FC;\n",
              "    }\n",
              "\n",
              "    [theme=dark] .colab-df-convert:hover {\n",
              "      background-color: #434B5C;\n",
              "      box-shadow: 0px 1px 3px 1px rgba(0, 0, 0, 0.15);\n",
              "      filter: drop-shadow(0px 1px 2px rgba(0, 0, 0, 0.3));\n",
              "      fill: #FFFFFF;\n",
              "    }\n",
              "  </style>\n",
              "\n",
              "      <script>\n",
              "        const buttonEl =\n",
              "          document.querySelector('#df-ea6475ea-4d78-4890-8b70-75b1c0b99181 button.colab-df-convert');\n",
              "        buttonEl.style.display =\n",
              "          google.colab.kernel.accessAllowed ? 'block' : 'none';\n",
              "\n",
              "        async function convertToInteractive(key) {\n",
              "          const element = document.querySelector('#df-ea6475ea-4d78-4890-8b70-75b1c0b99181');\n",
              "          const dataTable =\n",
              "            await google.colab.kernel.invokeFunction('convertToInteractive',\n",
              "                                                     [key], {});\n",
              "          if (!dataTable) return;\n",
              "\n",
              "          const docLinkHtml = 'Like what you see? Visit the ' +\n",
              "            '<a target=\"_blank\" href=https://colab.research.google.com/notebooks/data_table.ipynb>data table notebook</a>'\n",
              "            + ' to learn more about interactive tables.';\n",
              "          element.innerHTML = '';\n",
              "          dataTable['output_type'] = 'display_data';\n",
              "          await google.colab.output.renderOutput(dataTable, element);\n",
              "          const docLink = document.createElement('div');\n",
              "          docLink.innerHTML = docLinkHtml;\n",
              "          element.appendChild(docLink);\n",
              "        }\n",
              "      </script>\n",
              "    </div>\n",
              "  </div>\n",
              "  "
            ]
          },
          "metadata": {},
          "execution_count": 6
        }
      ]
    },
    {
      "cell_type": "markdown",
      "metadata": {
        "id": "_cNEWvcZkpPh"
      },
      "source": [
        "We should care about missing values in our target column too. If we fill iit with wrong values, our model will learn from wrong dataset so it's better if we delete such values. "
      ]
    },
    {
      "cell_type": "markdown",
      "metadata": {
        "id": "Ok54r9QgrNgL"
      },
      "source": [
        "Our target value is price:"
      ]
    },
    {
      "cell_type": "code",
      "metadata": {
        "id": "d0yJ80_qscsQ",
        "outputId": "c0be7e6a-a93d-423f-feb8-7935df951d70",
        "colab": {
          "base_uri": "https://localhost:8080/"
        }
      },
      "source": [
        "df['price'].isnull().sum()"
      ],
      "execution_count": 7,
      "outputs": [
        {
          "output_type": "execute_result",
          "data": {
            "text/plain": [
              "17"
            ]
          },
          "metadata": {},
          "execution_count": 7
        }
      ]
    },
    {
      "cell_type": "markdown",
      "metadata": {
        "id": "7thq9jmzrW2Q"
      },
      "source": [
        "We have 17 missing values, let's delete them:"
      ]
    },
    {
      "cell_type": "code",
      "metadata": {
        "id": "wEBo-iCNrS2n",
        "outputId": "47ce16dc-78a6-41a9-e1f8-2812e90d92ec",
        "colab": {
          "base_uri": "https://localhost:8080/",
          "height": 424
        }
      },
      "source": [
        "to_drop = df[df['price'].isnull()].index\n",
        "df.drop(index=to_drop, inplace=True)\n",
        "df"
      ],
      "execution_count": 8,
      "outputs": [
        {
          "output_type": "execute_result",
          "data": {
            "text/plain": [
              "      carat        cut    price     x     y     z\n",
              "0      2.19       Good  13978.0  8.26  8.17  5.23\n",
              "1      1.22      Ideal   5099.0  6.89  6.95  4.22\n",
              "2      0.70      Ideal   2874.0  5.77  5.73  3.51\n",
              "3      0.40  Very Good   1033.0   NaN  4.76  2.90\n",
              "4      1.03      Ideal   5037.0  6.54   6.5  3.97\n",
              "...     ...        ...      ...   ...   ...   ...\n",
              "996    0.40      Ideal   1050.0  4.77  4.75  2.92\n",
              "997    0.32        NaN    672.0  4.42  4.39  2.66\n",
              "998    1.23      Ideal  13034.0  6.95  7.03  4.19\n",
              "999    1.41  Very Good   7339.0  7.36  7.44  4.33\n",
              "1005   1.08      Ideal   5172.0  6.54  6.61  4.07\n",
              "\n",
              "[969 rows x 6 columns]"
            ],
            "text/html": [
              "\n",
              "  <div id=\"df-70cd382f-00ca-4f7f-ab1b-90b42a8c64df\">\n",
              "    <div class=\"colab-df-container\">\n",
              "      <div>\n",
              "<style scoped>\n",
              "    .dataframe tbody tr th:only-of-type {\n",
              "        vertical-align: middle;\n",
              "    }\n",
              "\n",
              "    .dataframe tbody tr th {\n",
              "        vertical-align: top;\n",
              "    }\n",
              "\n",
              "    .dataframe thead th {\n",
              "        text-align: right;\n",
              "    }\n",
              "</style>\n",
              "<table border=\"1\" class=\"dataframe\">\n",
              "  <thead>\n",
              "    <tr style=\"text-align: right;\">\n",
              "      <th></th>\n",
              "      <th>carat</th>\n",
              "      <th>cut</th>\n",
              "      <th>price</th>\n",
              "      <th>x</th>\n",
              "      <th>y</th>\n",
              "      <th>z</th>\n",
              "    </tr>\n",
              "  </thead>\n",
              "  <tbody>\n",
              "    <tr>\n",
              "      <th>0</th>\n",
              "      <td>2.19</td>\n",
              "      <td>Good</td>\n",
              "      <td>13978.0</td>\n",
              "      <td>8.26</td>\n",
              "      <td>8.17</td>\n",
              "      <td>5.23</td>\n",
              "    </tr>\n",
              "    <tr>\n",
              "      <th>1</th>\n",
              "      <td>1.22</td>\n",
              "      <td>Ideal</td>\n",
              "      <td>5099.0</td>\n",
              "      <td>6.89</td>\n",
              "      <td>6.95</td>\n",
              "      <td>4.22</td>\n",
              "    </tr>\n",
              "    <tr>\n",
              "      <th>2</th>\n",
              "      <td>0.70</td>\n",
              "      <td>Ideal</td>\n",
              "      <td>2874.0</td>\n",
              "      <td>5.77</td>\n",
              "      <td>5.73</td>\n",
              "      <td>3.51</td>\n",
              "    </tr>\n",
              "    <tr>\n",
              "      <th>3</th>\n",
              "      <td>0.40</td>\n",
              "      <td>Very Good</td>\n",
              "      <td>1033.0</td>\n",
              "      <td>NaN</td>\n",
              "      <td>4.76</td>\n",
              "      <td>2.90</td>\n",
              "    </tr>\n",
              "    <tr>\n",
              "      <th>4</th>\n",
              "      <td>1.03</td>\n",
              "      <td>Ideal</td>\n",
              "      <td>5037.0</td>\n",
              "      <td>6.54</td>\n",
              "      <td>6.5</td>\n",
              "      <td>3.97</td>\n",
              "    </tr>\n",
              "    <tr>\n",
              "      <th>...</th>\n",
              "      <td>...</td>\n",
              "      <td>...</td>\n",
              "      <td>...</td>\n",
              "      <td>...</td>\n",
              "      <td>...</td>\n",
              "      <td>...</td>\n",
              "    </tr>\n",
              "    <tr>\n",
              "      <th>996</th>\n",
              "      <td>0.40</td>\n",
              "      <td>Ideal</td>\n",
              "      <td>1050.0</td>\n",
              "      <td>4.77</td>\n",
              "      <td>4.75</td>\n",
              "      <td>2.92</td>\n",
              "    </tr>\n",
              "    <tr>\n",
              "      <th>997</th>\n",
              "      <td>0.32</td>\n",
              "      <td>NaN</td>\n",
              "      <td>672.0</td>\n",
              "      <td>4.42</td>\n",
              "      <td>4.39</td>\n",
              "      <td>2.66</td>\n",
              "    </tr>\n",
              "    <tr>\n",
              "      <th>998</th>\n",
              "      <td>1.23</td>\n",
              "      <td>Ideal</td>\n",
              "      <td>13034.0</td>\n",
              "      <td>6.95</td>\n",
              "      <td>7.03</td>\n",
              "      <td>4.19</td>\n",
              "    </tr>\n",
              "    <tr>\n",
              "      <th>999</th>\n",
              "      <td>1.41</td>\n",
              "      <td>Very Good</td>\n",
              "      <td>7339.0</td>\n",
              "      <td>7.36</td>\n",
              "      <td>7.44</td>\n",
              "      <td>4.33</td>\n",
              "    </tr>\n",
              "    <tr>\n",
              "      <th>1005</th>\n",
              "      <td>1.08</td>\n",
              "      <td>Ideal</td>\n",
              "      <td>5172.0</td>\n",
              "      <td>6.54</td>\n",
              "      <td>6.61</td>\n",
              "      <td>4.07</td>\n",
              "    </tr>\n",
              "  </tbody>\n",
              "</table>\n",
              "<p>969 rows × 6 columns</p>\n",
              "</div>\n",
              "      <button class=\"colab-df-convert\" onclick=\"convertToInteractive('df-70cd382f-00ca-4f7f-ab1b-90b42a8c64df')\"\n",
              "              title=\"Convert this dataframe to an interactive table.\"\n",
              "              style=\"display:none;\">\n",
              "        \n",
              "  <svg xmlns=\"http://www.w3.org/2000/svg\" height=\"24px\"viewBox=\"0 0 24 24\"\n",
              "       width=\"24px\">\n",
              "    <path d=\"M0 0h24v24H0V0z\" fill=\"none\"/>\n",
              "    <path d=\"M18.56 5.44l.94 2.06.94-2.06 2.06-.94-2.06-.94-.94-2.06-.94 2.06-2.06.94zm-11 1L8.5 8.5l.94-2.06 2.06-.94-2.06-.94L8.5 2.5l-.94 2.06-2.06.94zm10 10l.94 2.06.94-2.06 2.06-.94-2.06-.94-.94-2.06-.94 2.06-2.06.94z\"/><path d=\"M17.41 7.96l-1.37-1.37c-.4-.4-.92-.59-1.43-.59-.52 0-1.04.2-1.43.59L10.3 9.45l-7.72 7.72c-.78.78-.78 2.05 0 2.83L4 21.41c.39.39.9.59 1.41.59.51 0 1.02-.2 1.41-.59l7.78-7.78 2.81-2.81c.8-.78.8-2.07 0-2.86zM5.41 20L4 18.59l7.72-7.72 1.47 1.35L5.41 20z\"/>\n",
              "  </svg>\n",
              "      </button>\n",
              "      \n",
              "  <style>\n",
              "    .colab-df-container {\n",
              "      display:flex;\n",
              "      flex-wrap:wrap;\n",
              "      gap: 12px;\n",
              "    }\n",
              "\n",
              "    .colab-df-convert {\n",
              "      background-color: #E8F0FE;\n",
              "      border: none;\n",
              "      border-radius: 50%;\n",
              "      cursor: pointer;\n",
              "      display: none;\n",
              "      fill: #1967D2;\n",
              "      height: 32px;\n",
              "      padding: 0 0 0 0;\n",
              "      width: 32px;\n",
              "    }\n",
              "\n",
              "    .colab-df-convert:hover {\n",
              "      background-color: #E2EBFA;\n",
              "      box-shadow: 0px 1px 2px rgba(60, 64, 67, 0.3), 0px 1px 3px 1px rgba(60, 64, 67, 0.15);\n",
              "      fill: #174EA6;\n",
              "    }\n",
              "\n",
              "    [theme=dark] .colab-df-convert {\n",
              "      background-color: #3B4455;\n",
              "      fill: #D2E3FC;\n",
              "    }\n",
              "\n",
              "    [theme=dark] .colab-df-convert:hover {\n",
              "      background-color: #434B5C;\n",
              "      box-shadow: 0px 1px 3px 1px rgba(0, 0, 0, 0.15);\n",
              "      filter: drop-shadow(0px 1px 2px rgba(0, 0, 0, 0.3));\n",
              "      fill: #FFFFFF;\n",
              "    }\n",
              "  </style>\n",
              "\n",
              "      <script>\n",
              "        const buttonEl =\n",
              "          document.querySelector('#df-70cd382f-00ca-4f7f-ab1b-90b42a8c64df button.colab-df-convert');\n",
              "        buttonEl.style.display =\n",
              "          google.colab.kernel.accessAllowed ? 'block' : 'none';\n",
              "\n",
              "        async function convertToInteractive(key) {\n",
              "          const element = document.querySelector('#df-70cd382f-00ca-4f7f-ab1b-90b42a8c64df');\n",
              "          const dataTable =\n",
              "            await google.colab.kernel.invokeFunction('convertToInteractive',\n",
              "                                                     [key], {});\n",
              "          if (!dataTable) return;\n",
              "\n",
              "          const docLinkHtml = 'Like what you see? Visit the ' +\n",
              "            '<a target=\"_blank\" href=https://colab.research.google.com/notebooks/data_table.ipynb>data table notebook</a>'\n",
              "            + ' to learn more about interactive tables.';\n",
              "          element.innerHTML = '';\n",
              "          dataTable['output_type'] = 'display_data';\n",
              "          await google.colab.output.renderOutput(dataTable, element);\n",
              "          const docLink = document.createElement('div');\n",
              "          docLink.innerHTML = docLinkHtml;\n",
              "          element.appendChild(docLink);\n",
              "        }\n",
              "      </script>\n",
              "    </div>\n",
              "  </div>\n",
              "  "
            ]
          },
          "metadata": {},
          "execution_count": 8
        }
      ]
    },
    {
      "cell_type": "markdown",
      "metadata": {
        "id": "RVAVGkpor2bg"
      },
      "source": [
        "Let's consider other columns step-by-step"
      ]
    },
    {
      "cell_type": "code",
      "metadata": {
        "id": "oIJ5eSZhrtSI",
        "outputId": "12a7f9b9-2ff9-4e3c-85db-c0490e8b41b7",
        "colab": {
          "base_uri": "https://localhost:8080/"
        }
      },
      "source": [
        "df['carat'].isnull().sum()"
      ],
      "execution_count": 9,
      "outputs": [
        {
          "output_type": "execute_result",
          "data": {
            "text/plain": [
              "39"
            ]
          },
          "metadata": {},
          "execution_count": 9
        }
      ]
    },
    {
      "cell_type": "markdown",
      "metadata": {
        "id": "QUhMURabu3dC"
      },
      "source": [
        "In `carat` feature we have 39 missing values. Before we consider how to fill them, let's see their distribution."
      ]
    },
    {
      "cell_type": "code",
      "metadata": {
        "id": "JUr8kDAfsDQB",
        "outputId": "f1070b12-2784-49f5-ddab-e93346d5b4c9",
        "colab": {
          "base_uri": "https://localhost:8080/"
        }
      },
      "source": [
        "df['carat'].describe()"
      ],
      "execution_count": 10,
      "outputs": [
        {
          "output_type": "execute_result",
          "data": {
            "text/plain": [
              "count    930.000000\n",
              "mean       0.801054\n",
              "std        0.454077\n",
              "min        0.200000\n",
              "25%        0.400000\n",
              "50%        0.710000\n",
              "75%        1.047500\n",
              "max        2.470000\n",
              "Name: carat, dtype: float64"
            ]
          },
          "metadata": {},
          "execution_count": 10
        }
      ]
    },
    {
      "cell_type": "code",
      "metadata": {
        "id": "iI5dPRX1zC3Q",
        "outputId": "ed5ac395-fddd-40f8-bd71-692f533b9833",
        "colab": {
          "base_uri": "https://localhost:8080/",
          "height": 282
        }
      },
      "source": [
        "df['carat'].plot.hist()"
      ],
      "execution_count": 11,
      "outputs": [
        {
          "output_type": "execute_result",
          "data": {
            "text/plain": [
              "<matplotlib.axes._subplots.AxesSubplot at 0x7f73ad4b0850>"
            ]
          },
          "metadata": {},
          "execution_count": 11
        },
        {
          "output_type": "display_data",
          "data": {
            "text/plain": [
              "<Figure size 432x288 with 1 Axes>"
            ],
            "image/png": "[encoded data removed]"
          },
          "metadata": {
            "needs_background": "light"
          }
        }
      ]
    },
    {
      "cell_type": "markdown",
      "metadata": {
        "id": "1MeNuSJelMYO"
      },
      "source": [
        "We see that we have pretty fine distribution so we can fill missing values."
      ]
    },
    {
      "cell_type": "markdown",
      "metadata": {
        "id": "H1wZHAI6mt6e"
      },
      "source": [
        "We can fill missing values using `fillna()` method from pandas library `SimpleImputer` method from sklearn library. The most common ways to fill missing values are filling with mean/mode/median."
      ]
    },
    {
      "cell_type": "markdown",
      "metadata": {
        "id": "319JkuhT2VX3"
      },
      "source": [
        "Parameter of `fillna()` method should a number, `Series` or `DataFrame` that is used to fill missing values. If parameter is a number, than each missing value will be filled with this number. If the parameter is `Series`, than there should be (number of columns) element as it fills according to columns. If parameter is `DataFrame` - it fills according to indexes."
      ]
    },
    {
      "cell_type": "markdown",
      "metadata": {
        "id": "VA7I78Ng3Kkl"
      },
      "source": [
        "Let's fill all numeric column with it's own average value but before we do that, we need to make sure that we don't have any outliers in columns."
      ]
    },
    {
      "cell_type": "code",
      "metadata": {
        "id": "3dOUrXh412Sz",
        "outputId": "52963867-0468-4e37-caa0-e62c0d4a7c7f",
        "colab": {
          "base_uri": "https://localhost:8080/"
        }
      },
      "source": [
        "df['x'].describe()"
      ],
      "execution_count": 12,
      "outputs": [
        {
          "output_type": "execute_result",
          "data": {
            "text/plain": [
              "count     929.000000\n",
              "mean       12.165135\n",
              "std       175.890144\n",
              "min      -123.000000\n",
              "25%         4.740000\n",
              "50%         5.740000\n",
              "75%         6.550000\n",
              "max      5304.000000\n",
              "Name: x, dtype: float64"
            ]
          },
          "metadata": {},
          "execution_count": 12
        }
      ]
    },
    {
      "cell_type": "markdown",
      "metadata": {
        "id": "8H6vJTvT4Qwi"
      },
      "source": [
        "As we know x means the length of diamond so it can't have negative value but our minimum value is (-123). Let's check how many negative values do we have in this column."
      ]
    },
    {
      "cell_type": "code",
      "metadata": {
        "id": "WWZuJwGp4Kj2",
        "outputId": "8624f0d4-6ea8-4fed-f345-fd072be34812",
        "colab": {
          "base_uri": "https://localhost:8080/"
        }
      },
      "source": [
        "(df['x'] <= 0).sum()"
      ],
      "execution_count": 13,
      "outputs": [
        {
          "output_type": "execute_result",
          "data": {
            "text/plain": [
              "3"
            ]
          },
          "metadata": {},
          "execution_count": 13
        }
      ]
    },
    {
      "cell_type": "markdown",
      "metadata": {
        "id": "P236c7bt6b_h"
      },
      "source": [
        "\n",
        "We have 3 negative values, let's look at each of them:"
      ]
    },
    {
      "cell_type": "code",
      "metadata": {
        "id": "3bhlkMBN6LJU",
        "outputId": "2cd2eb53-f1f5-4baa-d94f-aaa8b9afddf4",
        "colab": {
          "base_uri": "https://localhost:8080/",
          "height": 143
        }
      },
      "source": [
        "df[df['x'] <= 0]"
      ],
      "execution_count": 14,
      "outputs": [
        {
          "output_type": "execute_result",
          "data": {
            "text/plain": [
              "     carat      cut   price      x     y     z\n",
              "610   1.66  Premium  9882.0  -22.0  7.58  4.73\n",
              "650   0.72    Ideal  2976.0    0.0  5.85  0.00\n",
              "984   0.38     Good   886.0 -123.0  4.87  2.74"
            ],
            "text/html": [
              "\n",
              "  <div id=\"df-95197523-d73f-43cb-bad4-d5889b1bc0b2\">\n",
              "    <div class=\"colab-df-container\">\n",
              "      <div>\n",
              "<style scoped>\n",
              "    .dataframe tbody tr th:only-of-type {\n",
              "        vertical-align: middle;\n",
              "    }\n",
              "\n",
              "    .dataframe tbody tr th {\n",
              "        vertical-align: top;\n",
              "    }\n",
              "\n",
              "    .dataframe thead th {\n",
              "        text-align: right;\n",
              "    }\n",
              "</style>\n",
              "<table border=\"1\" class=\"dataframe\">\n",
              "  <thead>\n",
              "    <tr style=\"text-align: right;\">\n",
              "      <th></th>\n",
              "      <th>carat</th>\n",
              "      <th>cut</th>\n",
              "      <th>price</th>\n",
              "      <th>x</th>\n",
              "      <th>y</th>\n",
              "      <th>z</th>\n",
              "    </tr>\n",
              "  </thead>\n",
              "  <tbody>\n",
              "    <tr>\n",
              "      <th>610</th>\n",
              "      <td>1.66</td>\n",
              "      <td>Premium</td>\n",
              "      <td>9882.0</td>\n",
              "      <td>-22.0</td>\n",
              "      <td>7.58</td>\n",
              "      <td>4.73</td>\n",
              "    </tr>\n",
              "    <tr>\n",
              "      <th>650</th>\n",
              "      <td>0.72</td>\n",
              "      <td>Ideal</td>\n",
              "      <td>2976.0</td>\n",
              "      <td>0.0</td>\n",
              "      <td>5.85</td>\n",
              "      <td>0.00</td>\n",
              "    </tr>\n",
              "    <tr>\n",
              "      <th>984</th>\n",
              "      <td>0.38</td>\n",
              "      <td>Good</td>\n",
              "      <td>886.0</td>\n",
              "      <td>-123.0</td>\n",
              "      <td>4.87</td>\n",
              "      <td>2.74</td>\n",
              "    </tr>\n",
              "  </tbody>\n",
              "</table>\n",
              "</div>\n",
              "      <button class=\"colab-df-convert\" onclick=\"convertToInteractive('df-95197523-d73f-43cb-bad4-d5889b1bc0b2')\"\n",
              "              title=\"Convert this dataframe to an interactive table.\"\n",
              "              style=\"display:none;\">\n",
              "        \n",
              "  <svg xmlns=\"http://www.w3.org/2000/svg\" height=\"24px\"viewBox=\"0 0 24 24\"\n",
              "       width=\"24px\">\n",
              "    <path d=\"M0 0h24v24H0V0z\" fill=\"none\"/>\n",
              "    <path d=\"M18.56 5.44l.94 2.06.94-2.06 2.06-.94-2.06-.94-.94-2.06-.94 2.06-2.06.94zm-11 1L8.5 8.5l.94-2.06 2.06-.94-2.06-.94L8.5 2.5l-.94 2.06-2.06.94zm10 10l.94 2.06.94-2.06 2.06-.94-2.06-.94-.94-2.06-.94 2.06-2.06.94z\"/><path d=\"M17.41 7.96l-1.37-1.37c-.4-.4-.92-.59-1.43-.59-.52 0-1.04.2-1.43.59L10.3 9.45l-7.72 7.72c-.78.78-.78 2.05 0 2.83L4 21.41c.39.39.9.59 1.41.59.51 0 1.02-.2 1.41-.59l7.78-7.78 2.81-2.81c.8-.78.8-2.07 0-2.86zM5.41 20L4 18.59l7.72-7.72 1.47 1.35L5.41 20z\"/>\n",
              "  </svg>\n",
              "      </button>\n",
              "      \n",
              "  <style>\n",
              "    .colab-df-container {\n",
              "      display:flex;\n",
              "      flex-wrap:wrap;\n",
              "      gap: 12px;\n",
              "    }\n",
              "\n",
              "    .colab-df-convert {\n",
              "      background-color: #E8F0FE;\n",
              "      border: none;\n",
              "      border-radius: 50%;\n",
              "      cursor: pointer;\n",
              "      display: none;\n",
              "      fill: #1967D2;\n",
              "      height: 32px;\n",
              "      padding: 0 0 0 0;\n",
              "      width: 32px;\n",
              "    }\n",
              "\n",
              "    .colab-df-convert:hover {\n",
              "      background-color: #E2EBFA;\n",
              "      box-shadow: 0px 1px 2px rgba(60, 64, 67, 0.3), 0px 1px 3px 1px rgba(60, 64, 67, 0.15);\n",
              "      fill: #174EA6;\n",
              "    }\n",
              "\n",
              "    [theme=dark] .colab-df-convert {\n",
              "      background-color: #3B4455;\n",
              "      fill: #D2E3FC;\n",
              "    }\n",
              "\n",
              "    [theme=dark] .colab-df-convert:hover {\n",
              "      background-color: #434B5C;\n",
              "      box-shadow: 0px 1px 3px 1px rgba(0, 0, 0, 0.15);\n",
              "      filter: drop-shadow(0px 1px 2px rgba(0, 0, 0, 0.3));\n",
              "      fill: #FFFFFF;\n",
              "    }\n",
              "  </style>\n",
              "\n",
              "      <script>\n",
              "        const buttonEl =\n",
              "          document.querySelector('#df-95197523-d73f-43cb-bad4-d5889b1bc0b2 button.colab-df-convert');\n",
              "        buttonEl.style.display =\n",
              "          google.colab.kernel.accessAllowed ? 'block' : 'none';\n",
              "\n",
              "        async function convertToInteractive(key) {\n",
              "          const element = document.querySelector('#df-95197523-d73f-43cb-bad4-d5889b1bc0b2');\n",
              "          const dataTable =\n",
              "            await google.colab.kernel.invokeFunction('convertToInteractive',\n",
              "                                                     [key], {});\n",
              "          if (!dataTable) return;\n",
              "\n",
              "          const docLinkHtml = 'Like what you see? Visit the ' +\n",
              "            '<a target=\"_blank\" href=https://colab.research.google.com/notebooks/data_table.ipynb>data table notebook</a>'\n",
              "            + ' to learn more about interactive tables.';\n",
              "          element.innerHTML = '';\n",
              "          dataTable['output_type'] = 'display_data';\n",
              "          await google.colab.output.renderOutput(dataTable, element);\n",
              "          const docLink = document.createElement('div');\n",
              "          docLink.innerHTML = docLinkHtml;\n",
              "          element.appendChild(docLink);\n",
              "        }\n",
              "      </script>\n",
              "    </div>\n",
              "  </div>\n",
              "  "
            ]
          },
          "metadata": {},
          "execution_count": 14
        }
      ]
    },
    {
      "cell_type": "markdown",
      "metadata": {
        "id": "qiDFZb_16fsD"
      },
      "source": [
        "We can delete this rows but as they have some logical values in other 5 columns(4 in case of 650 row), we can just assign zero value to this three rows and than fill them with other missing values."
      ]
    },
    {
      "cell_type": "code",
      "metadata": {
        "id": "Y-NIudVR6P6S"
      },
      "source": [
        "import numpy as np\n",
        "\n",
        "ind = df[df['x'] <= 0].index\n",
        "df.loc[ind, 'x'] = np.NaN"
      ],
      "execution_count": 15,
      "outputs": []
    },
    {
      "cell_type": "markdown",
      "metadata": {
        "id": "RuUQpETWBX5A"
      },
      "source": [
        "We don't have inapropriate values anymore so now we can think about outliers. Average of this column is 12 and 75% percentile is 6.55, maximum value is 5304 that seems like to much for brilliant length. We can say that there won't be any briliant with more than 50mm length. "
      ]
    },
    {
      "cell_type": "code",
      "metadata": {
        "id": "V9LyhzJUDkfi",
        "outputId": "23296aca-fb19-4530-b5c8-61cc08591ab5",
        "colab": {
          "base_uri": "https://localhost:8080/",
          "height": 112
        }
      },
      "source": [
        "df[df['x'] > 50]"
      ],
      "execution_count": 16,
      "outputs": [
        {
          "output_type": "execute_result",
          "data": {
            "text/plain": [
              "     carat      cut  price       x     y     z\n",
              "556   0.32  Premium  702.0  5304.0  4.43  2.67\n",
              "684   0.34    Ideal  961.0   817.0  4.49  2.82"
            ],
            "text/html": [
              "\n",
              "  <div id=\"df-744bbdf9-2d1a-4d76-baef-c965582c7878\">\n",
              "    <div class=\"colab-df-container\">\n",
              "      <div>\n",
              "<style scoped>\n",
              "    .dataframe tbody tr th:only-of-type {\n",
              "        vertical-align: middle;\n",
              "    }\n",
              "\n",
              "    .dataframe tbody tr th {\n",
              "        vertical-align: top;\n",
              "    }\n",
              "\n",
              "    .dataframe thead th {\n",
              "        text-align: right;\n",
              "    }\n",
              "</style>\n",
              "<table border=\"1\" class=\"dataframe\">\n",
              "  <thead>\n",
              "    <tr style=\"text-align: right;\">\n",
              "      <th></th>\n",
              "      <th>carat</th>\n",
              "      <th>cut</th>\n",
              "      <th>price</th>\n",
              "      <th>x</th>\n",
              "      <th>y</th>\n",
              "      <th>z</th>\n",
              "    </tr>\n",
              "  </thead>\n",
              "  <tbody>\n",
              "    <tr>\n",
              "      <th>556</th>\n",
              "      <td>0.32</td>\n",
              "      <td>Premium</td>\n",
              "      <td>702.0</td>\n",
              "      <td>5304.0</td>\n",
              "      <td>4.43</td>\n",
              "      <td>2.67</td>\n",
              "    </tr>\n",
              "    <tr>\n",
              "      <th>684</th>\n",
              "      <td>0.34</td>\n",
              "      <td>Ideal</td>\n",
              "      <td>961.0</td>\n",
              "      <td>817.0</td>\n",
              "      <td>4.49</td>\n",
              "      <td>2.82</td>\n",
              "    </tr>\n",
              "  </tbody>\n",
              "</table>\n",
              "</div>\n",
              "      <button class=\"colab-df-convert\" onclick=\"convertToInteractive('df-744bbdf9-2d1a-4d76-baef-c965582c7878')\"\n",
              "              title=\"Convert this dataframe to an interactive table.\"\n",
              "              style=\"display:none;\">\n",
              "        \n",
              "  <svg xmlns=\"http://www.w3.org/2000/svg\" height=\"24px\"viewBox=\"0 0 24 24\"\n",
              "       width=\"24px\">\n",
              "    <path d=\"M0 0h24v24H0V0z\" fill=\"none\"/>\n",
              "    <path d=\"M18.56 5.44l.94 2.06.94-2.06 2.06-.94-2.06-.94-.94-2.06-.94 2.06-2.06.94zm-11 1L8.5 8.5l.94-2.06 2.06-.94-2.06-.94L8.5 2.5l-.94 2.06-2.06.94zm10 10l.94 2.06.94-2.06 2.06-.94-2.06-.94-.94-2.06-.94 2.06-2.06.94z\"/><path d=\"M17.41 7.96l-1.37-1.37c-.4-.4-.92-.59-1.43-.59-.52 0-1.04.2-1.43.59L10.3 9.45l-7.72 7.72c-.78.78-.78 2.05 0 2.83L4 21.41c.39.39.9.59 1.41.59.51 0 1.02-.2 1.41-.59l7.78-7.78 2.81-2.81c.8-.78.8-2.07 0-2.86zM5.41 20L4 18.59l7.72-7.72 1.47 1.35L5.41 20z\"/>\n",
              "  </svg>\n",
              "      </button>\n",
              "      \n",
              "  <style>\n",
              "    .colab-df-container {\n",
              "      display:flex;\n",
              "      flex-wrap:wrap;\n",
              "      gap: 12px;\n",
              "    }\n",
              "\n",
              "    .colab-df-convert {\n",
              "      background-color: #E8F0FE;\n",
              "      border: none;\n",
              "      border-radius: 50%;\n",
              "      cursor: pointer;\n",
              "      display: none;\n",
              "      fill: #1967D2;\n",
              "      height: 32px;\n",
              "      padding: 0 0 0 0;\n",
              "      width: 32px;\n",
              "    }\n",
              "\n",
              "    .colab-df-convert:hover {\n",
              "      background-color: #E2EBFA;\n",
              "      box-shadow: 0px 1px 2px rgba(60, 64, 67, 0.3), 0px 1px 3px 1px rgba(60, 64, 67, 0.15);\n",
              "      fill: #174EA6;\n",
              "    }\n",
              "\n",
              "    [theme=dark] .colab-df-convert {\n",
              "      background-color: #3B4455;\n",
              "      fill: #D2E3FC;\n",
              "    }\n",
              "\n",
              "    [theme=dark] .colab-df-convert:hover {\n",
              "      background-color: #434B5C;\n",
              "      box-shadow: 0px 1px 3px 1px rgba(0, 0, 0, 0.15);\n",
              "      filter: drop-shadow(0px 1px 2px rgba(0, 0, 0, 0.3));\n",
              "      fill: #FFFFFF;\n",
              "    }\n",
              "  </style>\n",
              "\n",
              "      <script>\n",
              "        const buttonEl =\n",
              "          document.querySelector('#df-744bbdf9-2d1a-4d76-baef-c965582c7878 button.colab-df-convert');\n",
              "        buttonEl.style.display =\n",
              "          google.colab.kernel.accessAllowed ? 'block' : 'none';\n",
              "\n",
              "        async function convertToInteractive(key) {\n",
              "          const element = document.querySelector('#df-744bbdf9-2d1a-4d76-baef-c965582c7878');\n",
              "          const dataTable =\n",
              "            await google.colab.kernel.invokeFunction('convertToInteractive',\n",
              "                                                     [key], {});\n",
              "          if (!dataTable) return;\n",
              "\n",
              "          const docLinkHtml = 'Like what you see? Visit the ' +\n",
              "            '<a target=\"_blank\" href=https://colab.research.google.com/notebooks/data_table.ipynb>data table notebook</a>'\n",
              "            + ' to learn more about interactive tables.';\n",
              "          element.innerHTML = '';\n",
              "          dataTable['output_type'] = 'display_data';\n",
              "          await google.colab.output.renderOutput(dataTable, element);\n",
              "          const docLink = document.createElement('div');\n",
              "          docLink.innerHTML = docLinkHtml;\n",
              "          element.appendChild(docLink);\n",
              "        }\n",
              "      </script>\n",
              "    </div>\n",
              "  </div>\n",
              "  "
            ]
          },
          "metadata": {},
          "execution_count": 16
        }
      ]
    },
    {
      "cell_type": "markdown",
      "metadata": {
        "id": "wN9nheA8DTWF"
      },
      "source": [
        "Let's discuss these rows. Even if 817mm and 5304mm are real values, than their prices are not real, so they seems like outliers."
      ]
    },
    {
      "cell_type": "markdown",
      "metadata": {
        "id": "r-SK_s0DElZ-"
      },
      "source": [
        "We can visualize outliers:"
      ]
    },
    {
      "cell_type": "code",
      "metadata": {
        "id": "MXOVVfEzBQ4b",
        "outputId": "ed0b669a-94ba-4fbb-bfb9-655d8fad78f9",
        "colab": {
          "base_uri": "https://localhost:8080/",
          "height": 282
        }
      },
      "source": [
        "df['x'].plot(marker='o', linestyle='')"
      ],
      "execution_count": 17,
      "outputs": [
        {
          "output_type": "execute_result",
          "data": {
            "text/plain": [
              "<matplotlib.axes._subplots.AxesSubplot at 0x7f73ad393050>"
            ]
          },
          "metadata": {},
          "execution_count": 17
        },
        {
          "output_type": "display_data",
          "data": {
            "text/plain": [
              "<Figure size 432x288 with 1 Axes>"
            ],
            "image/png": "[encoded data removed]"
          },
          "metadata": {
            "needs_background": "light"
          }
        }
      ]
    },
    {
      "cell_type": "markdown",
      "metadata": {
        "id": "_dDkmmcbEvR1"
      },
      "source": [
        "Or we can look at graph length vs price:"
      ]
    },
    {
      "cell_type": "code",
      "metadata": {
        "id": "xAzhm-7SDBa8",
        "outputId": "837955ec-56ad-4ff5-f5f5-88dbf66c5191",
        "colab": {
          "base_uri": "https://localhost:8080/",
          "height": 296
        }
      },
      "source": [
        "df.plot.scatter(x='x', y='price', marker='o')"
      ],
      "execution_count": 18,
      "outputs": [
        {
          "output_type": "execute_result",
          "data": {
            "text/plain": [
              "<matplotlib.axes._subplots.AxesSubplot at 0x7f73aceb6290>"
            ]
          },
          "metadata": {},
          "execution_count": 18
        },
        {
          "output_type": "display_data",
          "data": {
            "text/plain": [
              "<Figure size 432x288 with 1 Axes>"
            ],
            "image/png": "[encoded data removed]"
          },
          "metadata": {
            "needs_background": "light"
          }
        }
      ]
    },
    {
      "cell_type": "markdown",
      "metadata": {
        "id": "3qYbH8soE8xj"
      },
      "source": [
        "Let's assign zero values to outliers:"
      ]
    },
    {
      "cell_type": "code",
      "metadata": {
        "id": "Bqz7hMt2ExOR"
      },
      "source": [
        "ind = df[df['x'] > 50].index\n",
        "df.loc[ind, 'x'] = np.NaN"
      ],
      "execution_count": 19,
      "outputs": []
    },
    {
      "cell_type": "markdown",
      "metadata": {
        "id": "ic36rQVCKERv"
      },
      "source": [
        "plot histogram:"
      ]
    },
    {
      "cell_type": "code",
      "metadata": {
        "id": "vOdFU0i4Ic2P",
        "outputId": "966b59de-9691-49eb-a2a6-aa9dbd442995",
        "colab": {
          "base_uri": "https://localhost:8080/",
          "height": 282
        }
      },
      "source": [
        "df['x'].plot.hist()"
      ],
      "execution_count": 20,
      "outputs": [
        {
          "output_type": "execute_result",
          "data": {
            "text/plain": [
              "<matplotlib.axes._subplots.AxesSubplot at 0x7f73acea4410>"
            ]
          },
          "metadata": {},
          "execution_count": 20
        },
        {
          "output_type": "display_data",
          "data": {
            "text/plain": [
              "<Figure size 432x288 with 1 Axes>"
            ],
            "image/png": "[encoded data removed]"
          },
          "metadata": {
            "needs_background": "light"
          }
        }
      ]
    },
    {
      "cell_type": "markdown",
      "metadata": {
        "id": "pWfoX5HGKQ1G"
      },
      "source": [
        "Seems like we don't have any problematic values in `x` feature so we can continue with `y`."
      ]
    },
    {
      "cell_type": "code",
      "metadata": {
        "id": "WCQ-rOF1KK6Z",
        "outputId": "45ea7f66-f58a-4548-fe9b-53e2d3217f51",
        "colab": {
          "base_uri": "https://localhost:8080/"
        }
      },
      "source": [
        "df['y'].describe()"
      ],
      "execution_count": 21,
      "outputs": [
        {
          "output_type": "execute_result",
          "data": {
            "text/plain": [
              "count      911\n",
              "unique     349\n",
              "top       6.21\n",
              "freq         8\n",
              "Name: y, dtype: object"
            ]
          },
          "metadata": {},
          "execution_count": 21
        }
      ]
    },
    {
      "cell_type": "markdown",
      "metadata": {
        "id": "0HmxPLnsKnW5"
      },
      "source": [
        "First of all we see that type of `y` is `object` instead of `float64`. The reason why this happened can be a string value, if one of the values is string, than pandas will store whole column as string."
      ]
    },
    {
      "cell_type": "code",
      "metadata": {
        "id": "xdQGkB4jKiA5",
        "outputId": "68d1e19e-33b7-4115-b657-ebe8ebacbc74",
        "colab": {
          "base_uri": "https://localhost:8080/",
          "height": 311
        }
      },
      "source": [
        "df['y'].astype(np.float64)"
      ],
      "execution_count": 22,
      "outputs": [
        {
          "output_type": "error",
          "ename": "ValueError",
          "evalue": "ignored",
          "traceback": [
            "\u001b[0;31m---------------------------------------------------------------------------\u001b[0m",
            "\u001b[0;31mValueError\u001b[0m                                Traceback (most recent call last)",
            "\u001b[0;32m<ipython-input-22-e346684ba2df>\u001b[0m in \u001b[0;36m<module>\u001b[0;34m()\u001b[0m\n\u001b[0;32m----> 1\u001b[0;31m \u001b[0mdf\u001b[0m\u001b[0;34m[\u001b[0m\u001b[0;34m'y'\u001b[0m\u001b[0;34m]\u001b[0m\u001b[0;34m.\u001b[0m\u001b[0mastype\u001b[0m\u001b[0;34m(\u001b[0m\u001b[0mnp\u001b[0m\u001b[0;34m.\u001b[0m\u001b[0mfloat64\u001b[0m\u001b[0;34m)\u001b[0m\u001b[0;34m\u001b[0m\u001b[0;34m\u001b[0m\u001b[0m\n\u001b[0m",
            "\u001b[0;32m/usr/local/lib/python3.7/dist-packages/pandas/core/generic.py\u001b[0m in \u001b[0;36mastype\u001b[0;34m(self, dtype, copy, errors)\u001b[0m\n\u001b[1;32m   5813\u001b[0m         \u001b[0;32melse\u001b[0m\u001b[0;34m:\u001b[0m\u001b[0;34m\u001b[0m\u001b[0;34m\u001b[0m\u001b[0m\n\u001b[1;32m   5814\u001b[0m             \u001b[0;31m# else, only a single dtype is given\u001b[0m\u001b[0;34m\u001b[0m\u001b[0;34m\u001b[0m\u001b[0;34m\u001b[0m\u001b[0m\n\u001b[0;32m-> 5815\u001b[0;31m             \u001b[0mnew_data\u001b[0m \u001b[0;34m=\u001b[0m \u001b[0mself\u001b[0m\u001b[0;34m.\u001b[0m\u001b[0m_mgr\u001b[0m\u001b[0;34m.\u001b[0m\u001b[0mastype\u001b[0m\u001b[0;34m(\u001b[0m\u001b[0mdtype\u001b[0m\u001b[0;34m=\u001b[0m\u001b[0mdtype\u001b[0m\u001b[0;34m,\u001b[0m \u001b[0mcopy\u001b[0m\u001b[0;34m=\u001b[0m\u001b[0mcopy\u001b[0m\u001b[0;34m,\u001b[0m \u001b[0merrors\u001b[0m\u001b[0;34m=\u001b[0m\u001b[0merrors\u001b[0m\u001b[0;34m)\u001b[0m\u001b[0;34m\u001b[0m\u001b[0;34m\u001b[0m\u001b[0m\n\u001b[0m\u001b[1;32m   5816\u001b[0m             \u001b[0;32mreturn\u001b[0m \u001b[0mself\u001b[0m\u001b[0;34m.\u001b[0m\u001b[0m_constructor\u001b[0m\u001b[0;34m(\u001b[0m\u001b[0mnew_data\u001b[0m\u001b[0;34m)\u001b[0m\u001b[0;34m.\u001b[0m\u001b[0m__finalize__\u001b[0m\u001b[0;34m(\u001b[0m\u001b[0mself\u001b[0m\u001b[0;34m,\u001b[0m \u001b[0mmethod\u001b[0m\u001b[0;34m=\u001b[0m\u001b[0;34m\"astype\"\u001b[0m\u001b[0;34m)\u001b[0m\u001b[0;34m\u001b[0m\u001b[0;34m\u001b[0m\u001b[0m\n\u001b[1;32m   5817\u001b[0m \u001b[0;34m\u001b[0m\u001b[0m\n",
            "\u001b[0;32m/usr/local/lib/python3.7/dist-packages/pandas/core/internals/managers.py\u001b[0m in \u001b[0;36mastype\u001b[0;34m(self, dtype, copy, errors)\u001b[0m\n\u001b[1;32m    416\u001b[0m \u001b[0;34m\u001b[0m\u001b[0m\n\u001b[1;32m    417\u001b[0m     \u001b[0;32mdef\u001b[0m \u001b[0mastype\u001b[0m\u001b[0;34m(\u001b[0m\u001b[0mself\u001b[0m\u001b[0;34m:\u001b[0m \u001b[0mT\u001b[0m\u001b[0;34m,\u001b[0m \u001b[0mdtype\u001b[0m\u001b[0;34m,\u001b[0m \u001b[0mcopy\u001b[0m\u001b[0;34m:\u001b[0m \u001b[0mbool\u001b[0m \u001b[0;34m=\u001b[0m \u001b[0;32mFalse\u001b[0m\u001b[0;34m,\u001b[0m \u001b[0merrors\u001b[0m\u001b[0;34m:\u001b[0m \u001b[0mstr\u001b[0m \u001b[0;34m=\u001b[0m \u001b[0;34m\"raise\"\u001b[0m\u001b[0;34m)\u001b[0m \u001b[0;34m->\u001b[0m \u001b[0mT\u001b[0m\u001b[0;34m:\u001b[0m\u001b[0;34m\u001b[0m\u001b[0;34m\u001b[0m\u001b[0m\n\u001b[0;32m--> 418\u001b[0;31m         \u001b[0;32mreturn\u001b[0m \u001b[0mself\u001b[0m\u001b[0;34m.\u001b[0m\u001b[0mapply\u001b[0m\u001b[0;34m(\u001b[0m\u001b[0;34m\"astype\"\u001b[0m\u001b[0;34m,\u001b[0m \u001b[0mdtype\u001b[0m\u001b[0;34m=\u001b[0m\u001b[0mdtype\u001b[0m\u001b[0;34m,\u001b[0m \u001b[0mcopy\u001b[0m\u001b[0;34m=\u001b[0m\u001b[0mcopy\u001b[0m\u001b[0;34m,\u001b[0m \u001b[0merrors\u001b[0m\u001b[0;34m=\u001b[0m\u001b[0merrors\u001b[0m\u001b[0;34m)\u001b[0m\u001b[0;34m\u001b[0m\u001b[0;34m\u001b[0m\u001b[0m\n\u001b[0m\u001b[1;32m    419\u001b[0m \u001b[0;34m\u001b[0m\u001b[0m\n\u001b[1;32m    420\u001b[0m     def convert(\n",
            "\u001b[0;32m/usr/local/lib/python3.7/dist-packages/pandas/core/internals/managers.py\u001b[0m in \u001b[0;36mapply\u001b[0;34m(self, f, align_keys, ignore_failures, **kwargs)\u001b[0m\n\u001b[1;32m    325\u001b[0m                     \u001b[0mapplied\u001b[0m \u001b[0;34m=\u001b[0m \u001b[0mb\u001b[0m\u001b[0;34m.\u001b[0m\u001b[0mapply\u001b[0m\u001b[0;34m(\u001b[0m\u001b[0mf\u001b[0m\u001b[0;34m,\u001b[0m \u001b[0;34m**\u001b[0m\u001b[0mkwargs\u001b[0m\u001b[0;34m)\u001b[0m\u001b[0;34m\u001b[0m\u001b[0;34m\u001b[0m\u001b[0m\n\u001b[1;32m    326\u001b[0m                 \u001b[0;32melse\u001b[0m\u001b[0;34m:\u001b[0m\u001b[0;34m\u001b[0m\u001b[0;34m\u001b[0m\u001b[0m\n\u001b[0;32m--> 327\u001b[0;31m                     \u001b[0mapplied\u001b[0m \u001b[0;34m=\u001b[0m \u001b[0mgetattr\u001b[0m\u001b[0;34m(\u001b[0m\u001b[0mb\u001b[0m\u001b[0;34m,\u001b[0m \u001b[0mf\u001b[0m\u001b[0;34m)\u001b[0m\u001b[0;34m(\u001b[0m\u001b[0;34m**\u001b[0m\u001b[0mkwargs\u001b[0m\u001b[0;34m)\u001b[0m\u001b[0;34m\u001b[0m\u001b[0;34m\u001b[0m\u001b[0m\n\u001b[0m\u001b[1;32m    328\u001b[0m             \u001b[0;32mexcept\u001b[0m \u001b[0;34m(\u001b[0m\u001b[0mTypeError\u001b[0m\u001b[0;34m,\u001b[0m \u001b[0mNotImplementedError\u001b[0m\u001b[0;34m)\u001b[0m\u001b[0;34m:\u001b[0m\u001b[0;34m\u001b[0m\u001b[0;34m\u001b[0m\u001b[0m\n\u001b[1;32m    329\u001b[0m                 \u001b[0;32mif\u001b[0m \u001b[0;32mnot\u001b[0m \u001b[0mignore_failures\u001b[0m\u001b[0;34m:\u001b[0m\u001b[0;34m\u001b[0m\u001b[0;34m\u001b[0m\u001b[0m\n",
            "\u001b[0;32m/usr/local/lib/python3.7/dist-packages/pandas/core/internals/blocks.py\u001b[0m in \u001b[0;36mastype\u001b[0;34m(self, dtype, copy, errors)\u001b[0m\n\u001b[1;32m    589\u001b[0m         \u001b[0mvalues\u001b[0m \u001b[0;34m=\u001b[0m \u001b[0mself\u001b[0m\u001b[0;34m.\u001b[0m\u001b[0mvalues\u001b[0m\u001b[0;34m\u001b[0m\u001b[0;34m\u001b[0m\u001b[0m\n\u001b[1;32m    590\u001b[0m \u001b[0;34m\u001b[0m\u001b[0m\n\u001b[0;32m--> 591\u001b[0;31m         \u001b[0mnew_values\u001b[0m \u001b[0;34m=\u001b[0m \u001b[0mastype_array_safe\u001b[0m\u001b[0;34m(\u001b[0m\u001b[0mvalues\u001b[0m\u001b[0;34m,\u001b[0m \u001b[0mdtype\u001b[0m\u001b[0;34m,\u001b[0m \u001b[0mcopy\u001b[0m\u001b[0;34m=\u001b[0m\u001b[0mcopy\u001b[0m\u001b[0;34m,\u001b[0m \u001b[0merrors\u001b[0m\u001b[0;34m=\u001b[0m\u001b[0merrors\u001b[0m\u001b[0;34m)\u001b[0m\u001b[0;34m\u001b[0m\u001b[0;34m\u001b[0m\u001b[0m\n\u001b[0m\u001b[1;32m    592\u001b[0m \u001b[0;34m\u001b[0m\u001b[0m\n\u001b[1;32m    593\u001b[0m         \u001b[0mnew_values\u001b[0m \u001b[0;34m=\u001b[0m \u001b[0mmaybe_coerce_values\u001b[0m\u001b[0;34m(\u001b[0m\u001b[0mnew_values\u001b[0m\u001b[0;34m)\u001b[0m\u001b[0;34m\u001b[0m\u001b[0;34m\u001b[0m\u001b[0m\n",
            "\u001b[0;32m/usr/local/lib/python3.7/dist-packages/pandas/core/dtypes/cast.py\u001b[0m in \u001b[0;36mastype_array_safe\u001b[0;34m(values, dtype, copy, errors)\u001b[0m\n\u001b[1;32m   1307\u001b[0m \u001b[0;34m\u001b[0m\u001b[0m\n\u001b[1;32m   1308\u001b[0m     \u001b[0;32mtry\u001b[0m\u001b[0;34m:\u001b[0m\u001b[0;34m\u001b[0m\u001b[0;34m\u001b[0m\u001b[0m\n\u001b[0;32m-> 1309\u001b[0;31m         \u001b[0mnew_values\u001b[0m \u001b[0;34m=\u001b[0m \u001b[0mastype_array\u001b[0m\u001b[0;34m(\u001b[0m\u001b[0mvalues\u001b[0m\u001b[0;34m,\u001b[0m \u001b[0mdtype\u001b[0m\u001b[0;34m,\u001b[0m \u001b[0mcopy\u001b[0m\u001b[0;34m=\u001b[0m\u001b[0mcopy\u001b[0m\u001b[0;34m)\u001b[0m\u001b[0;34m\u001b[0m\u001b[0;34m\u001b[0m\u001b[0m\n\u001b[0m\u001b[1;32m   1310\u001b[0m     \u001b[0;32mexcept\u001b[0m \u001b[0;34m(\u001b[0m\u001b[0mValueError\u001b[0m\u001b[0;34m,\u001b[0m \u001b[0mTypeError\u001b[0m\u001b[0;34m)\u001b[0m\u001b[0;34m:\u001b[0m\u001b[0;34m\u001b[0m\u001b[0;34m\u001b[0m\u001b[0m\n\u001b[1;32m   1311\u001b[0m         \u001b[0;31m# e.g. astype_nansafe can fail on object-dtype of strings\u001b[0m\u001b[0;34m\u001b[0m\u001b[0;34m\u001b[0m\u001b[0;34m\u001b[0m\u001b[0m\n",
            "\u001b[0;32m/usr/local/lib/python3.7/dist-packages/pandas/core/dtypes/cast.py\u001b[0m in \u001b[0;36mastype_array\u001b[0;34m(values, dtype, copy)\u001b[0m\n\u001b[1;32m   1255\u001b[0m \u001b[0;34m\u001b[0m\u001b[0m\n\u001b[1;32m   1256\u001b[0m     \u001b[0;32melse\u001b[0m\u001b[0;34m:\u001b[0m\u001b[0;34m\u001b[0m\u001b[0;34m\u001b[0m\u001b[0m\n\u001b[0;32m-> 1257\u001b[0;31m         \u001b[0mvalues\u001b[0m \u001b[0;34m=\u001b[0m \u001b[0mastype_nansafe\u001b[0m\u001b[0;34m(\u001b[0m\u001b[0mvalues\u001b[0m\u001b[0;34m,\u001b[0m \u001b[0mdtype\u001b[0m\u001b[0;34m,\u001b[0m \u001b[0mcopy\u001b[0m\u001b[0;34m=\u001b[0m\u001b[0mcopy\u001b[0m\u001b[0;34m)\u001b[0m\u001b[0;34m\u001b[0m\u001b[0;34m\u001b[0m\u001b[0m\n\u001b[0m\u001b[1;32m   1258\u001b[0m \u001b[0;34m\u001b[0m\u001b[0m\n\u001b[1;32m   1259\u001b[0m     \u001b[0;31m# in pandas we don't store numpy str dtypes, so convert to object\u001b[0m\u001b[0;34m\u001b[0m\u001b[0;34m\u001b[0m\u001b[0;34m\u001b[0m\u001b[0m\n",
            "\u001b[0;32m/usr/local/lib/python3.7/dist-packages/pandas/core/dtypes/cast.py\u001b[0m in \u001b[0;36mastype_nansafe\u001b[0;34m(arr, dtype, copy, skipna)\u001b[0m\n\u001b[1;32m   1199\u001b[0m     \u001b[0;32mif\u001b[0m \u001b[0mcopy\u001b[0m \u001b[0;32mor\u001b[0m \u001b[0mis_object_dtype\u001b[0m\u001b[0;34m(\u001b[0m\u001b[0marr\u001b[0m\u001b[0;34m.\u001b[0m\u001b[0mdtype\u001b[0m\u001b[0;34m)\u001b[0m \u001b[0;32mor\u001b[0m \u001b[0mis_object_dtype\u001b[0m\u001b[0;34m(\u001b[0m\u001b[0mdtype\u001b[0m\u001b[0;34m)\u001b[0m\u001b[0;34m:\u001b[0m\u001b[0;34m\u001b[0m\u001b[0;34m\u001b[0m\u001b[0m\n\u001b[1;32m   1200\u001b[0m         \u001b[0;31m# Explicit copy, or required since NumPy can't view from / to object.\u001b[0m\u001b[0;34m\u001b[0m\u001b[0;34m\u001b[0m\u001b[0;34m\u001b[0m\u001b[0m\n\u001b[0;32m-> 1201\u001b[0;31m         \u001b[0;32mreturn\u001b[0m \u001b[0marr\u001b[0m\u001b[0;34m.\u001b[0m\u001b[0mastype\u001b[0m\u001b[0;34m(\u001b[0m\u001b[0mdtype\u001b[0m\u001b[0;34m,\u001b[0m \u001b[0mcopy\u001b[0m\u001b[0;34m=\u001b[0m\u001b[0;32mTrue\u001b[0m\u001b[0;34m)\u001b[0m\u001b[0;34m\u001b[0m\u001b[0;34m\u001b[0m\u001b[0m\n\u001b[0m\u001b[1;32m   1202\u001b[0m \u001b[0;34m\u001b[0m\u001b[0m\n\u001b[1;32m   1203\u001b[0m     \u001b[0;32mreturn\u001b[0m \u001b[0marr\u001b[0m\u001b[0;34m.\u001b[0m\u001b[0mastype\u001b[0m\u001b[0;34m(\u001b[0m\u001b[0mdtype\u001b[0m\u001b[0;34m,\u001b[0m \u001b[0mcopy\u001b[0m\u001b[0;34m=\u001b[0m\u001b[0mcopy\u001b[0m\u001b[0;34m)\u001b[0m\u001b[0;34m\u001b[0m\u001b[0;34m\u001b[0m\u001b[0m\n",
            "\u001b[0;31mValueError\u001b[0m: could not convert string to float: 'ᛏᚩ ᚱᚢᚾᛖ'"
          ]
        }
      ]
    },
    {
      "cell_type": "markdown",
      "metadata": {
        "id": "C4Ozxa3iOoss"
      },
      "source": [
        "Here we see that we can't change type to `float64` as some values are strings in this column and we can't cast them. The reason of this can be wrong format(2,5 instead of 2.5) or something else. Let's check what kind of strings do we have."
      ]
    },
    {
      "cell_type": "code",
      "metadata": {
        "id": "N8GAdX241N3S",
        "outputId": "191f2c4d-51a1-49de-a91f-deb22a578409",
        "colab": {
          "base_uri": "https://localhost:8080/",
          "height": 175
        }
      },
      "source": [
        "def check(elem):     # Helper function that returns True if given string can't be casted as float\n",
        "  try:\n",
        "    float(elem)\n",
        "    return False     # If it can be casted, we return False\n",
        "  except ValueError:\n",
        "    return True      # If it can't be casted, we return True\n",
        "\n",
        "df[df['y'].apply(check)]   # Let's print values, where check function returns True"
      ],
      "execution_count": 23,
      "outputs": [
        {
          "output_type": "execute_result",
          "data": {
            "text/plain": [
              "     carat        cut   price     x        y     z\n",
              "16    0.46      Ideal  1955.0  4.95  ᛏᚩ ᚱᚢᚾᛖ  3.11\n",
              "267   0.79  Very Good  3432.0  5.96        😄  3.57\n",
              "839   0.36  Very Good   753.0  4.57        a  2.84\n",
              "945   0.32    Premium   612.0  4.35     ⠃⠗⠊⠇  2.71"
            ],
            "text/html": [
              "\n",
              "  <div id=\"df-95625cdf-2331-49bc-931f-7a48f72d8b0f\">\n",
              "    <div class=\"colab-df-container\">\n",
              "      <div>\n",
              "<style scoped>\n",
              "    .dataframe tbody tr th:only-of-type {\n",
              "        vertical-align: middle;\n",
              "    }\n",
              "\n",
              "    .dataframe tbody tr th {\n",
              "        vertical-align: top;\n",
              "    }\n",
              "\n",
              "    .dataframe thead th {\n",
              "        text-align: right;\n",
              "    }\n",
              "</style>\n",
              "<table border=\"1\" class=\"dataframe\">\n",
              "  <thead>\n",
              "    <tr style=\"text-align: right;\">\n",
              "      <th></th>\n",
              "      <th>carat</th>\n",
              "      <th>cut</th>\n",
              "      <th>price</th>\n",
              "      <th>x</th>\n",
              "      <th>y</th>\n",
              "      <th>z</th>\n",
              "    </tr>\n",
              "  </thead>\n",
              "  <tbody>\n",
              "    <tr>\n",
              "      <th>16</th>\n",
              "      <td>0.46</td>\n",
              "      <td>Ideal</td>\n",
              "      <td>1955.0</td>\n",
              "      <td>4.95</td>\n",
              "      <td>ᛏᚩ ᚱᚢᚾᛖ</td>\n",
              "      <td>3.11</td>\n",
              "    </tr>\n",
              "    <tr>\n",
              "      <th>267</th>\n",
              "      <td>0.79</td>\n",
              "      <td>Very Good</td>\n",
              "      <td>3432.0</td>\n",
              "      <td>5.96</td>\n",
              "      <td>😄</td>\n",
              "      <td>3.57</td>\n",
              "    </tr>\n",
              "    <tr>\n",
              "      <th>839</th>\n",
              "      <td>0.36</td>\n",
              "      <td>Very Good</td>\n",
              "      <td>753.0</td>\n",
              "      <td>4.57</td>\n",
              "      <td>a</td>\n",
              "      <td>2.84</td>\n",
              "    </tr>\n",
              "    <tr>\n",
              "      <th>945</th>\n",
              "      <td>0.32</td>\n",
              "      <td>Premium</td>\n",
              "      <td>612.0</td>\n",
              "      <td>4.35</td>\n",
              "      <td>⠃⠗⠊⠇</td>\n",
              "      <td>2.71</td>\n",
              "    </tr>\n",
              "  </tbody>\n",
              "</table>\n",
              "</div>\n",
              "      <button class=\"colab-df-convert\" onclick=\"convertToInteractive('df-95625cdf-2331-49bc-931f-7a48f72d8b0f')\"\n",
              "              title=\"Convert this dataframe to an interactive table.\"\n",
              "              style=\"display:none;\">\n",
              "        \n",
              "  <svg xmlns=\"http://www.w3.org/2000/svg\" height=\"24px\"viewBox=\"0 0 24 24\"\n",
              "       width=\"24px\">\n",
              "    <path d=\"M0 0h24v24H0V0z\" fill=\"none\"/>\n",
              "    <path d=\"M18.56 5.44l.94 2.06.94-2.06 2.06-.94-2.06-.94-.94-2.06-.94 2.06-2.06.94zm-11 1L8.5 8.5l.94-2.06 2.06-.94-2.06-.94L8.5 2.5l-.94 2.06-2.06.94zm10 10l.94 2.06.94-2.06 2.06-.94-2.06-.94-.94-2.06-.94 2.06-2.06.94z\"/><path d=\"M17.41 7.96l-1.37-1.37c-.4-.4-.92-.59-1.43-.59-.52 0-1.04.2-1.43.59L10.3 9.45l-7.72 7.72c-.78.78-.78 2.05 0 2.83L4 21.41c.39.39.9.59 1.41.59.51 0 1.02-.2 1.41-.59l7.78-7.78 2.81-2.81c.8-.78.8-2.07 0-2.86zM5.41 20L4 18.59l7.72-7.72 1.47 1.35L5.41 20z\"/>\n",
              "  </svg>\n",
              "      </button>\n",
              "      \n",
              "  <style>\n",
              "    .colab-df-container {\n",
              "      display:flex;\n",
              "      flex-wrap:wrap;\n",
              "      gap: 12px;\n",
              "    }\n",
              "\n",
              "    .colab-df-convert {\n",
              "      background-color: #E8F0FE;\n",
              "      border: none;\n",
              "      border-radius: 50%;\n",
              "      cursor: pointer;\n",
              "      display: none;\n",
              "      fill: #1967D2;\n",
              "      height: 32px;\n",
              "      padding: 0 0 0 0;\n",
              "      width: 32px;\n",
              "    }\n",
              "\n",
              "    .colab-df-convert:hover {\n",
              "      background-color: #E2EBFA;\n",
              "      box-shadow: 0px 1px 2px rgba(60, 64, 67, 0.3), 0px 1px 3px 1px rgba(60, 64, 67, 0.15);\n",
              "      fill: #174EA6;\n",
              "    }\n",
              "\n",
              "    [theme=dark] .colab-df-convert {\n",
              "      background-color: #3B4455;\n",
              "      fill: #D2E3FC;\n",
              "    }\n",
              "\n",
              "    [theme=dark] .colab-df-convert:hover {\n",
              "      background-color: #434B5C;\n",
              "      box-shadow: 0px 1px 3px 1px rgba(0, 0, 0, 0.15);\n",
              "      filter: drop-shadow(0px 1px 2px rgba(0, 0, 0, 0.3));\n",
              "      fill: #FFFFFF;\n",
              "    }\n",
              "  </style>\n",
              "\n",
              "      <script>\n",
              "        const buttonEl =\n",
              "          document.querySelector('#df-95625cdf-2331-49bc-931f-7a48f72d8b0f button.colab-df-convert');\n",
              "        buttonEl.style.display =\n",
              "          google.colab.kernel.accessAllowed ? 'block' : 'none';\n",
              "\n",
              "        async function convertToInteractive(key) {\n",
              "          const element = document.querySelector('#df-95625cdf-2331-49bc-931f-7a48f72d8b0f');\n",
              "          const dataTable =\n",
              "            await google.colab.kernel.invokeFunction('convertToInteractive',\n",
              "                                                     [key], {});\n",
              "          if (!dataTable) return;\n",
              "\n",
              "          const docLinkHtml = 'Like what you see? Visit the ' +\n",
              "            '<a target=\"_blank\" href=https://colab.research.google.com/notebooks/data_table.ipynb>data table notebook</a>'\n",
              "            + ' to learn more about interactive tables.';\n",
              "          element.innerHTML = '';\n",
              "          dataTable['output_type'] = 'display_data';\n",
              "          await google.colab.output.renderOutput(dataTable, element);\n",
              "          const docLink = document.createElement('div');\n",
              "          docLink.innerHTML = docLinkHtml;\n",
              "          element.appendChild(docLink);\n",
              "        }\n",
              "      </script>\n",
              "    </div>\n",
              "  </div>\n",
              "  "
            ]
          },
          "metadata": {},
          "execution_count": 23
        }
      ]
    },
    {
      "cell_type": "markdown",
      "metadata": {
        "id": "KI92ywNjmQdL"
      },
      "source": [
        "All of this string are nonvaluable so we can assignt to them empty string value. We can use `to_numeric()` method from pandas library for that. We should pass one dimensional `Series` and optionally `errors` parameters. Let's pass `errors='coerce'` parameter so in case of some error, it will fill values with Nan."
      ]
    },
    {
      "cell_type": "code",
      "metadata": {
        "id": "Upac2u7bOlRK"
      },
      "source": [
        "df['y'] = pd.to_numeric(df['y'], errors='coerce')"
      ],
      "execution_count": 24,
      "outputs": []
    },
    {
      "cell_type": "code",
      "metadata": {
        "id": "1cuqvzE8Rt47",
        "outputId": "14301302-ba41-4f7f-80a1-cac351bdd588",
        "colab": {
          "base_uri": "https://localhost:8080/"
        }
      },
      "source": [
        "df.info()"
      ],
      "execution_count": 25,
      "outputs": [
        {
          "output_type": "stream",
          "name": "stdout",
          "text": [
            "<class 'pandas.core.frame.DataFrame'>\n",
            "Int64Index: 969 entries, 0 to 1005\n",
            "Data columns (total 6 columns):\n",
            " #   Column  Non-Null Count  Dtype  \n",
            "---  ------  --------------  -----  \n",
            " 0   carat   930 non-null    float64\n",
            " 1   cut     944 non-null    object \n",
            " 2   price   969 non-null    float64\n",
            " 3   x       924 non-null    float64\n",
            " 4   y       907 non-null    float64\n",
            " 5   z       969 non-null    float64\n",
            "dtypes: float64(5), object(1)\n",
            "memory usage: 85.3+ KB\n"
          ]
        }
      ]
    },
    {
      "cell_type": "markdown",
      "metadata": {
        "id": "v062uhjCnmeq"
      },
      "source": [
        "Now we have 907 values in `y` column."
      ]
    },
    {
      "cell_type": "markdown",
      "metadata": {
        "id": "30_vd1Z_v9_O"
      },
      "source": [
        "Let's look at distribution of the column:"
      ]
    },
    {
      "cell_type": "code",
      "metadata": {
        "id": "3bMIJVSgSeqW",
        "outputId": "dd45974e-d8ab-4b54-e5a5-c295d0356146",
        "colab": {
          "base_uri": "https://localhost:8080/"
        }
      },
      "source": [
        "df['y'].describe()"
      ],
      "execution_count": 26,
      "outputs": [
        {
          "output_type": "execute_result",
          "data": {
            "text/plain": [
              "count    907.000000\n",
              "mean       5.779824\n",
              "std        1.100201\n",
              "min        3.780000\n",
              "25%        4.755000\n",
              "50%        5.770000\n",
              "75%        6.560000\n",
              "max        8.600000\n",
              "Name: y, dtype: float64"
            ]
          },
          "metadata": {},
          "execution_count": 26
        }
      ]
    },
    {
      "cell_type": "code",
      "metadata": {
        "id": "RG1r4pMnwCYk",
        "outputId": "f4a9490f-44cc-43fb-a762-8300d7ca0383",
        "colab": {
          "base_uri": "https://localhost:8080/",
          "height": 282
        }
      },
      "source": [
        "df['y'].plot.hist()"
      ],
      "execution_count": 27,
      "outputs": [
        {
          "output_type": "execute_result",
          "data": {
            "text/plain": [
              "<matplotlib.axes._subplots.AxesSubplot at 0x7f73acbd10d0>"
            ]
          },
          "metadata": {},
          "execution_count": 27
        },
        {
          "output_type": "display_data",
          "data": {
            "text/plain": [
              "<Figure size 432x288 with 1 Axes>"
            ],
            "image/png": "[encoded data removed]"
          },
          "metadata": {
            "needs_background": "light"
          }
        }
      ]
    },
    {
      "cell_type": "markdown",
      "metadata": {
        "id": "xFfpdtjXxCg_"
      },
      "source": [
        "Everything seems fine, we can continue with `z` column"
      ]
    },
    {
      "cell_type": "code",
      "metadata": {
        "id": "BooC70LIwwFV",
        "outputId": "477d204c-2330-444c-880e-8f56456175bb",
        "colab": {
          "base_uri": "https://localhost:8080/"
        }
      },
      "source": [
        "df['z'].describe()"
      ],
      "execution_count": 28,
      "outputs": [
        {
          "output_type": "execute_result",
          "data": {
            "text/plain": [
              "count    969.000000\n",
              "mean       3.500743\n",
              "std        0.788279\n",
              "min        0.000000\n",
              "25%        2.930000\n",
              "50%        3.540000\n",
              "75%        4.020000\n",
              "max        5.390000\n",
              "Name: z, dtype: float64"
            ]
          },
          "metadata": {},
          "execution_count": 28
        }
      ]
    },
    {
      "cell_type": "markdown",
      "metadata": {
        "id": "quM13lhgxBKi"
      },
      "source": [
        "Minimum value is 0 but height of brilian can't be zero. Let's look at zero values:"
      ]
    },
    {
      "cell_type": "code",
      "metadata": {
        "id": "PwVgcdTIxfQ6",
        "outputId": "387179fc-7668-4bd1-b1cf-252fcbb89e5e",
        "colab": {
          "base_uri": "https://localhost:8080/",
          "height": 488
        }
      },
      "source": [
        "df[df['z'] == 0]"
      ],
      "execution_count": 29,
      "outputs": [
        {
          "output_type": "execute_result",
          "data": {
            "text/plain": [
              "     carat        cut    price     x     y    z\n",
              "161   1.21    Premium   5529.0  6.96  6.90  0.0\n",
              "288   2.03    Premium  18477.0  8.24  8.16  0.0\n",
              "335   0.31  Very Good    680.0  4.32  4.35  0.0\n",
              "346   0.43      Ideal    954.0  4.86  4.89  0.0\n",
              "377   0.30      Ideal    491.0  4.28  4.31  0.0\n",
              "413   1.04      Ideal   6260.0  6.49  6.52  0.0\n",
              "575   0.70  Very Good   3239.0  5.70  5.74  0.0\n",
              "650   0.72      Ideal   2976.0   NaN  5.85  0.0\n",
              "661   1.50    Premium   9954.0  7.48  7.43  0.0\n",
              "677   0.34      Ideal    974.0  4.48  4.50  0.0\n",
              "771   0.56      Ideal   2622.0  5.26  5.30  0.0\n",
              "813   2.25    premium  15397.0  8.52  8.42  0.0\n",
              "903   0.30      Ideal    710.0  4.30  4.35  0.0\n",
              "991   1.22  Very Good   6962.0  6.82  6.80  0.0"
            ],
            "text/html": [
              "\n",
              "  <div id=\"df-4c52b574-ceac-4c7e-8a61-93cf84e98972\">\n",
              "    <div class=\"colab-df-container\">\n",
              "      <div>\n",
              "<style scoped>\n",
              "    .dataframe tbody tr th:only-of-type {\n",
              "        vertical-align: middle;\n",
              "    }\n",
              "\n",
              "    .dataframe tbody tr th {\n",
              "        vertical-align: top;\n",
              "    }\n",
              "\n",
              "    .dataframe thead th {\n",
              "        text-align: right;\n",
              "    }\n",
              "</style>\n",
              "<table border=\"1\" class=\"dataframe\">\n",
              "  <thead>\n",
              "    <tr style=\"text-align: right;\">\n",
              "      <th></th>\n",
              "      <th>carat</th>\n",
              "      <th>cut</th>\n",
              "      <th>price</th>\n",
              "      <th>x</th>\n",
              "      <th>y</th>\n",
              "      <th>z</th>\n",
              "    </tr>\n",
              "  </thead>\n",
              "  <tbody>\n",
              "    <tr>\n",
              "      <th>161</th>\n",
              "      <td>1.21</td>\n",
              "      <td>Premium</td>\n",
              "      <td>5529.0</td>\n",
              "      <td>6.96</td>\n",
              "      <td>6.90</td>\n",
              "      <td>0.0</td>\n",
              "    </tr>\n",
              "    <tr>\n",
              "      <th>288</th>\n",
              "      <td>2.03</td>\n",
              "      <td>Premium</td>\n",
              "      <td>18477.0</td>\n",
              "      <td>8.24</td>\n",
              "      <td>8.16</td>\n",
              "      <td>0.0</td>\n",
              "    </tr>\n",
              "    <tr>\n",
              "      <th>335</th>\n",
              "      <td>0.31</td>\n",
              "      <td>Very Good</td>\n",
              "      <td>680.0</td>\n",
              "      <td>4.32</td>\n",
              "      <td>4.35</td>\n",
              "      <td>0.0</td>\n",
              "    </tr>\n",
              "    <tr>\n",
              "      <th>346</th>\n",
              "      <td>0.43</td>\n",
              "      <td>Ideal</td>\n",
              "      <td>954.0</td>\n",
              "      <td>4.86</td>\n",
              "      <td>4.89</td>\n",
              "      <td>0.0</td>\n",
              "    </tr>\n",
              "    <tr>\n",
              "      <th>377</th>\n",
              "      <td>0.30</td>\n",
              "      <td>Ideal</td>\n",
              "      <td>491.0</td>\n",
              "      <td>4.28</td>\n",
              "      <td>4.31</td>\n",
              "      <td>0.0</td>\n",
              "    </tr>\n",
              "    <tr>\n",
              "      <th>413</th>\n",
              "      <td>1.04</td>\n",
              "      <td>Ideal</td>\n",
              "      <td>6260.0</td>\n",
              "      <td>6.49</td>\n",
              "      <td>6.52</td>\n",
              "      <td>0.0</td>\n",
              "    </tr>\n",
              "    <tr>\n",
              "      <th>575</th>\n",
              "      <td>0.70</td>\n",
              "      <td>Very Good</td>\n",
              "      <td>3239.0</td>\n",
              "      <td>5.70</td>\n",
              "      <td>5.74</td>\n",
              "      <td>0.0</td>\n",
              "    </tr>\n",
              "    <tr>\n",
              "      <th>650</th>\n",
              "      <td>0.72</td>\n",
              "      <td>Ideal</td>\n",
              "      <td>2976.0</td>\n",
              "      <td>NaN</td>\n",
              "      <td>5.85</td>\n",
              "      <td>0.0</td>\n",
              "    </tr>\n",
              "    <tr>\n",
              "      <th>661</th>\n",
              "      <td>1.50</td>\n",
              "      <td>Premium</td>\n",
              "      <td>9954.0</td>\n",
              "      <td>7.48</td>\n",
              "      <td>7.43</td>\n",
              "      <td>0.0</td>\n",
              "    </tr>\n",
              "    <tr>\n",
              "      <th>677</th>\n",
              "      <td>0.34</td>\n",
              "      <td>Ideal</td>\n",
              "      <td>974.0</td>\n",
              "      <td>4.48</td>\n",
              "      <td>4.50</td>\n",
              "      <td>0.0</td>\n",
              "    </tr>\n",
              "    <tr>\n",
              "      <th>771</th>\n",
              "      <td>0.56</td>\n",
              "      <td>Ideal</td>\n",
              "      <td>2622.0</td>\n",
              "      <td>5.26</td>\n",
              "      <td>5.30</td>\n",
              "      <td>0.0</td>\n",
              "    </tr>\n",
              "    <tr>\n",
              "      <th>813</th>\n",
              "      <td>2.25</td>\n",
              "      <td>premium</td>\n",
              "      <td>15397.0</td>\n",
              "      <td>8.52</td>\n",
              "      <td>8.42</td>\n",
              "      <td>0.0</td>\n",
              "    </tr>\n",
              "    <tr>\n",
              "      <th>903</th>\n",
              "      <td>0.30</td>\n",
              "      <td>Ideal</td>\n",
              "      <td>710.0</td>\n",
              "      <td>4.30</td>\n",
              "      <td>4.35</td>\n",
              "      <td>0.0</td>\n",
              "    </tr>\n",
              "    <tr>\n",
              "      <th>991</th>\n",
              "      <td>1.22</td>\n",
              "      <td>Very Good</td>\n",
              "      <td>6962.0</td>\n",
              "      <td>6.82</td>\n",
              "      <td>6.80</td>\n",
              "      <td>0.0</td>\n",
              "    </tr>\n",
              "  </tbody>\n",
              "</table>\n",
              "</div>\n",
              "      <button class=\"colab-df-convert\" onclick=\"convertToInteractive('df-4c52b574-ceac-4c7e-8a61-93cf84e98972')\"\n",
              "              title=\"Convert this dataframe to an interactive table.\"\n",
              "              style=\"display:none;\">\n",
              "        \n",
              "  <svg xmlns=\"http://www.w3.org/2000/svg\" height=\"24px\"viewBox=\"0 0 24 24\"\n",
              "       width=\"24px\">\n",
              "    <path d=\"M0 0h24v24H0V0z\" fill=\"none\"/>\n",
              "    <path d=\"M18.56 5.44l.94 2.06.94-2.06 2.06-.94-2.06-.94-.94-2.06-.94 2.06-2.06.94zm-11 1L8.5 8.5l.94-2.06 2.06-.94-2.06-.94L8.5 2.5l-.94 2.06-2.06.94zm10 10l.94 2.06.94-2.06 2.06-.94-2.06-.94-.94-2.06-.94 2.06-2.06.94z\"/><path d=\"M17.41 7.96l-1.37-1.37c-.4-.4-.92-.59-1.43-.59-.52 0-1.04.2-1.43.59L10.3 9.45l-7.72 7.72c-.78.78-.78 2.05 0 2.83L4 21.41c.39.39.9.59 1.41.59.51 0 1.02-.2 1.41-.59l7.78-7.78 2.81-2.81c.8-.78.8-2.07 0-2.86zM5.41 20L4 18.59l7.72-7.72 1.47 1.35L5.41 20z\"/>\n",
              "  </svg>\n",
              "      </button>\n",
              "      \n",
              "  <style>\n",
              "    .colab-df-container {\n",
              "      display:flex;\n",
              "      flex-wrap:wrap;\n",
              "      gap: 12px;\n",
              "    }\n",
              "\n",
              "    .colab-df-convert {\n",
              "      background-color: #E8F0FE;\n",
              "      border: none;\n",
              "      border-radius: 50%;\n",
              "      cursor: pointer;\n",
              "      display: none;\n",
              "      fill: #1967D2;\n",
              "      height: 32px;\n",
              "      padding: 0 0 0 0;\n",
              "      width: 32px;\n",
              "    }\n",
              "\n",
              "    .colab-df-convert:hover {\n",
              "      background-color: #E2EBFA;\n",
              "      box-shadow: 0px 1px 2px rgba(60, 64, 67, 0.3), 0px 1px 3px 1px rgba(60, 64, 67, 0.15);\n",
              "      fill: #174EA6;\n",
              "    }\n",
              "\n",
              "    [theme=dark] .colab-df-convert {\n",
              "      background-color: #3B4455;\n",
              "      fill: #D2E3FC;\n",
              "    }\n",
              "\n",
              "    [theme=dark] .colab-df-convert:hover {\n",
              "      background-color: #434B5C;\n",
              "      box-shadow: 0px 1px 3px 1px rgba(0, 0, 0, 0.15);\n",
              "      filter: drop-shadow(0px 1px 2px rgba(0, 0, 0, 0.3));\n",
              "      fill: #FFFFFF;\n",
              "    }\n",
              "  </style>\n",
              "\n",
              "      <script>\n",
              "        const buttonEl =\n",
              "          document.querySelector('#df-4c52b574-ceac-4c7e-8a61-93cf84e98972 button.colab-df-convert');\n",
              "        buttonEl.style.display =\n",
              "          google.colab.kernel.accessAllowed ? 'block' : 'none';\n",
              "\n",
              "        async function convertToInteractive(key) {\n",
              "          const element = document.querySelector('#df-4c52b574-ceac-4c7e-8a61-93cf84e98972');\n",
              "          const dataTable =\n",
              "            await google.colab.kernel.invokeFunction('convertToInteractive',\n",
              "                                                     [key], {});\n",
              "          if (!dataTable) return;\n",
              "\n",
              "          const docLinkHtml = 'Like what you see? Visit the ' +\n",
              "            '<a target=\"_blank\" href=https://colab.research.google.com/notebooks/data_table.ipynb>data table notebook</a>'\n",
              "            + ' to learn more about interactive tables.';\n",
              "          element.innerHTML = '';\n",
              "          dataTable['output_type'] = 'display_data';\n",
              "          await google.colab.output.renderOutput(dataTable, element);\n",
              "          const docLink = document.createElement('div');\n",
              "          docLink.innerHTML = docLinkHtml;\n",
              "          element.appendChild(docLink);\n",
              "        }\n",
              "      </script>\n",
              "    </div>\n",
              "  </div>\n",
              "  "
            ]
          },
          "metadata": {},
          "execution_count": 29
        }
      ]
    },
    {
      "cell_type": "markdown",
      "metadata": {
        "id": "2frJNP3-y6zo"
      },
      "source": [
        "There are 14 zero values but other features of that rows seems normal so we can assign NaN values to that zero values."
      ]
    },
    {
      "cell_type": "code",
      "metadata": {
        "id": "k0gU_qN7xpzy"
      },
      "source": [
        "ind = df[df['z'] == 0].index\n",
        "df.loc[ind, 'z'] = np.NaN"
      ],
      "execution_count": 30,
      "outputs": []
    },
    {
      "cell_type": "markdown",
      "metadata": {
        "id": "TmU3kG8F0pH1"
      },
      "source": [
        "plot histogram:"
      ]
    },
    {
      "cell_type": "code",
      "metadata": {
        "id": "wjveltOa0n1P",
        "outputId": "6199b643-a9a4-4d0b-998e-cd1a9dcee223",
        "colab": {
          "base_uri": "https://localhost:8080/",
          "height": 282
        }
      },
      "source": [
        "df['z'].plot.hist()"
      ],
      "execution_count": 31,
      "outputs": [
        {
          "output_type": "execute_result",
          "data": {
            "text/plain": [
              "<matplotlib.axes._subplots.AxesSubplot at 0x7f73acbd7a50>"
            ]
          },
          "metadata": {},
          "execution_count": 31
        },
        {
          "output_type": "display_data",
          "data": {
            "text/plain": [
              "<Figure size 432x288 with 1 Axes>"
            ],
            "image/png": "[encoded data removed]"
          },
          "metadata": {
            "needs_background": "light"
          }
        }
      ]
    },
    {
      "cell_type": "markdown",
      "metadata": {
        "id": "PevsqSA_0z4v"
      },
      "source": [
        "Let's check `price` column to avoid anomalies."
      ]
    },
    {
      "cell_type": "code",
      "metadata": {
        "id": "h-i3grV_0uJ4",
        "outputId": "970d54dd-9e9a-44e9-9c9f-01e5f665e309",
        "colab": {
          "base_uri": "https://localhost:8080/"
        }
      },
      "source": [
        "df['price'].describe()"
      ],
      "execution_count": 32,
      "outputs": [
        {
          "output_type": "execute_result",
          "data": {
            "text/plain": [
              "count      969.000000\n",
              "mean      3899.563467\n",
              "std       3842.908815\n",
              "min        367.000000\n",
              "25%        988.000000\n",
              "50%       2576.000000\n",
              "75%       5154.000000\n",
              "max      18480.000000\n",
              "Name: price, dtype: float64"
            ]
          },
          "metadata": {},
          "execution_count": 32
        }
      ]
    },
    {
      "cell_type": "code",
      "metadata": {
        "id": "daoT0L8x1Bsm",
        "outputId": "1998814c-78e8-423e-e509-7010fa805bef",
        "colab": {
          "base_uri": "https://localhost:8080/",
          "height": 282
        }
      },
      "source": [
        "df['price'].plot.hist()"
      ],
      "execution_count": 33,
      "outputs": [
        {
          "output_type": "execute_result",
          "data": {
            "text/plain": [
              "<matplotlib.axes._subplots.AxesSubplot at 0x7f73aca77710>"
            ]
          },
          "metadata": {},
          "execution_count": 33
        },
        {
          "output_type": "display_data",
          "data": {
            "text/plain": [
              "<Figure size 432x288 with 1 Axes>"
            ],
            "image/png": "[encoded data removed]"
          },
          "metadata": {
            "needs_background": "light"
          }
        }
      ]
    },
    {
      "cell_type": "markdown",
      "metadata": {
        "id": "DyaqpOdD1Idf"
      },
      "source": [
        "We see that we have much more briliants with low price than high prices and we almost don't have very expensive briliants. This means our dataset isn't balanced but we don't have any anomalies. We can plot scatterplot to make sure about anomalies."
      ]
    },
    {
      "cell_type": "code",
      "metadata": {
        "id": "J6MVArQB1EHe",
        "outputId": "693fcca8-b2e0-420f-c76d-d3a88c4e77b0",
        "colab": {
          "base_uri": "https://localhost:8080/",
          "height": 265
        }
      },
      "source": [
        "import matplotlib.pyplot as plt\n",
        "\n",
        "df['price'].plot(marker='o', linestyle='')\n",
        "plt.show()"
      ],
      "execution_count": 34,
      "outputs": [
        {
          "output_type": "display_data",
          "data": {
            "text/plain": [
              "<Figure size 432x288 with 1 Axes>"
            ],
            "image/png": "[encoded data removed]"
          },
          "metadata": {
            "needs_background": "light"
          }
        }
      ]
    },
    {
      "cell_type": "markdown",
      "metadata": {
        "id": "VGQObDvkCCQU"
      },
      "source": [
        "Now we can fill empty values in each column with its average values."
      ]
    },
    {
      "cell_type": "code",
      "metadata": {
        "id": "NcuwjZ_PBXz7",
        "outputId": "a8a365c7-3dc5-4fbc-89c2-180372e84625",
        "colab": {
          "base_uri": "https://localhost:8080/"
        }
      },
      "source": [
        "df.fillna(df.mean(), inplace=True)\n",
        "df.info()"
      ],
      "execution_count": 35,
      "outputs": [
        {
          "output_type": "stream",
          "name": "stdout",
          "text": [
            "<class 'pandas.core.frame.DataFrame'>\n",
            "Int64Index: 969 entries, 0 to 1005\n",
            "Data columns (total 6 columns):\n",
            " #   Column  Non-Null Count  Dtype  \n",
            "---  ------  --------------  -----  \n",
            " 0   carat   969 non-null    float64\n",
            " 1   cut     944 non-null    object \n",
            " 2   price   969 non-null    float64\n",
            " 3   x       969 non-null    float64\n",
            " 4   y       969 non-null    float64\n",
            " 5   z       969 non-null    float64\n",
            "dtypes: float64(5), object(1)\n",
            "memory usage: 85.3+ KB\n"
          ]
        },
        {
          "output_type": "stream",
          "name": "stderr",
          "text": [
            "/usr/local/lib/python3.7/dist-packages/ipykernel_launcher.py:1: FutureWarning: Dropping of nuisance columns in DataFrame reductions (with 'numeric_only=None') is deprecated; in a future version this will raise TypeError.  Select only valid columns before calling the reduction.\n",
            "  \"\"\"Entry point for launching an IPython kernel.\n"
          ]
        }
      ]
    },
    {
      "cell_type": "markdown",
      "metadata": {
        "id": "nYks0ThrDEey"
      },
      "source": [
        "Now we don't have any missing values in any numeric column."
      ]
    },
    {
      "cell_type": "markdown",
      "metadata": {
        "id": "nYXC_B8bDXFr"
      },
      "source": [
        "Let's plot some histograms/plots"
      ]
    },
    {
      "cell_type": "code",
      "metadata": {
        "id": "lDFvQGR-C86k",
        "outputId": "d784f2da-bdb1-4e24-9a85-f2b46d4c9b07",
        "colab": {
          "base_uri": "https://localhost:8080/",
          "height": 282
        }
      },
      "source": [
        "df['x'].plot.hist()"
      ],
      "execution_count": 37,
      "outputs": [
        {
          "output_type": "execute_result",
          "data": {
            "text/plain": [
              "<matplotlib.axes._subplots.AxesSubplot at 0x7f73ac94e9d0>"
            ]
          },
          "metadata": {},
          "execution_count": 37
        },
        {
          "output_type": "display_data",
          "data": {
            "text/plain": [
              "<Figure size 432x288 with 1 Axes>"
            ],
            "image/png": "[encoded data removed]"
          },
          "metadata": {
            "needs_background": "light"
          }
        }
      ]
    },
    {
      "cell_type": "code",
      "metadata": {
        "id": "5uLrTFogDlKi",
        "outputId": "106086d1-ad5b-4f32-ecbd-20d6fb237c6d",
        "colab": {
          "base_uri": "https://localhost:8080/",
          "height": 265
        }
      },
      "source": [
        "df['carat'].plot(marker='o', linestyle='')\n",
        "plt.show()"
      ],
      "execution_count": 38,
      "outputs": [
        {
          "output_type": "display_data",
          "data": {
            "text/plain": [
              "<Figure size 432x288 with 1 Axes>"
            ],
            "image/png": "[encoded data removed]"
          },
          "metadata": {
            "needs_background": "light"
          }
        }
      ]
    },
    {
      "cell_type": "markdown",
      "metadata": {
        "id": "ap85fwUrD8YV"
      },
      "source": [
        "Filling with mean values is not the best option but it may have positive effect on model result. In general we should try several different ways and choose the best one."
      ]
    },
    {
      "cell_type": "markdown",
      "metadata": {
        "id": "JAXcgB-mE4Su"
      },
      "source": [
        "We have left only `cut` column that is categorical one. Let's check categories:"
      ]
    },
    {
      "cell_type": "code",
      "metadata": {
        "id": "q_TGfAGeFB6W",
        "outputId": "152e5f4f-3902-4f9d-f81c-3e74cd11bfb1",
        "colab": {
          "base_uri": "https://localhost:8080/"
        }
      },
      "source": [
        "df['cut'].value_counts()"
      ],
      "execution_count": 39,
      "outputs": [
        {
          "output_type": "execute_result",
          "data": {
            "text/plain": [
              "Ideal        350\n",
              "Premium      233\n",
              "Very Good    196\n",
              "Good          93\n",
              "Fair          21\n",
              "IDEAL         11\n",
              "very good      8\n",
              "premium        8\n",
              "GOOD           6\n",
              "ideal          5\n",
              "PREMIUM        4\n",
              "VERY GOOD      3\n",
              "good           2\n",
              "FAIR           1\n",
              ".,nd           1\n",
              "x              1\n",
              "463784638      1\n",
              "Name: cut, dtype: int64"
            ]
          },
          "metadata": {},
          "execution_count": 39
        }
      ]
    },
    {
      "cell_type": "markdown",
      "metadata": {
        "id": "wtlxkitUFT5o"
      },
      "source": [
        "First of all we see that we have Ideal, IDEAL and ideal than should be the same(the same logic works for Good, GOOD, good and so on). The very simple solution is to make all string lowercase."
      ]
    },
    {
      "cell_type": "code",
      "metadata": {
        "id": "ya-YoH6JFFMW"
      },
      "source": [
        "df['cut'] = df['cut'].apply(lambda x: x.lower() if not x is np.NaN else x)   # NaN-ებზე შეცდომას აგდებს lower, ამიტომ უნდა გავითვალისწინოთ"
      ],
      "execution_count": 40,
      "outputs": []
    },
    {
      "cell_type": "code",
      "metadata": {
        "id": "j2l9eFVkJdqh",
        "outputId": "ce9c383c-97d9-4ad2-c7d3-9b91607a017d",
        "colab": {
          "base_uri": "https://localhost:8080/"
        }
      },
      "source": [
        "df['cut'].value_counts()"
      ],
      "execution_count": 41,
      "outputs": [
        {
          "output_type": "execute_result",
          "data": {
            "text/plain": [
              "ideal        366\n",
              "premium      245\n",
              "very good    207\n",
              "good         101\n",
              "fair          22\n",
              ".,nd           1\n",
              "x              1\n",
              "463784638      1\n",
              "Name: cut, dtype: int64"
            ]
          },
          "metadata": {},
          "execution_count": 41
        }
      ]
    },
    {
      "cell_type": "markdown",
      "metadata": {
        "id": "8Zv4L_TOKV87"
      },
      "source": [
        "We have 3 meaningless category, let's replace all of them with Nan."
      ]
    },
    {
      "cell_type": "code",
      "metadata": {
        "id": "s5KoFJdjKMCL"
      },
      "source": [
        "df['cut'].replace(['463784638', 'x', '.,nd'], np.NaN, inplace=True)"
      ],
      "execution_count": 42,
      "outputs": []
    },
    {
      "cell_type": "code",
      "metadata": {
        "id": "mfMJUvsNLnLh",
        "outputId": "957662c0-bfdf-48b5-f35c-1764e47bb528",
        "colab": {
          "base_uri": "https://localhost:8080/"
        }
      },
      "source": [
        "df['cut'].value_counts()"
      ],
      "execution_count": 43,
      "outputs": [
        {
          "output_type": "execute_result",
          "data": {
            "text/plain": [
              "ideal        366\n",
              "premium      245\n",
              "very good    207\n",
              "good         101\n",
              "fair          22\n",
              "Name: cut, dtype: int64"
            ]
          },
          "metadata": {},
          "execution_count": 43
        }
      ]
    },
    {
      "cell_type": "markdown",
      "metadata": {
        "id": "7R4Fcd3gM14X"
      },
      "source": [
        "The most common way to fill missing values in categorical column is to fill it with most frequent value(in our case - ideal)."
      ]
    },
    {
      "cell_type": "code",
      "metadata": {
        "id": "I79ifUl8M0PS"
      },
      "source": [
        "df['cut'].fillna('ideal', inplace=True)"
      ],
      "execution_count": 44,
      "outputs": []
    },
    {
      "cell_type": "code",
      "metadata": {
        "id": "VXqFS4XeNPPh",
        "outputId": "fc3cbc69-c1dc-4fe2-9b62-c8f19b7e4fdd",
        "colab": {
          "base_uri": "https://localhost:8080/"
        }
      },
      "source": [
        "df.info()"
      ],
      "execution_count": 45,
      "outputs": [
        {
          "output_type": "stream",
          "name": "stdout",
          "text": [
            "<class 'pandas.core.frame.DataFrame'>\n",
            "Int64Index: 969 entries, 0 to 1005\n",
            "Data columns (total 6 columns):\n",
            " #   Column  Non-Null Count  Dtype  \n",
            "---  ------  --------------  -----  \n",
            " 0   carat   969 non-null    float64\n",
            " 1   cut     969 non-null    object \n",
            " 2   price   969 non-null    float64\n",
            " 3   x       969 non-null    float64\n",
            " 4   y       969 non-null    float64\n",
            " 5   z       969 non-null    float64\n",
            "dtypes: float64(5), object(1)\n",
            "memory usage: 85.3+ KB\n"
          ]
        }
      ]
    },
    {
      "cell_type": "markdown",
      "metadata": {
        "id": "NlaJRdocNT_j"
      },
      "source": [
        "Now we don't have any missing values"
      ]
    },
    {
      "cell_type": "markdown",
      "metadata": {
        "id": "LPeXikK2OCqG"
      },
      "source": [
        "Often we have much more featues than we nedd to solve the problem. Working with lots of features needs additional resources and also it may damage our model. So we need to find out which features have a real effect on target column. We can use correlation matrix for this."
      ]
    },
    {
      "cell_type": "code",
      "metadata": {
        "id": "PXG44oa4NSns",
        "outputId": "c035df05-a448-4407-c4d0-c195e8cdc13b",
        "colab": {
          "base_uri": "https://localhost:8080/",
          "height": 206
        }
      },
      "source": [
        "df.corr()"
      ],
      "execution_count": 46,
      "outputs": [
        {
          "output_type": "execute_result",
          "data": {
            "text/plain": [
              "          carat     price         x         y         z\n",
              "carat  1.000000  0.904982  0.933591  0.932899  0.937513\n",
              "price  0.904982  1.000000  0.874330  0.876997  0.870982\n",
              "x      0.933591  0.874330  1.000000  0.955929  0.958359\n",
              "y      0.932899  0.876997  0.955929  1.000000  0.954769\n",
              "z      0.937513  0.870982  0.958359  0.954769  1.000000"
            ],
            "text/html": [
              "\n",
              "  <div id=\"df-bb833527-a7e4-4630-8048-2959478355c7\">\n",
              "    <div class=\"colab-df-container\">\n",
              "      <div>\n",
              "<style scoped>\n",
              "    .dataframe tbody tr th:only-of-type {\n",
              "        vertical-align: middle;\n",
              "    }\n",
              "\n",
              "    .dataframe tbody tr th {\n",
              "        vertical-align: top;\n",
              "    }\n",
              "\n",
              "    .dataframe thead th {\n",
              "        text-align: right;\n",
              "    }\n",
              "</style>\n",
              "<table border=\"1\" class=\"dataframe\">\n",
              "  <thead>\n",
              "    <tr style=\"text-align: right;\">\n",
              "      <th></th>\n",
              "      <th>carat</th>\n",
              "      <th>price</th>\n",
              "      <th>x</th>\n",
              "      <th>y</th>\n",
              "      <th>z</th>\n",
              "    </tr>\n",
              "  </thead>\n",
              "  <tbody>\n",
              "    <tr>\n",
              "      <th>carat</th>\n",
              "      <td>1.000000</td>\n",
              "      <td>0.904982</td>\n",
              "      <td>0.933591</td>\n",
              "      <td>0.932899</td>\n",
              "      <td>0.937513</td>\n",
              "    </tr>\n",
              "    <tr>\n",
              "      <th>price</th>\n",
              "      <td>0.904982</td>\n",
              "      <td>1.000000</td>\n",
              "      <td>0.874330</td>\n",
              "      <td>0.876997</td>\n",
              "      <td>0.870982</td>\n",
              "    </tr>\n",
              "    <tr>\n",
              "      <th>x</th>\n",
              "      <td>0.933591</td>\n",
              "      <td>0.874330</td>\n",
              "      <td>1.000000</td>\n",
              "      <td>0.955929</td>\n",
              "      <td>0.958359</td>\n",
              "    </tr>\n",
              "    <tr>\n",
              "      <th>y</th>\n",
              "      <td>0.932899</td>\n",
              "      <td>0.876997</td>\n",
              "      <td>0.955929</td>\n",
              "      <td>1.000000</td>\n",
              "      <td>0.954769</td>\n",
              "    </tr>\n",
              "    <tr>\n",
              "      <th>z</th>\n",
              "      <td>0.937513</td>\n",
              "      <td>0.870982</td>\n",
              "      <td>0.958359</td>\n",
              "      <td>0.954769</td>\n",
              "      <td>1.000000</td>\n",
              "    </tr>\n",
              "  </tbody>\n",
              "</table>\n",
              "</div>\n",
              "      <button class=\"colab-df-convert\" onclick=\"convertToInteractive('df-bb833527-a7e4-4630-8048-2959478355c7')\"\n",
              "              title=\"Convert this dataframe to an interactive table.\"\n",
              "              style=\"display:none;\">\n",
              "        \n",
              "  <svg xmlns=\"http://www.w3.org/2000/svg\" height=\"24px\"viewBox=\"0 0 24 24\"\n",
              "       width=\"24px\">\n",
              "    <path d=\"M0 0h24v24H0V0z\" fill=\"none\"/>\n",
              "    <path d=\"M18.56 5.44l.94 2.06.94-2.06 2.06-.94-2.06-.94-.94-2.06-.94 2.06-2.06.94zm-11 1L8.5 8.5l.94-2.06 2.06-.94-2.06-.94L8.5 2.5l-.94 2.06-2.06.94zm10 10l.94 2.06.94-2.06 2.06-.94-2.06-.94-.94-2.06-.94 2.06-2.06.94z\"/><path d=\"M17.41 7.96l-1.37-1.37c-.4-.4-.92-.59-1.43-.59-.52 0-1.04.2-1.43.59L10.3 9.45l-7.72 7.72c-.78.78-.78 2.05 0 2.83L4 21.41c.39.39.9.59 1.41.59.51 0 1.02-.2 1.41-.59l7.78-7.78 2.81-2.81c.8-.78.8-2.07 0-2.86zM5.41 20L4 18.59l7.72-7.72 1.47 1.35L5.41 20z\"/>\n",
              "  </svg>\n",
              "      </button>\n",
              "      \n",
              "  <style>\n",
              "    .colab-df-container {\n",
              "      display:flex;\n",
              "      flex-wrap:wrap;\n",
              "      gap: 12px;\n",
              "    }\n",
              "\n",
              "    .colab-df-convert {\n",
              "      background-color: #E8F0FE;\n",
              "      border: none;\n",
              "      border-radius: 50%;\n",
              "      cursor: pointer;\n",
              "      display: none;\n",
              "      fill: #1967D2;\n",
              "      height: 32px;\n",
              "      padding: 0 0 0 0;\n",
              "      width: 32px;\n",
              "    }\n",
              "\n",
              "    .colab-df-convert:hover {\n",
              "      background-color: #E2EBFA;\n",
              "      box-shadow: 0px 1px 2px rgba(60, 64, 67, 0.3), 0px 1px 3px 1px rgba(60, 64, 67, 0.15);\n",
              "      fill: #174EA6;\n",
              "    }\n",
              "\n",
              "    [theme=dark] .colab-df-convert {\n",
              "      background-color: #3B4455;\n",
              "      fill: #D2E3FC;\n",
              "    }\n",
              "\n",
              "    [theme=dark] .colab-df-convert:hover {\n",
              "      background-color: #434B5C;\n",
              "      box-shadow: 0px 1px 3px 1px rgba(0, 0, 0, 0.15);\n",
              "      filter: drop-shadow(0px 1px 2px rgba(0, 0, 0, 0.3));\n",
              "      fill: #FFFFFF;\n",
              "    }\n",
              "  </style>\n",
              "\n",
              "      <script>\n",
              "        const buttonEl =\n",
              "          document.querySelector('#df-bb833527-a7e4-4630-8048-2959478355c7 button.colab-df-convert');\n",
              "        buttonEl.style.display =\n",
              "          google.colab.kernel.accessAllowed ? 'block' : 'none';\n",
              "\n",
              "        async function convertToInteractive(key) {\n",
              "          const element = document.querySelector('#df-bb833527-a7e4-4630-8048-2959478355c7');\n",
              "          const dataTable =\n",
              "            await google.colab.kernel.invokeFunction('convertToInteractive',\n",
              "                                                     [key], {});\n",
              "          if (!dataTable) return;\n",
              "\n",
              "          const docLinkHtml = 'Like what you see? Visit the ' +\n",
              "            '<a target=\"_blank\" href=https://colab.research.google.com/notebooks/data_table.ipynb>data table notebook</a>'\n",
              "            + ' to learn more about interactive tables.';\n",
              "          element.innerHTML = '';\n",
              "          dataTable['output_type'] = 'display_data';\n",
              "          await google.colab.output.renderOutput(dataTable, element);\n",
              "          const docLink = document.createElement('div');\n",
              "          docLink.innerHTML = docLinkHtml;\n",
              "          element.appendChild(docLink);\n",
              "        }\n",
              "      </script>\n",
              "    </div>\n",
              "  </div>\n",
              "  "
            ]
          },
          "metadata": {},
          "execution_count": 46
        }
      ]
    },
    {
      "cell_type": "markdown",
      "metadata": {
        "id": "PBqxgQ7_OnDR"
      },
      "source": [
        "Bigger absolute value of correlation between two features means that this two features are much more connected to each other. Maximum value is 1(this means ideal correlation) so all diagonal values are 1. We see that all columns has high correlation to price column and this means that we shouldn't delete any of this columns, especially in our case when we don't have much features. In case some features has high correlation value to each other, we can delete one of them, for example if correlation value between `x` and `z` is 0.96 this means that they are almost the same feature and if we delete one of them, it won't damage our model because they have almost same meanings. In this case we delete the feature that has higher correlations with other columns on average."
      ]
    },
    {
      "cell_type": "markdown",
      "metadata": {
        "id": "aorA0-YpPHFX"
      },
      "source": [
        "We can visualize correlation matrix with seaborn library. We can use `heatmap()` function"
      ]
    },
    {
      "cell_type": "code",
      "metadata": {
        "id": "CsSDTCj-OkXT",
        "outputId": "b2b6cdc3-9f04-4b74-bbdb-c50cfcb3385e",
        "colab": {
          "base_uri": "https://localhost:8080/",
          "height": 269
        }
      },
      "source": [
        "import seaborn as sns \n",
        "\n",
        "sns.heatmap(df.corr(), vmin=0, vmax=1)\n",
        "plt.show()"
      ],
      "execution_count": 48,
      "outputs": [
        {
          "output_type": "display_data",
          "data": {
            "text/plain": [
              "<Figure size 432x288 with 2 Axes>"
            ],
            "image/png": "[encoded data removed]"
          },
          "metadata": {
            "needs_background": "light"
          }
        }
      ]
    },
    {
      "cell_type": "markdown",
      "metadata": {
        "id": "SEs8h48uQeue"
      },
      "source": [
        "Now we can standartize numerical values."
      ]
    },
    {
      "cell_type": "code",
      "metadata": {
        "id": "p3dfOHvLPu1c"
      },
      "source": [
        "from sklearn.preprocessing import StandardScaler    \n",
        "\n",
        "scaler = StandardScaler() \n",
        "df[['carat', 'x', 'y', 'z']] = scaler.fit_transform(df[['carat', 'x', 'y', 'z']])"
      ],
      "execution_count": 49,
      "outputs": []
    },
    {
      "cell_type": "code",
      "metadata": {
        "id": "kCeaf5hbR9z4",
        "outputId": "5a1a6296-5011-42cd-b6de-c2b48bd647e0",
        "colab": {
          "base_uri": "https://localhost:8080/",
          "height": 300
        }
      },
      "source": [
        "df.describe()"
      ],
      "execution_count": 50,
      "outputs": [
        {
          "output_type": "execute_result",
          "data": {
            "text/plain": [
              "              carat         price             x             y             z\n",
              "count  9.690000e+02    969.000000  9.690000e+02  9.690000e+02  9.690000e+02\n",
              "mean   1.109077e-16   3899.563467 -1.299270e-16 -1.945468e-16 -7.478251e-16\n",
              "std    1.000516e+00   3842.908815  1.000516e+00  1.000516e+00  1.000516e+00\n",
              "min   -1.351878e+00    367.000000 -1.811519e+00 -1.879824e+00 -1.855118e+00\n",
              "25%   -8.795504e-01    988.000000 -9.305341e-01 -9.210293e-01 -9.215834e-01\n",
              "50%   -1.823045e-01   2576.000000  5.765582e-15  8.348833e-16 -4.680658e-15\n",
              "75%    5.149413e-01   5154.000000  7.108800e-01  6.863622e-01  7.045733e-01\n",
              "max    3.753761e+00  18480.000000  2.676868e+00  2.650952e+00  2.767383e+00"
            ],
            "text/html": [
              "\n",
              "  <div id=\"df-bc5f1043-9788-41d6-85c8-6c668fc7f993\">\n",
              "    <div class=\"colab-df-container\">\n",
              "      <div>\n",
              "<style scoped>\n",
              "    .dataframe tbody tr th:only-of-type {\n",
              "        vertical-align: middle;\n",
              "    }\n",
              "\n",
              "    .dataframe tbody tr th {\n",
              "        vertical-align: top;\n",
              "    }\n",
              "\n",
              "    .dataframe thead th {\n",
              "        text-align: right;\n",
              "    }\n",
              "</style>\n",
              "<table border=\"1\" class=\"dataframe\">\n",
              "  <thead>\n",
              "    <tr style=\"text-align: right;\">\n",
              "      <th></th>\n",
              "      <th>carat</th>\n",
              "      <th>price</th>\n",
              "      <th>x</th>\n",
              "      <th>y</th>\n",
              "      <th>z</th>\n",
              "    </tr>\n",
              "  </thead>\n",
              "  <tbody>\n",
              "    <tr>\n",
              "      <th>count</th>\n",
              "      <td>9.690000e+02</td>\n",
              "      <td>969.000000</td>\n",
              "      <td>9.690000e+02</td>\n",
              "      <td>9.690000e+02</td>\n",
              "      <td>9.690000e+02</td>\n",
              "    </tr>\n",
              "    <tr>\n",
              "      <th>mean</th>\n",
              "      <td>1.109077e-16</td>\n",
              "      <td>3899.563467</td>\n",
              "      <td>-1.299270e-16</td>\n",
              "      <td>-1.945468e-16</td>\n",
              "      <td>-7.478251e-16</td>\n",
              "    </tr>\n",
              "    <tr>\n",
              "      <th>std</th>\n",
              "      <td>1.000516e+00</td>\n",
              "      <td>3842.908815</td>\n",
              "      <td>1.000516e+00</td>\n",
              "      <td>1.000516e+00</td>\n",
              "      <td>1.000516e+00</td>\n",
              "    </tr>\n",
              "    <tr>\n",
              "      <th>min</th>\n",
              "      <td>-1.351878e+00</td>\n",
              "      <td>367.000000</td>\n",
              "      <td>-1.811519e+00</td>\n",
              "      <td>-1.879824e+00</td>\n",
              "      <td>-1.855118e+00</td>\n",
              "    </tr>\n",
              "    <tr>\n",
              "      <th>25%</th>\n",
              "      <td>-8.795504e-01</td>\n",
              "      <td>988.000000</td>\n",
              "      <td>-9.305341e-01</td>\n",
              "      <td>-9.210293e-01</td>\n",
              "      <td>-9.215834e-01</td>\n",
              "    </tr>\n",
              "    <tr>\n",
              "      <th>50%</th>\n",
              "      <td>-1.823045e-01</td>\n",
              "      <td>2576.000000</td>\n",
              "      <td>5.765582e-15</td>\n",
              "      <td>8.348833e-16</td>\n",
              "      <td>-4.680658e-15</td>\n",
              "    </tr>\n",
              "    <tr>\n",
              "      <th>75%</th>\n",
              "      <td>5.149413e-01</td>\n",
              "      <td>5154.000000</td>\n",
              "      <td>7.108800e-01</td>\n",
              "      <td>6.863622e-01</td>\n",
              "      <td>7.045733e-01</td>\n",
              "    </tr>\n",
              "    <tr>\n",
              "      <th>max</th>\n",
              "      <td>3.753761e+00</td>\n",
              "      <td>18480.000000</td>\n",
              "      <td>2.676868e+00</td>\n",
              "      <td>2.650952e+00</td>\n",
              "      <td>2.767383e+00</td>\n",
              "    </tr>\n",
              "  </tbody>\n",
              "</table>\n",
              "</div>\n",
              "      <button class=\"colab-df-convert\" onclick=\"convertToInteractive('df-bc5f1043-9788-41d6-85c8-6c668fc7f993')\"\n",
              "              title=\"Convert this dataframe to an interactive table.\"\n",
              "              style=\"display:none;\">\n",
              "        \n",
              "  <svg xmlns=\"http://www.w3.org/2000/svg\" height=\"24px\"viewBox=\"0 0 24 24\"\n",
              "       width=\"24px\">\n",
              "    <path d=\"M0 0h24v24H0V0z\" fill=\"none\"/>\n",
              "    <path d=\"M18.56 5.44l.94 2.06.94-2.06 2.06-.94-2.06-.94-.94-2.06-.94 2.06-2.06.94zm-11 1L8.5 8.5l.94-2.06 2.06-.94-2.06-.94L8.5 2.5l-.94 2.06-2.06.94zm10 10l.94 2.06.94-2.06 2.06-.94-2.06-.94-.94-2.06-.94 2.06-2.06.94z\"/><path d=\"M17.41 7.96l-1.37-1.37c-.4-.4-.92-.59-1.43-.59-.52 0-1.04.2-1.43.59L10.3 9.45l-7.72 7.72c-.78.78-.78 2.05 0 2.83L4 21.41c.39.39.9.59 1.41.59.51 0 1.02-.2 1.41-.59l7.78-7.78 2.81-2.81c.8-.78.8-2.07 0-2.86zM5.41 20L4 18.59l7.72-7.72 1.47 1.35L5.41 20z\"/>\n",
              "  </svg>\n",
              "      </button>\n",
              "      \n",
              "  <style>\n",
              "    .colab-df-container {\n",
              "      display:flex;\n",
              "      flex-wrap:wrap;\n",
              "      gap: 12px;\n",
              "    }\n",
              "\n",
              "    .colab-df-convert {\n",
              "      background-color: #E8F0FE;\n",
              "      border: none;\n",
              "      border-radius: 50%;\n",
              "      cursor: pointer;\n",
              "      display: none;\n",
              "      fill: #1967D2;\n",
              "      height: 32px;\n",
              "      padding: 0 0 0 0;\n",
              "      width: 32px;\n",
              "    }\n",
              "\n",
              "    .colab-df-convert:hover {\n",
              "      background-color: #E2EBFA;\n",
              "      box-shadow: 0px 1px 2px rgba(60, 64, 67, 0.3), 0px 1px 3px 1px rgba(60, 64, 67, 0.15);\n",
              "      fill: #174EA6;\n",
              "    }\n",
              "\n",
              "    [theme=dark] .colab-df-convert {\n",
              "      background-color: #3B4455;\n",
              "      fill: #D2E3FC;\n",
              "    }\n",
              "\n",
              "    [theme=dark] .colab-df-convert:hover {\n",
              "      background-color: #434B5C;\n",
              "      box-shadow: 0px 1px 3px 1px rgba(0, 0, 0, 0.15);\n",
              "      filter: drop-shadow(0px 1px 2px rgba(0, 0, 0, 0.3));\n",
              "      fill: #FFFFFF;\n",
              "    }\n",
              "  </style>\n",
              "\n",
              "      <script>\n",
              "        const buttonEl =\n",
              "          document.querySelector('#df-bc5f1043-9788-41d6-85c8-6c668fc7f993 button.colab-df-convert');\n",
              "        buttonEl.style.display =\n",
              "          google.colab.kernel.accessAllowed ? 'block' : 'none';\n",
              "\n",
              "        async function convertToInteractive(key) {\n",
              "          const element = document.querySelector('#df-bc5f1043-9788-41d6-85c8-6c668fc7f993');\n",
              "          const dataTable =\n",
              "            await google.colab.kernel.invokeFunction('convertToInteractive',\n",
              "                                                     [key], {});\n",
              "          if (!dataTable) return;\n",
              "\n",
              "          const docLinkHtml = 'Like what you see? Visit the ' +\n",
              "            '<a target=\"_blank\" href=https://colab.research.google.com/notebooks/data_table.ipynb>data table notebook</a>'\n",
              "            + ' to learn more about interactive tables.';\n",
              "          element.innerHTML = '';\n",
              "          dataTable['output_type'] = 'display_data';\n",
              "          await google.colab.output.renderOutput(dataTable, element);\n",
              "          const docLink = document.createElement('div');\n",
              "          docLink.innerHTML = docLinkHtml;\n",
              "          element.appendChild(docLink);\n",
              "        }\n",
              "      </script>\n",
              "    </div>\n",
              "  </div>\n",
              "  "
            ]
          },
          "metadata": {},
          "execution_count": 50
        }
      ]
    },
    {
      "cell_type": "markdown",
      "metadata": {
        "id": "ksgOdW4dSIz6"
      },
      "source": [
        "and it's time for one hot encodding for categorical values."
      ]
    },
    {
      "cell_type": "code",
      "metadata": {
        "id": "2VwXlsrzR_Rw",
        "outputId": "1bbcd2f7-c209-42cb-8106-8e38605bd0db",
        "colab": {
          "base_uri": "https://localhost:8080/",
          "height": 424
        }
      },
      "source": [
        "from sklearn.preprocessing import OneHotEncoder \n",
        "\n",
        "ohe = OneHotEncoder(sparse=False)\n",
        "one_hot = ohe.fit_transform(df[['cut']]) \n",
        "\n",
        "one_hot_df = pd.DataFrame(one_hot, columns=ohe.categories_[0]) \n",
        "df = pd.concat([df.drop(columns=['cut']).reset_index(drop=True), one_hot_df], axis=1)\n",
        "df"
      ],
      "execution_count": 51,
      "outputs": [
        {
          "output_type": "execute_result",
          "data": {
            "text/plain": [
              "        carat    price             x         y         z  fair  good  ideal  \\\n",
              "0    3.123990  13978.0  2.315200e+00  2.246754  2.526471   0.0   1.0    0.0   \n",
              "1    0.942286   5099.0  1.044727e+00  1.099960  1.005713   0.0   0.0    1.0   \n",
              "2   -0.227288   2874.0  6.092024e-03 -0.046834 -0.063334   0.0   0.0    1.0   \n",
              "3   -0.902042   1033.0  5.765582e-15 -0.958629 -0.981811   0.0   0.0    0.0   \n",
              "4    0.514941   5037.0  7.201535e-01  0.676962  0.629288   0.0   0.0    1.0   \n",
              "..        ...      ...           ...       ...       ...   ...   ...    ...   \n",
              "964 -0.902042   1050.0 -9.212606e-01 -0.968029 -0.951697   0.0   0.0    1.0   \n",
              "965 -1.081977    672.0 -1.245834e+00 -1.306427 -1.343180   0.0   0.0    1.0   \n",
              "966  0.964777  13034.0  1.100368e+00  1.175160  0.960542   0.0   0.0    1.0   \n",
              "967  1.369630   7339.0  1.480583e+00  1.560558  1.171340   0.0   0.0    0.0   \n",
              "968  0.627400   5172.0  7.201535e-01  0.780362  0.779858   0.0   0.0    1.0   \n",
              "\n",
              "     premium  very good  \n",
              "0        0.0        0.0  \n",
              "1        0.0        0.0  \n",
              "2        0.0        0.0  \n",
              "3        0.0        1.0  \n",
              "4        0.0        0.0  \n",
              "..       ...        ...  \n",
              "964      0.0        0.0  \n",
              "965      0.0        0.0  \n",
              "966      0.0        0.0  \n",
              "967      0.0        1.0  \n",
              "968      0.0        0.0  \n",
              "\n",
              "[969 rows x 10 columns]"
            ],
            "text/html": [
              "\n",
              "  <div id=\"df-b0354e7e-f8fe-4cb3-897e-c634cd2ca6cc\">\n",
              "    <div class=\"colab-df-container\">\n",
              "      <div>\n",
              "<style scoped>\n",
              "    .dataframe tbody tr th:only-of-type {\n",
              "        vertical-align: middle;\n",
              "    }\n",
              "\n",
              "    .dataframe tbody tr th {\n",
              "        vertical-align: top;\n",
              "    }\n",
              "\n",
              "    .dataframe thead th {\n",
              "        text-align: right;\n",
              "    }\n",
              "</style>\n",
              "<table border=\"1\" class=\"dataframe\">\n",
              "  <thead>\n",
              "    <tr style=\"text-align: right;\">\n",
              "      <th></th>\n",
              "      <th>carat</th>\n",
              "      <th>price</th>\n",
              "      <th>x</th>\n",
              "      <th>y</th>\n",
              "      <th>z</th>\n",
              "      <th>fair</th>\n",
              "      <th>good</th>\n",
              "      <th>ideal</th>\n",
              "      <th>premium</th>\n",
              "      <th>very good</th>\n",
              "    </tr>\n",
              "  </thead>\n",
              "  <tbody>\n",
              "    <tr>\n",
              "      <th>0</th>\n",
              "      <td>3.123990</td>\n",
              "      <td>13978.0</td>\n",
              "      <td>2.315200e+00</td>\n",
              "      <td>2.246754</td>\n",
              "      <td>2.526471</td>\n",
              "      <td>0.0</td>\n",
              "      <td>1.0</td>\n",
              "      <td>0.0</td>\n",
              "      <td>0.0</td>\n",
              "      <td>0.0</td>\n",
              "    </tr>\n",
              "    <tr>\n",
              "      <th>1</th>\n",
              "      <td>0.942286</td>\n",
              "      <td>5099.0</td>\n",
              "      <td>1.044727e+00</td>\n",
              "      <td>1.099960</td>\n",
              "      <td>1.005713</td>\n",
              "      <td>0.0</td>\n",
              "      <td>0.0</td>\n",
              "      <td>1.0</td>\n",
              "      <td>0.0</td>\n",
              "      <td>0.0</td>\n",
              "    </tr>\n",
              "    <tr>\n",
              "      <th>2</th>\n",
              "      <td>-0.227288</td>\n",
              "      <td>2874.0</td>\n",
              "      <td>6.092024e-03</td>\n",
              "      <td>-0.046834</td>\n",
              "      <td>-0.063334</td>\n",
              "      <td>0.0</td>\n",
              "      <td>0.0</td>\n",
              "      <td>1.0</td>\n",
              "      <td>0.0</td>\n",
              "      <td>0.0</td>\n",
              "    </tr>\n",
              "    <tr>\n",
              "      <th>3</th>\n",
              "      <td>-0.902042</td>\n",
              "      <td>1033.0</td>\n",
              "      <td>5.765582e-15</td>\n",
              "      <td>-0.958629</td>\n",
              "      <td>-0.981811</td>\n",
              "      <td>0.0</td>\n",
              "      <td>0.0</td>\n",
              "      <td>0.0</td>\n",
              "      <td>0.0</td>\n",
              "      <td>1.0</td>\n",
              "    </tr>\n",
              "    <tr>\n",
              "      <th>4</th>\n",
              "      <td>0.514941</td>\n",
              "      <td>5037.0</td>\n",
              "      <td>7.201535e-01</td>\n",
              "      <td>0.676962</td>\n",
              "      <td>0.629288</td>\n",
              "      <td>0.0</td>\n",
              "      <td>0.0</td>\n",
              "      <td>1.0</td>\n",
              "      <td>0.0</td>\n",
              "      <td>0.0</td>\n",
              "    </tr>\n",
              "    <tr>\n",
              "      <th>...</th>\n",
              "      <td>...</td>\n",
              "      <td>...</td>\n",
              "      <td>...</td>\n",
              "      <td>...</td>\n",
              "      <td>...</td>\n",
              "      <td>...</td>\n",
              "      <td>...</td>\n",
              "      <td>...</td>\n",
              "      <td>...</td>\n",
              "      <td>...</td>\n",
              "    </tr>\n",
              "    <tr>\n",
              "      <th>964</th>\n",
              "      <td>-0.902042</td>\n",
              "      <td>1050.0</td>\n",
              "      <td>-9.212606e-01</td>\n",
              "      <td>-0.968029</td>\n",
              "      <td>-0.951697</td>\n",
              "      <td>0.0</td>\n",
              "      <td>0.0</td>\n",
              "      <td>1.0</td>\n",
              "      <td>0.0</td>\n",
              "      <td>0.0</td>\n",
              "    </tr>\n",
              "    <tr>\n",
              "      <th>965</th>\n",
              "      <td>-1.081977</td>\n",
              "      <td>672.0</td>\n",
              "      <td>-1.245834e+00</td>\n",
              "      <td>-1.306427</td>\n",
              "      <td>-1.343180</td>\n",
              "      <td>0.0</td>\n",
              "      <td>0.0</td>\n",
              "      <td>1.0</td>\n",
              "      <td>0.0</td>\n",
              "      <td>0.0</td>\n",
              "    </tr>\n",
              "    <tr>\n",
              "      <th>966</th>\n",
              "      <td>0.964777</td>\n",
              "      <td>13034.0</td>\n",
              "      <td>1.100368e+00</td>\n",
              "      <td>1.175160</td>\n",
              "      <td>0.960542</td>\n",
              "      <td>0.0</td>\n",
              "      <td>0.0</td>\n",
              "      <td>1.0</td>\n",
              "      <td>0.0</td>\n",
              "      <td>0.0</td>\n",
              "    </tr>\n",
              "    <tr>\n",
              "      <th>967</th>\n",
              "      <td>1.369630</td>\n",
              "      <td>7339.0</td>\n",
              "      <td>1.480583e+00</td>\n",
              "      <td>1.560558</td>\n",
              "      <td>1.171340</td>\n",
              "      <td>0.0</td>\n",
              "      <td>0.0</td>\n",
              "      <td>0.0</td>\n",
              "      <td>0.0</td>\n",
              "      <td>1.0</td>\n",
              "    </tr>\n",
              "    <tr>\n",
              "      <th>968</th>\n",
              "      <td>0.627400</td>\n",
              "      <td>5172.0</td>\n",
              "      <td>7.201535e-01</td>\n",
              "      <td>0.780362</td>\n",
              "      <td>0.779858</td>\n",
              "      <td>0.0</td>\n",
              "      <td>0.0</td>\n",
              "      <td>1.0</td>\n",
              "      <td>0.0</td>\n",
              "      <td>0.0</td>\n",
              "    </tr>\n",
              "  </tbody>\n",
              "</table>\n",
              "<p>969 rows × 10 columns</p>\n",
              "</div>\n",
              "      <button class=\"colab-df-convert\" onclick=\"convertToInteractive('df-b0354e7e-f8fe-4cb3-897e-c634cd2ca6cc')\"\n",
              "              title=\"Convert this dataframe to an interactive table.\"\n",
              "              style=\"display:none;\">\n",
              "        \n",
              "  <svg xmlns=\"http://www.w3.org/2000/svg\" height=\"24px\"viewBox=\"0 0 24 24\"\n",
              "       width=\"24px\">\n",
              "    <path d=\"M0 0h24v24H0V0z\" fill=\"none\"/>\n",
              "    <path d=\"M18.56 5.44l.94 2.06.94-2.06 2.06-.94-2.06-.94-.94-2.06-.94 2.06-2.06.94zm-11 1L8.5 8.5l.94-2.06 2.06-.94-2.06-.94L8.5 2.5l-.94 2.06-2.06.94zm10 10l.94 2.06.94-2.06 2.06-.94-2.06-.94-.94-2.06-.94 2.06-2.06.94z\"/><path d=\"M17.41 7.96l-1.37-1.37c-.4-.4-.92-.59-1.43-.59-.52 0-1.04.2-1.43.59L10.3 9.45l-7.72 7.72c-.78.78-.78 2.05 0 2.83L4 21.41c.39.39.9.59 1.41.59.51 0 1.02-.2 1.41-.59l7.78-7.78 2.81-2.81c.8-.78.8-2.07 0-2.86zM5.41 20L4 18.59l7.72-7.72 1.47 1.35L5.41 20z\"/>\n",
              "  </svg>\n",
              "      </button>\n",
              "      \n",
              "  <style>\n",
              "    .colab-df-container {\n",
              "      display:flex;\n",
              "      flex-wrap:wrap;\n",
              "      gap: 12px;\n",
              "    }\n",
              "\n",
              "    .colab-df-convert {\n",
              "      background-color: #E8F0FE;\n",
              "      border: none;\n",
              "      border-radius: 50%;\n",
              "      cursor: pointer;\n",
              "      display: none;\n",
              "      fill: #1967D2;\n",
              "      height: 32px;\n",
              "      padding: 0 0 0 0;\n",
              "      width: 32px;\n",
              "    }\n",
              "\n",
              "    .colab-df-convert:hover {\n",
              "      background-color: #E2EBFA;\n",
              "      box-shadow: 0px 1px 2px rgba(60, 64, 67, 0.3), 0px 1px 3px 1px rgba(60, 64, 67, 0.15);\n",
              "      fill: #174EA6;\n",
              "    }\n",
              "\n",
              "    [theme=dark] .colab-df-convert {\n",
              "      background-color: #3B4455;\n",
              "      fill: #D2E3FC;\n",
              "    }\n",
              "\n",
              "    [theme=dark] .colab-df-convert:hover {\n",
              "      background-color: #434B5C;\n",
              "      box-shadow: 0px 1px 3px 1px rgba(0, 0, 0, 0.15);\n",
              "      filter: drop-shadow(0px 1px 2px rgba(0, 0, 0, 0.3));\n",
              "      fill: #FFFFFF;\n",
              "    }\n",
              "  </style>\n",
              "\n",
              "      <script>\n",
              "        const buttonEl =\n",
              "          document.querySelector('#df-b0354e7e-f8fe-4cb3-897e-c634cd2ca6cc button.colab-df-convert');\n",
              "        buttonEl.style.display =\n",
              "          google.colab.kernel.accessAllowed ? 'block' : 'none';\n",
              "\n",
              "        async function convertToInteractive(key) {\n",
              "          const element = document.querySelector('#df-b0354e7e-f8fe-4cb3-897e-c634cd2ca6cc');\n",
              "          const dataTable =\n",
              "            await google.colab.kernel.invokeFunction('convertToInteractive',\n",
              "                                                     [key], {});\n",
              "          if (!dataTable) return;\n",
              "\n",
              "          const docLinkHtml = 'Like what you see? Visit the ' +\n",
              "            '<a target=\"_blank\" href=https://colab.research.google.com/notebooks/data_table.ipynb>data table notebook</a>'\n",
              "            + ' to learn more about interactive tables.';\n",
              "          element.innerHTML = '';\n",
              "          dataTable['output_type'] = 'display_data';\n",
              "          await google.colab.output.renderOutput(dataTable, element);\n",
              "          const docLink = document.createElement('div');\n",
              "          docLink.innerHTML = docLinkHtml;\n",
              "          element.appendChild(docLink);\n",
              "        }\n",
              "      </script>\n",
              "    </div>\n",
              "  </div>\n",
              "  "
            ]
          },
          "metadata": {},
          "execution_count": 51
        }
      ]
    },
    {
      "cell_type": "markdown",
      "metadata": {
        "id": "JQokguUNUHnj"
      },
      "source": [
        "Finally we should split our dataset to train, validation and test set. Train set is used for model training, via valid set we check the result of model we got from training and we change parameters on this step or we change model itself and finally we test our final result using test set."
      ]
    },
    {
      "cell_type": "markdown",
      "metadata": {
        "id": "z-ybzFxtUyTr"
      },
      "source": [
        "Let's use 70/15/15 proportion for train/valid/test but first we should seperate target column. Usually target column is denoted by `y` and all other features by `X`."
      ]
    },
    {
      "cell_type": "code",
      "metadata": {
        "id": "z6hN5Zs4S3kk"
      },
      "source": [
        "from sklearn.model_selection import train_test_split\n",
        "\n",
        "y = df['price']\n",
        "X = df.drop(columns=['price'])\n",
        "X_train, X_test, y_train, y_test = train_test_split(X, y, test_size=0.3, random_state=3)\n",
        "X_test, X_val, y_test, y_val = train_test_split(X_test, y_test, test_size=0.5, random_state=3)"
      ],
      "execution_count": 52,
      "outputs": []
    },
    {
      "cell_type": "code",
      "metadata": {
        "id": "rwDKx4fcWSFg",
        "outputId": "2e78f0fb-fb19-4567-8fda-4c516a6ff4e5",
        "colab": {
          "base_uri": "https://localhost:8080/",
          "height": 424
        }
      },
      "source": [
        "X_train"
      ],
      "execution_count": 53,
      "outputs": [
        {
          "output_type": "execute_result",
          "data": {
            "text/plain": [
              "        carat             x             y         z  fair  good  ideal  \\\n",
              "107 -1.104468 -1.366390e+00 -1.362827e+00 -1.282951   0.0   0.0    0.0   \n",
              "429 -0.654632 -5.966872e-01 -5.732312e-01 -0.530101   0.0   0.0    1.0   \n",
              "487  0.897302  1.072548e+00  1.024760e+00  0.990656   0.0   0.0    1.0   \n",
              "236 -0.159813 -4.027561e-02  1.658205e-04  0.042065   0.0   0.0    1.0   \n",
              "619  1.009761  1.146736e+00  8.348833e-16  1.020770   0.0   0.0    0.0   \n",
              "..        ...           ...           ...       ...   ...   ...    ...   \n",
              "952 -0.947026  5.765582e-15 -8.552297e-01 -1.222723   0.0   1.0    0.0   \n",
              "643  0.649892  8.036153e-01  8.555613e-01  0.779858   0.0   0.0    0.0   \n",
              "249 -1.126960 -1.357116e+00 -1.381627e+00 -1.298008   0.0   0.0    1.0   \n",
              "664 -1.126960 -1.347843e+00 -1.419227e+00 -1.252837   0.0   0.0    0.0   \n",
              "874 -1.104468 -1.366390e+00 -1.362827e+00 -1.267894   0.0   0.0    0.0   \n",
              "\n",
              "     premium  very good  \n",
              "107      1.0        0.0  \n",
              "429      0.0        0.0  \n",
              "487      0.0        0.0  \n",
              "236      0.0        0.0  \n",
              "619      0.0        1.0  \n",
              "..       ...        ...  \n",
              "952      0.0        0.0  \n",
              "643      0.0        1.0  \n",
              "249      0.0        0.0  \n",
              "664      0.0        1.0  \n",
              "874      0.0        1.0  \n",
              "\n",
              "[678 rows x 9 columns]"
            ],
            "text/html": [
              "\n",
              "  <div id=\"df-33776c8f-4854-4d80-ac4e-75983af9a9be\">\n",
              "    <div class=\"colab-df-container\">\n",
              "      <div>\n",
              "<style scoped>\n",
              "    .dataframe tbody tr th:only-of-type {\n",
              "        vertical-align: middle;\n",
              "    }\n",
              "\n",
              "    .dataframe tbody tr th {\n",
              "        vertical-align: top;\n",
              "    }\n",
              "\n",
              "    .dataframe thead th {\n",
              "        text-align: right;\n",
              "    }\n",
              "</style>\n",
              "<table border=\"1\" class=\"dataframe\">\n",
              "  <thead>\n",
              "    <tr style=\"text-align: right;\">\n",
              "      <th></th>\n",
              "      <th>carat</th>\n",
              "      <th>x</th>\n",
              "      <th>y</th>\n",
              "      <th>z</th>\n",
              "      <th>fair</th>\n",
              "      <th>good</th>\n",
              "      <th>ideal</th>\n",
              "      <th>premium</th>\n",
              "      <th>very good</th>\n",
              "    </tr>\n",
              "  </thead>\n",
              "  <tbody>\n",
              "    <tr>\n",
              "      <th>107</th>\n",
              "      <td>-1.104468</td>\n",
              "      <td>-1.366390e+00</td>\n",
              "      <td>-1.362827e+00</td>\n",
              "      <td>-1.282951</td>\n",
              "      <td>0.0</td>\n",
              "      <td>0.0</td>\n",
              "      <td>0.0</td>\n",
              "      <td>1.0</td>\n",
              "      <td>0.0</td>\n",
              "    </tr>\n",
              "    <tr>\n",
              "      <th>429</th>\n",
              "      <td>-0.654632</td>\n",
              "      <td>-5.966872e-01</td>\n",
              "      <td>-5.732312e-01</td>\n",
              "      <td>-0.530101</td>\n",
              "      <td>0.0</td>\n",
              "      <td>0.0</td>\n",
              "      <td>1.0</td>\n",
              "      <td>0.0</td>\n",
              "      <td>0.0</td>\n",
              "    </tr>\n",
              "    <tr>\n",
              "      <th>487</th>\n",
              "      <td>0.897302</td>\n",
              "      <td>1.072548e+00</td>\n",
              "      <td>1.024760e+00</td>\n",
              "      <td>0.990656</td>\n",
              "      <td>0.0</td>\n",
              "      <td>0.0</td>\n",
              "      <td>1.0</td>\n",
              "      <td>0.0</td>\n",
              "      <td>0.0</td>\n",
              "    </tr>\n",
              "    <tr>\n",
              "      <th>236</th>\n",
              "      <td>-0.159813</td>\n",
              "      <td>-4.027561e-02</td>\n",
              "      <td>1.658205e-04</td>\n",
              "      <td>0.042065</td>\n",
              "      <td>0.0</td>\n",
              "      <td>0.0</td>\n",
              "      <td>1.0</td>\n",
              "      <td>0.0</td>\n",
              "      <td>0.0</td>\n",
              "    </tr>\n",
              "    <tr>\n",
              "      <th>619</th>\n",
              "      <td>1.009761</td>\n",
              "      <td>1.146736e+00</td>\n",
              "      <td>8.348833e-16</td>\n",
              "      <td>1.020770</td>\n",
              "      <td>0.0</td>\n",
              "      <td>0.0</td>\n",
              "      <td>0.0</td>\n",
              "      <td>0.0</td>\n",
              "      <td>1.0</td>\n",
              "    </tr>\n",
              "    <tr>\n",
              "      <th>...</th>\n",
              "      <td>...</td>\n",
              "      <td>...</td>\n",
              "      <td>...</td>\n",
              "      <td>...</td>\n",
              "      <td>...</td>\n",
              "      <td>...</td>\n",
              "      <td>...</td>\n",
              "      <td>...</td>\n",
              "      <td>...</td>\n",
              "    </tr>\n",
              "    <tr>\n",
              "      <th>952</th>\n",
              "      <td>-0.947026</td>\n",
              "      <td>5.765582e-15</td>\n",
              "      <td>-8.552297e-01</td>\n",
              "      <td>-1.222723</td>\n",
              "      <td>0.0</td>\n",
              "      <td>1.0</td>\n",
              "      <td>0.0</td>\n",
              "      <td>0.0</td>\n",
              "      <td>0.0</td>\n",
              "    </tr>\n",
              "    <tr>\n",
              "      <th>643</th>\n",
              "      <td>0.649892</td>\n",
              "      <td>8.036153e-01</td>\n",
              "      <td>8.555613e-01</td>\n",
              "      <td>0.779858</td>\n",
              "      <td>0.0</td>\n",
              "      <td>0.0</td>\n",
              "      <td>0.0</td>\n",
              "      <td>0.0</td>\n",
              "      <td>1.0</td>\n",
              "    </tr>\n",
              "    <tr>\n",
              "      <th>249</th>\n",
              "      <td>-1.126960</td>\n",
              "      <td>-1.357116e+00</td>\n",
              "      <td>-1.381627e+00</td>\n",
              "      <td>-1.298008</td>\n",
              "      <td>0.0</td>\n",
              "      <td>0.0</td>\n",
              "      <td>1.0</td>\n",
              "      <td>0.0</td>\n",
              "      <td>0.0</td>\n",
              "    </tr>\n",
              "    <tr>\n",
              "      <th>664</th>\n",
              "      <td>-1.126960</td>\n",
              "      <td>-1.347843e+00</td>\n",
              "      <td>-1.419227e+00</td>\n",
              "      <td>-1.252837</td>\n",
              "      <td>0.0</td>\n",
              "      <td>0.0</td>\n",
              "      <td>0.0</td>\n",
              "      <td>0.0</td>\n",
              "      <td>1.0</td>\n",
              "    </tr>\n",
              "    <tr>\n",
              "      <th>874</th>\n",
              "      <td>-1.104468</td>\n",
              "      <td>-1.366390e+00</td>\n",
              "      <td>-1.362827e+00</td>\n",
              "      <td>-1.267894</td>\n",
              "      <td>0.0</td>\n",
              "      <td>0.0</td>\n",
              "      <td>0.0</td>\n",
              "      <td>0.0</td>\n",
              "      <td>1.0</td>\n",
              "    </tr>\n",
              "  </tbody>\n",
              "</table>\n",
              "<p>678 rows × 9 columns</p>\n",
              "</div>\n",
              "      <button class=\"colab-df-convert\" onclick=\"convertToInteractive('df-33776c8f-4854-4d80-ac4e-75983af9a9be')\"\n",
              "              title=\"Convert this dataframe to an interactive table.\"\n",
              "              style=\"display:none;\">\n",
              "        \n",
              "  <svg xmlns=\"http://www.w3.org/2000/svg\" height=\"24px\"viewBox=\"0 0 24 24\"\n",
              "       width=\"24px\">\n",
              "    <path d=\"M0 0h24v24H0V0z\" fill=\"none\"/>\n",
              "    <path d=\"M18.56 5.44l.94 2.06.94-2.06 2.06-.94-2.06-.94-.94-2.06-.94 2.06-2.06.94zm-11 1L8.5 8.5l.94-2.06 2.06-.94-2.06-.94L8.5 2.5l-.94 2.06-2.06.94zm10 10l.94 2.06.94-2.06 2.06-.94-2.06-.94-.94-2.06-.94 2.06-2.06.94z\"/><path d=\"M17.41 7.96l-1.37-1.37c-.4-.4-.92-.59-1.43-.59-.52 0-1.04.2-1.43.59L10.3 9.45l-7.72 7.72c-.78.78-.78 2.05 0 2.83L4 21.41c.39.39.9.59 1.41.59.51 0 1.02-.2 1.41-.59l7.78-7.78 2.81-2.81c.8-.78.8-2.07 0-2.86zM5.41 20L4 18.59l7.72-7.72 1.47 1.35L5.41 20z\"/>\n",
              "  </svg>\n",
              "      </button>\n",
              "      \n",
              "  <style>\n",
              "    .colab-df-container {\n",
              "      display:flex;\n",
              "      flex-wrap:wrap;\n",
              "      gap: 12px;\n",
              "    }\n",
              "\n",
              "    .colab-df-convert {\n",
              "      background-color: #E8F0FE;\n",
              "      border: none;\n",
              "      border-radius: 50%;\n",
              "      cursor: pointer;\n",
              "      display: none;\n",
              "      fill: #1967D2;\n",
              "      height: 32px;\n",
              "      padding: 0 0 0 0;\n",
              "      width: 32px;\n",
              "    }\n",
              "\n",
              "    .colab-df-convert:hover {\n",
              "      background-color: #E2EBFA;\n",
              "      box-shadow: 0px 1px 2px rgba(60, 64, 67, 0.3), 0px 1px 3px 1px rgba(60, 64, 67, 0.15);\n",
              "      fill: #174EA6;\n",
              "    }\n",
              "\n",
              "    [theme=dark] .colab-df-convert {\n",
              "      background-color: #3B4455;\n",
              "      fill: #D2E3FC;\n",
              "    }\n",
              "\n",
              "    [theme=dark] .colab-df-convert:hover {\n",
              "      background-color: #434B5C;\n",
              "      box-shadow: 0px 1px 3px 1px rgba(0, 0, 0, 0.15);\n",
              "      filter: drop-shadow(0px 1px 2px rgba(0, 0, 0, 0.3));\n",
              "      fill: #FFFFFF;\n",
              "    }\n",
              "  </style>\n",
              "\n",
              "      <script>\n",
              "        const buttonEl =\n",
              "          document.querySelector('#df-33776c8f-4854-4d80-ac4e-75983af9a9be button.colab-df-convert');\n",
              "        buttonEl.style.display =\n",
              "          google.colab.kernel.accessAllowed ? 'block' : 'none';\n",
              "\n",
              "        async function convertToInteractive(key) {\n",
              "          const element = document.querySelector('#df-33776c8f-4854-4d80-ac4e-75983af9a9be');\n",
              "          const dataTable =\n",
              "            await google.colab.kernel.invokeFunction('convertToInteractive',\n",
              "                                                     [key], {});\n",
              "          if (!dataTable) return;\n",
              "\n",
              "          const docLinkHtml = 'Like what you see? Visit the ' +\n",
              "            '<a target=\"_blank\" href=https://colab.research.google.com/notebooks/data_table.ipynb>data table notebook</a>'\n",
              "            + ' to learn more about interactive tables.';\n",
              "          element.innerHTML = '';\n",
              "          dataTable['output_type'] = 'display_data';\n",
              "          await google.colab.output.renderOutput(dataTable, element);\n",
              "          const docLink = document.createElement('div');\n",
              "          docLink.innerHTML = docLinkHtml;\n",
              "          element.appendChild(docLink);\n",
              "        }\n",
              "      </script>\n",
              "    </div>\n",
              "  </div>\n",
              "  "
            ]
          },
          "metadata": {},
          "execution_count": 53
        }
      ]
    },
    {
      "cell_type": "code",
      "metadata": {
        "id": "hzovYWZmWXIi",
        "outputId": "9c20e7bf-30c2-458d-c376-1d5cac8f4787",
        "colab": {
          "base_uri": "https://localhost:8080/"
        }
      },
      "source": [
        "y_val"
      ],
      "execution_count": 54,
      "outputs": [
        {
          "output_type": "execute_result",
          "data": {
            "text/plain": [
              "721     6997.0\n",
              "358     4042.0\n",
              "211     1311.0\n",
              "227    13182.0\n",
              "638      924.0\n",
              "        ...   \n",
              "673      602.0\n",
              "890     2416.0\n",
              "879     2770.0\n",
              "134     8124.0\n",
              "415    15897.0\n",
              "Name: price, Length: 146, dtype: float64"
            ]
          },
          "metadata": {},
          "execution_count": 54
        }
      ]
    },
    {
      "cell_type": "code",
      "metadata": {
        "id": "KrInRRTOWZ41",
        "outputId": "bb8c1e26-10d4-4b90-a73c-238850e6dbe4",
        "colab": {
          "base_uri": "https://localhost:8080/",
          "height": 424
        }
      },
      "source": [
        "X_test"
      ],
      "execution_count": 55,
      "outputs": [
        {
          "output_type": "execute_result",
          "data": {
            "text/plain": [
              "            carat         x             y         z  fair  good  ideal  \\\n",
              "676 -8.570586e-01 -0.921261 -9.304293e-01 -0.801127   0.0   1.0    0.0   \n",
              "791 -7.670914e-01 -0.661602 -6.390308e-01 -0.846298   0.0   0.0    0.0   \n",
              "914 -1.081977e+00 -1.310749  8.348833e-16 -1.267894   0.0   0.0    0.0   \n",
              "592 -1.373209e-01 -0.031002 -2.803403e-02  0.102293   0.0   1.0    0.0   \n",
              "143 -9.920094e-01 -1.134552 -1.118428e+00 -1.042039   0.0   0.0    1.0   \n",
              "..            ...       ...           ...       ...   ...   ...    ...   \n",
              "349 -9.020422e-01 -0.939808 -9.774291e-01 -0.981811   0.0   0.0    0.0   \n",
              "388 -3.995347e-15 -1.282928 -1.334627e+00 -1.267894   0.0   0.0    1.0   \n",
              "726  2.675315e-01  0.349212  2.915643e-01  0.508832   0.0   1.0    0.0   \n",
              "39  -1.373209e-01  0.089554  9.416533e-02  0.027008   0.0   0.0    1.0   \n",
              "124  3.799905e-01  0.645965  5.453630e-01  0.448604   0.0   1.0    0.0   \n",
              "\n",
              "     premium  very good  \n",
              "676      0.0        0.0  \n",
              "791      0.0        1.0  \n",
              "914      1.0        0.0  \n",
              "592      0.0        0.0  \n",
              "143      0.0        0.0  \n",
              "..       ...        ...  \n",
              "349      1.0        0.0  \n",
              "388      0.0        0.0  \n",
              "726      0.0        0.0  \n",
              "39       0.0        0.0  \n",
              "124      0.0        0.0  \n",
              "\n",
              "[145 rows x 9 columns]"
            ],
            "text/html": [
              "\n",
              "  <div id=\"df-be3df20d-ddd4-43e5-8005-5f01a41c2e6b\">\n",
              "    <div class=\"colab-df-container\">\n",
              "      <div>\n",
              "<style scoped>\n",
              "    .dataframe tbody tr th:only-of-type {\n",
              "        vertical-align: middle;\n",
              "    }\n",
              "\n",
              "    .dataframe tbody tr th {\n",
              "        vertical-align: top;\n",
              "    }\n",
              "\n",
              "    .dataframe thead th {\n",
              "        text-align: right;\n",
              "    }\n",
              "</style>\n",
              "<table border=\"1\" class=\"dataframe\">\n",
              "  <thead>\n",
              "    <tr style=\"text-align: right;\">\n",
              "      <th></th>\n",
              "      <th>carat</th>\n",
              "      <th>x</th>\n",
              "      <th>y</th>\n",
              "      <th>z</th>\n",
              "      <th>fair</th>\n",
              "      <th>good</th>\n",
              "      <th>ideal</th>\n",
              "      <th>premium</th>\n",
              "      <th>very good</th>\n",
              "    </tr>\n",
              "  </thead>\n",
              "  <tbody>\n",
              "    <tr>\n",
              "      <th>676</th>\n",
              "      <td>-8.570586e-01</td>\n",
              "      <td>-0.921261</td>\n",
              "      <td>-9.304293e-01</td>\n",
              "      <td>-0.801127</td>\n",
              "      <td>0.0</td>\n",
              "      <td>1.0</td>\n",
              "      <td>0.0</td>\n",
              "      <td>0.0</td>\n",
              "      <td>0.0</td>\n",
              "    </tr>\n",
              "    <tr>\n",
              "      <th>791</th>\n",
              "      <td>-7.670914e-01</td>\n",
              "      <td>-0.661602</td>\n",
              "      <td>-6.390308e-01</td>\n",
              "      <td>-0.846298</td>\n",
              "      <td>0.0</td>\n",
              "      <td>0.0</td>\n",
              "      <td>0.0</td>\n",
              "      <td>0.0</td>\n",
              "      <td>1.0</td>\n",
              "    </tr>\n",
              "    <tr>\n",
              "      <th>914</th>\n",
              "      <td>-1.081977e+00</td>\n",
              "      <td>-1.310749</td>\n",
              "      <td>8.348833e-16</td>\n",
              "      <td>-1.267894</td>\n",
              "      <td>0.0</td>\n",
              "      <td>0.0</td>\n",
              "      <td>0.0</td>\n",
              "      <td>1.0</td>\n",
              "      <td>0.0</td>\n",
              "    </tr>\n",
              "    <tr>\n",
              "      <th>592</th>\n",
              "      <td>-1.373209e-01</td>\n",
              "      <td>-0.031002</td>\n",
              "      <td>-2.803403e-02</td>\n",
              "      <td>0.102293</td>\n",
              "      <td>0.0</td>\n",
              "      <td>1.0</td>\n",
              "      <td>0.0</td>\n",
              "      <td>0.0</td>\n",
              "      <td>0.0</td>\n",
              "    </tr>\n",
              "    <tr>\n",
              "      <th>143</th>\n",
              "      <td>-9.920094e-01</td>\n",
              "      <td>-1.134552</td>\n",
              "      <td>-1.118428e+00</td>\n",
              "      <td>-1.042039</td>\n",
              "      <td>0.0</td>\n",
              "      <td>0.0</td>\n",
              "      <td>1.0</td>\n",
              "      <td>0.0</td>\n",
              "      <td>0.0</td>\n",
              "    </tr>\n",
              "    <tr>\n",
              "      <th>...</th>\n",
              "      <td>...</td>\n",
              "      <td>...</td>\n",
              "      <td>...</td>\n",
              "      <td>...</td>\n",
              "      <td>...</td>\n",
              "      <td>...</td>\n",
              "      <td>...</td>\n",
              "      <td>...</td>\n",
              "      <td>...</td>\n",
              "    </tr>\n",
              "    <tr>\n",
              "      <th>349</th>\n",
              "      <td>-9.020422e-01</td>\n",
              "      <td>-0.939808</td>\n",
              "      <td>-9.774291e-01</td>\n",
              "      <td>-0.981811</td>\n",
              "      <td>0.0</td>\n",
              "      <td>0.0</td>\n",
              "      <td>0.0</td>\n",
              "      <td>1.0</td>\n",
              "      <td>0.0</td>\n",
              "    </tr>\n",
              "    <tr>\n",
              "      <th>388</th>\n",
              "      <td>-3.995347e-15</td>\n",
              "      <td>-1.282928</td>\n",
              "      <td>-1.334627e+00</td>\n",
              "      <td>-1.267894</td>\n",
              "      <td>0.0</td>\n",
              "      <td>0.0</td>\n",
              "      <td>1.0</td>\n",
              "      <td>0.0</td>\n",
              "      <td>0.0</td>\n",
              "    </tr>\n",
              "    <tr>\n",
              "      <th>726</th>\n",
              "      <td>2.675315e-01</td>\n",
              "      <td>0.349212</td>\n",
              "      <td>2.915643e-01</td>\n",
              "      <td>0.508832</td>\n",
              "      <td>0.0</td>\n",
              "      <td>1.0</td>\n",
              "      <td>0.0</td>\n",
              "      <td>0.0</td>\n",
              "      <td>0.0</td>\n",
              "    </tr>\n",
              "    <tr>\n",
              "      <th>39</th>\n",
              "      <td>-1.373209e-01</td>\n",
              "      <td>0.089554</td>\n",
              "      <td>9.416533e-02</td>\n",
              "      <td>0.027008</td>\n",
              "      <td>0.0</td>\n",
              "      <td>0.0</td>\n",
              "      <td>1.0</td>\n",
              "      <td>0.0</td>\n",
              "      <td>0.0</td>\n",
              "    </tr>\n",
              "    <tr>\n",
              "      <th>124</th>\n",
              "      <td>3.799905e-01</td>\n",
              "      <td>0.645965</td>\n",
              "      <td>5.453630e-01</td>\n",
              "      <td>0.448604</td>\n",
              "      <td>0.0</td>\n",
              "      <td>1.0</td>\n",
              "      <td>0.0</td>\n",
              "      <td>0.0</td>\n",
              "      <td>0.0</td>\n",
              "    </tr>\n",
              "  </tbody>\n",
              "</table>\n",
              "<p>145 rows × 9 columns</p>\n",
              "</div>\n",
              "      <button class=\"colab-df-convert\" onclick=\"convertToInteractive('df-be3df20d-ddd4-43e5-8005-5f01a41c2e6b')\"\n",
              "              title=\"Convert this dataframe to an interactive table.\"\n",
              "              style=\"display:none;\">\n",
              "        \n",
              "  <svg xmlns=\"http://www.w3.org/2000/svg\" height=\"24px\"viewBox=\"0 0 24 24\"\n",
              "       width=\"24px\">\n",
              "    <path d=\"M0 0h24v24H0V0z\" fill=\"none\"/>\n",
              "    <path d=\"M18.56 5.44l.94 2.06.94-2.06 2.06-.94-2.06-.94-.94-2.06-.94 2.06-2.06.94zm-11 1L8.5 8.5l.94-2.06 2.06-.94-2.06-.94L8.5 2.5l-.94 2.06-2.06.94zm10 10l.94 2.06.94-2.06 2.06-.94-2.06-.94-.94-2.06-.94 2.06-2.06.94z\"/><path d=\"M17.41 7.96l-1.37-1.37c-.4-.4-.92-.59-1.43-.59-.52 0-1.04.2-1.43.59L10.3 9.45l-7.72 7.72c-.78.78-.78 2.05 0 2.83L4 21.41c.39.39.9.59 1.41.59.51 0 1.02-.2 1.41-.59l7.78-7.78 2.81-2.81c.8-.78.8-2.07 0-2.86zM5.41 20L4 18.59l7.72-7.72 1.47 1.35L5.41 20z\"/>\n",
              "  </svg>\n",
              "      </button>\n",
              "      \n",
              "  <style>\n",
              "    .colab-df-container {\n",
              "      display:flex;\n",
              "      flex-wrap:wrap;\n",
              "      gap: 12px;\n",
              "    }\n",
              "\n",
              "    .colab-df-convert {\n",
              "      background-color: #E8F0FE;\n",
              "      border: none;\n",
              "      border-radius: 50%;\n",
              "      cursor: pointer;\n",
              "      display: none;\n",
              "      fill: #1967D2;\n",
              "      height: 32px;\n",
              "      padding: 0 0 0 0;\n",
              "      width: 32px;\n",
              "    }\n",
              "\n",
              "    .colab-df-convert:hover {\n",
              "      background-color: #E2EBFA;\n",
              "      box-shadow: 0px 1px 2px rgba(60, 64, 67, 0.3), 0px 1px 3px 1px rgba(60, 64, 67, 0.15);\n",
              "      fill: #174EA6;\n",
              "    }\n",
              "\n",
              "    [theme=dark] .colab-df-convert {\n",
              "      background-color: #3B4455;\n",
              "      fill: #D2E3FC;\n",
              "    }\n",
              "\n",
              "    [theme=dark] .colab-df-convert:hover {\n",
              "      background-color: #434B5C;\n",
              "      box-shadow: 0px 1px 3px 1px rgba(0, 0, 0, 0.15);\n",
              "      filter: drop-shadow(0px 1px 2px rgba(0, 0, 0, 0.3));\n",
              "      fill: #FFFFFF;\n",
              "    }\n",
              "  </style>\n",
              "\n",
              "      <script>\n",
              "        const buttonEl =\n",
              "          document.querySelector('#df-be3df20d-ddd4-43e5-8005-5f01a41c2e6b button.colab-df-convert');\n",
              "        buttonEl.style.display =\n",
              "          google.colab.kernel.accessAllowed ? 'block' : 'none';\n",
              "\n",
              "        async function convertToInteractive(key) {\n",
              "          const element = document.querySelector('#df-be3df20d-ddd4-43e5-8005-5f01a41c2e6b');\n",
              "          const dataTable =\n",
              "            await google.colab.kernel.invokeFunction('convertToInteractive',\n",
              "                                                     [key], {});\n",
              "          if (!dataTable) return;\n",
              "\n",
              "          const docLinkHtml = 'Like what you see? Visit the ' +\n",
              "            '<a target=\"_blank\" href=https://colab.research.google.com/notebooks/data_table.ipynb>data table notebook</a>'\n",
              "            + ' to learn more about interactive tables.';\n",
              "          element.innerHTML = '';\n",
              "          dataTable['output_type'] = 'display_data';\n",
              "          await google.colab.output.renderOutput(dataTable, element);\n",
              "          const docLink = document.createElement('div');\n",
              "          docLink.innerHTML = docLinkHtml;\n",
              "          element.appendChild(docLink);\n",
              "        }\n",
              "      </script>\n",
              "    </div>\n",
              "  </div>\n",
              "  "
            ]
          },
          "metadata": {},
          "execution_count": 55
        }
      ]
    },
    {
      "cell_type": "markdown",
      "metadata": {
        "id": "oGM20qCSWjxY"
      },
      "source": [
        "Some models do this split process by its own so sometimes we don't need this split part."
      ]
    },
    {
      "cell_type": "code",
      "metadata": {
        "id": "LLqfsjywWgHb"
      },
      "source": [
        "X_train.to_csv('X_train.csv')"
      ],
      "execution_count": 65,
      "outputs": []
    },
    {
      "cell_type": "code",
      "source": [
        "y_train.to_csv('y_train.csv')"
      ],
      "metadata": {
        "id": "Ffxw9RtjjDJp"
      },
      "execution_count": 66,
      "outputs": []
    },
    {
      "cell_type": "code",
      "source": [
        "X_val.to_csv('X_val.csv')"
      ],
      "metadata": {
        "id": "U1wZyJdejxE0"
      },
      "execution_count": 67,
      "outputs": []
    },
    {
      "cell_type": "code",
      "source": [
        "y_val.to_csv('y_val.csv')"
      ],
      "metadata": {
        "id": "NmkWdk6fjx_0"
      },
      "execution_count": 68,
      "outputs": []
    },
    {
      "cell_type": "code",
      "source": [
        "X_test.to_csv('X_test.csv')"
      ],
      "metadata": {
        "id": "5PwH5r87jy4L"
      },
      "execution_count": 69,
      "outputs": []
    },
    {
      "cell_type": "code",
      "source": [
        "y_test.to_csv('y_test.csv')"
      ],
      "metadata": {
        "id": "DsplWzi7jzsb"
      },
      "execution_count": 70,
      "outputs": []
    },
    {
      "cell_type": "code",
      "source": [
        ""
      ],
      "metadata": {
        "id": "6tC4WYfZj0Ym"
      },
      "execution_count": null,
      "outputs": []
    }
  ]
}