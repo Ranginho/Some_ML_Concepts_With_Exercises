{
  "nbformat": 4,
  "nbformat_minor": 0,
  "metadata": {
    "colab": {
      "name": "Overfitting_Underfitting.ipynb",
      "provenance": [],
      "collapsed_sections": []
    },
    "kernelspec": {
      "name": "python3",
      "display_name": "Python 3"
    }
  },
  "cells": [
    {
      "cell_type": "markdown",
      "metadata": {
        "id": "biz4ZLb7iswP"
      },
      "source": [
        "Very important part of machine learning is that our model should be general enough to predict correct outputs for the data that it haven't seen yet. If model has problem with that, it may be caused by overfitting or underfitting."
      ]
    },
    {
      "cell_type": "markdown",
      "metadata": {
        "id": "OkiCQuGalgN0"
      },
      "source": [
        "### Overfitting"
      ]
    },
    {
      "cell_type": "markdown",
      "metadata": {
        "id": "RvtFPjLzljG4"
      },
      "source": [
        "Overfitting means that our model is over fitted to our data. Very often this happens when we have too complex model or we trained our model for too many epochs."
      ]
    },
    {
      "cell_type": "markdown",
      "metadata": {
        "id": "9xPiucRnMUVT"
      },
      "source": [
        "When we have much better result on testset than on validation set, we can be almost completely sure that we have overfitting."
      ]
    },
    {
      "cell_type": "markdown",
      "metadata": {
        "id": "jgemoUtSnf7Z"
      },
      "source": [
        "for simplisity let's consider one variable machine learning model"
      ]
    },
    {
      "cell_type": "markdown",
      "metadata": {
        "id": "rPBNMTQJqzLI"
      },
      "source": [
        "Let's have some points for regression"
      ]
    },
    {
      "cell_type": "code",
      "metadata": {
        "id": "6AOJeUWFnoj8",
        "colab": {
          "base_uri": "https://localhost:8080/",
          "height": 269
        },
        "outputId": "be9facca-63d6-449e-f4fc-b468fb28a5fd"
      },
      "source": [
        "%matplotlib inline\n",
        "import matplotlib.pyplot as plt\n",
        "import numpy as np\n",
        "\n",
        "np.random.seed(7)   # ყველა გაშვებაზე იგივე შედეგი რომ მოგვცეს\n",
        "\n",
        "x = np.arange(1, 6, 0.25)   # x ღერძზე თანაბრად დაშორებული წერტილები ავიღოთ\n",
        "# y ღერძზე ავიღოთ შემთხვევითი რიცხვები და მივცეთ მცირედი ზრდის ტენდენცია\n",
        "y1 = np.random.rand(10)*1.2 + 4\n",
        "y2 = np.random.rand(10)*2 + 4.5  \n",
        "y = np.concatenate([y1, y2])\n",
        "\n",
        "plt.scatter(x, y) \n",
        "plt.yticks(range(2, 8))\n",
        "plt.show()"
      ],
      "execution_count": 1,
      "outputs": [
        {
          "output_type": "display_data",
          "data": {
            "text/plain": [
              "<Figure size 432x288 with 1 Axes>"
            ],
            "image/png": "[encoded data removed]"
          },
          "metadata": {
            "needs_background": "light"
          }
        }
      ]
    },
    {
      "cell_type": "markdown",
      "metadata": {
        "id": "WzVYIkhAs34e"
      },
      "source": [
        "We can fit a line or some more complex function to this points. Our error will be less if we use higher order polynom. "
      ]
    },
    {
      "cell_type": "markdown",
      "metadata": {
        "id": "Lz3GPvTxtWUF"
      },
      "source": [
        "We can use `polyfit()` method from numpy library for fitting different order polynomials to points using least squares method, we'll pass `x`, `y` and the order of polynom and this function returns the polynom. This method evaluares result by mathematical way and not AI."
      ]
    },
    {
      "cell_type": "code",
      "metadata": {
        "id": "CFLgvMy6uvHt",
        "colab": {
          "base_uri": "https://localhost:8080/"
        },
        "outputId": "5c5d46b1-bb8a-4acd-f382-0e860a267df9"
      },
      "source": [
        "z = np.polyfit(x, y, 1)  # line\n",
        "z"
      ],
      "execution_count": 3,
      "outputs": [
        {
          "output_type": "execute_result",
          "data": {
            "text/plain": [
              "array([0.22877966, 4.24535348])"
            ]
          },
          "metadata": {},
          "execution_count": 3
        }
      ]
    },
    {
      "cell_type": "code",
      "metadata": {
        "id": "gKAMtFBsvDA6",
        "colab": {
          "base_uri": "https://localhost:8080/"
        },
        "outputId": "320214e4-cb60-43ac-e286-991a1ee762c6"
      },
      "source": [
        "p = np.poly1d(z) \n",
        "p(10)   "
      ],
      "execution_count": 4,
      "outputs": [
        {
          "output_type": "execute_result",
          "data": {
            "text/plain": [
              "6.533150043365388"
            ]
          },
          "metadata": {},
          "execution_count": 4
        }
      ]
    },
    {
      "cell_type": "code",
      "metadata": {
        "id": "NxUunxC0pvb4",
        "colab": {
          "base_uri": "https://localhost:8080/",
          "height": 269
        },
        "outputId": "bb8932f7-a194-4b90-8299-dff7c891ed36"
      },
      "source": [
        "t = np.linspace(0.5, 6, 2)    \n",
        "plt.scatter(x, y)\n",
        "plt.plot(t, p(t), c='orange')\n",
        "plt.yticks(range(2, 8))\n",
        "plt.show()"
      ],
      "execution_count": 5,
      "outputs": [
        {
          "output_type": "display_data",
          "data": {
            "text/plain": [
              "<Figure size 432x288 with 1 Axes>"
            ],
            "image/png": "[encoded data removed]"
          },
          "metadata": {
            "needs_background": "light"
          }
        }
      ]
    },
    {
      "cell_type": "markdown",
      "metadata": {
        "id": "iggoCzsDPINT"
      },
      "source": [
        "let's try some higher order polynomials"
      ]
    },
    {
      "cell_type": "code",
      "metadata": {
        "id": "nfOdusk1Pajz",
        "colab": {
          "base_uri": "https://localhost:8080/",
          "height": 269
        },
        "outputId": "012f666f-c46c-4c45-c5e1-e18dcd60fe43"
      },
      "source": [
        "p = np.poly1d(np.polyfit(x, y, 2))\n",
        "\n",
        "t = np.linspace(0.5, 6, 300)\n",
        "plt.scatter(x, y)\n",
        "plt.plot(t, p(t), c='orange')\n",
        "plt.yticks(range(2, 8))\n",
        "plt.show()"
      ],
      "execution_count": 6,
      "outputs": [
        {
          "output_type": "display_data",
          "data": {
            "text/plain": [
              "<Figure size 432x288 with 1 Axes>"
            ],
            "image/png": "[encoded data removed]"
          },
          "metadata": {
            "needs_background": "light"
          }
        }
      ]
    },
    {
      "cell_type": "markdown",
      "metadata": {
        "id": "a7ZhE_aiQdW1"
      },
      "source": [
        "quadratic function fits better"
      ]
    },
    {
      "cell_type": "code",
      "metadata": {
        "id": "Nyge2ngAQsVS",
        "colab": {
          "base_uri": "https://localhost:8080/",
          "height": 269
        },
        "outputId": "4d424054-e912-4f0f-f1f7-bfbcdaeaf52f"
      },
      "source": [
        "p = np.poly1d(np.polyfit(x, y, 4))\n",
        "\n",
        "t = np.linspace(0.5, 6, 300)  \n",
        "plt.scatter(x, y)\n",
        "plt.plot(t, p(t), c='orange')\n",
        "plt.yticks(range(2, 8))\n",
        "plt.show()"
      ],
      "execution_count": 7,
      "outputs": [
        {
          "output_type": "display_data",
          "data": {
            "text/plain": [
              "<Figure size 432x288 with 1 Axes>"
            ],
            "image/png": "[encoded data removed]"
          },
          "metadata": {
            "needs_background": "light"
          }
        }
      ]
    },
    {
      "cell_type": "markdown",
      "metadata": {
        "id": "A-VDa1aEQu--"
      },
      "source": [
        "Fourth order polynomial is even better"
      ]
    },
    {
      "cell_type": "code",
      "metadata": {
        "id": "kL2ghDDXQzUQ",
        "colab": {
          "base_uri": "https://localhost:8080/",
          "height": 269
        },
        "outputId": "08c6c400-e359-4625-f5c8-6dc1604138df"
      },
      "source": [
        "p = np.poly1d(np.polyfit(x, y, 15))\n",
        "\n",
        "t = np.linspace(0.5, 6, 300)  \n",
        "plt.scatter(x, y)\n",
        "plt.plot(t, p(t), c='orange')\n",
        "plt.ylim(2, 9)   \n",
        "plt.yticks(range(2, 10))\n",
        "plt.show()"
      ],
      "execution_count": 8,
      "outputs": [
        {
          "output_type": "display_data",
          "data": {
            "text/plain": [
              "<Figure size 432x288 with 1 Axes>"
            ],
            "image/png": "[encoded data removed]"
          },
          "metadata": {
            "needs_background": "light"
          }
        }
      ]
    },
    {
      "cell_type": "markdown",
      "metadata": {
        "id": "m1fOU6eYTLOe"
      },
      "source": [
        "15th order polynomial touches almost all points and we should know that this model can't be generalized well and it can't predict well for new points. This is overfitting."
      ]
    },
    {
      "cell_type": "markdown",
      "metadata": {
        "id": "Uy81zOkdeFf3"
      },
      "source": [
        "There are several ways to fix Overfitting:  \n",
        "* more training data\n",
        "* Delete less meaningful features\n",
        "* early stopping - Loss function decreases over epochs but when model starts overfitting, loss function decreases for training set and increases for validation set, if we stop in this moment than we'll get rid of overfitting  \n",
        "![](http://fouryears.eu/wp-content/uploads/2017/12/early_stopping.png)   \n",
        "* Regularization - This is the way to make complex models simplier \n",
        "* Joining some models - We can train several models with the same data and combine them"
      ]
    },
    {
      "cell_type": "markdown",
      "metadata": {
        "id": "kSViqHMGwPMG"
      },
      "source": [
        "### Regularization"
      ]
    },
    {
      "cell_type": "markdown",
      "metadata": {
        "id": "K-mme4SMwV4F"
      },
      "source": [
        "Sometimes higher order polynoms cause overfitting and we want to reduce its order somehow, that's what regularization does. Let's consider 5th order polynom: \n",
        "$$w_0 + w_1 x + w_2 x^2 + w_3 x^3 + w_4 x^4 + w_5 x^5$$  \n",
        "Our cost function was liek this:\n",
        "$$ J(w) = \\frac{1}{2n} \\sum_{i=1}^{n}(y_i^{\\ast} - y_i)^2 $$\n",
        "Let's change it:\n",
        "$$ J(w) = \\frac{1}{2n} \\sum_{i=1}^{n}(y_i^{\\ast} - y_i)^2 + 10^5w_4^2 + 10^5w_5^2 $$\n",
        "Now our goal is to minimize mean squared error and $ 10^5w_4^2 + 10^5w_5^2 $ too, this means $w_4$ and $w_5$ should be near to zero so we'll get almost cubic function instead of fifth order polynom.\n"
      ]
    },
    {
      "cell_type": "markdown",
      "metadata": {
        "id": "dcRT8_nTADPg"
      },
      "source": [
        "We don't know which features will have bigger weights so we can make the same thing to all parameters. Smaller parameters gives us simplier functions and the chance of overfit reduces.New cost function will be like this:\n",
        "$$ J(w) = \\frac{1}{2n} \\left[ \\sum_{i=1}^{n}(y_i^{\\ast} - y_i)^2 + \\lambda\\sum_{j=1}^{m}w_j^2 \\right] $$  \n",
        "$\\lambda$ is regularization parameter. if $\\lambda$ is bigger, weights goes to zero. Square is needed because we don't need negative big values, it's $L_2$ regularization and such regression is called Ridge Regression. In $L_1$ regularization we can abs value instead of squares."
      ]
    },
    {
      "cell_type": "markdown",
      "metadata": {
        "id": "kPGHBbxGJRC3"
      },
      "source": [
        "We have new cost function so partial derivatives in gradient descent will be different:\n",
        "$$ w_0^{j+1} = w_0^j - L\\frac{1}{n}\\sum_{i=1}^{n} (y_i^\\ast - y_i) $$\n",
        "$$ w_k^{j+1} = w_k^j - L \\bigg[ \\frac{1}{n}\\sum_{i=1}^{n} (y_i^\\ast - y_i)x_{i,k} + \\frac{\\lambda}{n}w_{k}^j \\bigg] $$"
      ]
    },
    {
      "cell_type": "markdown",
      "metadata": {
        "id": "tcRcsrqQnhXa"
      },
      "source": [
        "We can solve regularized linear regression with some mathematical method:\n",
        "$$(X^TX + \\lambda\\cdot A)^{-1}X^Ty\n",
        "$$\n",
        "where\n",
        "$$\n",
        "A = \n",
        "\\begin{pmatrix}\n",
        "    0 & 0 & \\cdots & 0 \\\\\n",
        "    0 & 1 & \\cdots & 0 \\\\\n",
        "    \\vdots  & \\vdots  & \\ddots & \\vdots  \\\\\n",
        "    0 & 0 & \\cdots & 1 \n",
        "\\end{pmatrix}\n",
        "$$  \n",
        "This matrix always will be invertable"
      ]
    },
    {
      "cell_type": "markdown",
      "metadata": {
        "id": "cCKdzfLxsA_a"
      },
      "source": [
        "We can solve linear regression problem with this mathematical way using `Ridge` class from sklearn.linear_model. We should pass to it a regularization parameter(default value is 1)"
      ]
    },
    {
      "cell_type": "markdown",
      "metadata": {
        "id": "fhZREzUAMgMh"
      },
      "source": [
        "Let's discuss random numbers in range of $[4, 6]$"
      ]
    },
    {
      "cell_type": "code",
      "metadata": {
        "id": "d8MHDgCftGXc",
        "colab": {
          "base_uri": "https://localhost:8080/",
          "height": 269
        },
        "outputId": "1df40839-9c3f-48d9-c985-b557fa056d2f"
      },
      "source": [
        "np.random.seed(13)   \n",
        "\n",
        "X_train = np.arange(1, 6, 0.25).reshape(-1, 1)   \n",
        "X_test = np.arange(6, 8, 0.25).reshape(-1, 1)\n",
        "X = np.concatenate([X_train, X_test])\n",
        "\n",
        "y_train = np.random.rand(20)*2 + 4\n",
        "y_test = np.random.rand(8)*2 + 4\n",
        "y = np.concatenate([y_train, y_test])  \n",
        "\n",
        "\n",
        "plt.scatter(X, y) \n",
        "plt.ylim(2, 9)\n",
        "plt.show()"
      ],
      "execution_count": 9,
      "outputs": [
        {
          "output_type": "display_data",
          "data": {
            "text/plain": [
              "<Figure size 432x288 with 1 Axes>"
            ],
            "image/png": "[encoded data removed]"
          },
          "metadata": {
            "needs_background": "light"
          }
        }
      ]
    },
    {
      "cell_type": "markdown",
      "metadata": {
        "id": "iSSqHbijMumO"
      },
      "source": [
        "Left 20 points are training set and left 8 points are test set. Let's solve this problem with linear regression"
      ]
    },
    {
      "cell_type": "code",
      "metadata": {
        "id": "n5ByMCegws3v",
        "colab": {
          "base_uri": "https://localhost:8080/",
          "height": 269
        },
        "outputId": "27be4666-2cd9-4536-f8f5-11602a8b9bff"
      },
      "source": [
        "from sklearn import linear_model\n",
        "\n",
        "reg = linear_model.LinearRegression()\n",
        "reg.fit(X_train, y_train) \n",
        "\n",
        "t = np.array([[0], [8]])\n",
        "\n",
        "plt.scatter(X, y) \n",
        "plt.plot(t, reg.predict(t), c='orange')\n",
        "plt.ylim(2, 9)\n",
        "plt.show()"
      ],
      "execution_count": 10,
      "outputs": [
        {
          "output_type": "display_data",
          "data": {
            "text/plain": [
              "<Figure size 432x288 with 1 Axes>"
            ],
            "image/png": "[encoded data removed]"
          },
          "metadata": {
            "needs_background": "light"
          }
        }
      ]
    },
    {
      "cell_type": "markdown",
      "metadata": {
        "id": "G3xo1lu0NUj8"
      },
      "source": [
        "We got inclined line but we know that our points are definitely in range $[4, 6]$. Let's try regularized linear regression with regularization parameter - 100."
      ]
    },
    {
      "cell_type": "code",
      "metadata": {
        "id": "27ZN-_Q_7Vhl",
        "colab": {
          "base_uri": "https://localhost:8080/",
          "height": 269
        },
        "outputId": "5163831e-d7f1-4450-915c-9c5467133fbf"
      },
      "source": [
        "ridge = linear_model.Ridge(alpha=100)\n",
        "ridge.fit(X_train, y_train)\n",
        "\n",
        "t = np.array([[0], [7.8]])\n",
        "\n",
        "plt.scatter(X, y) \n",
        "plt.plot(t, ridge.predict(t), c='orange')\n",
        "plt.ylim(2, 9)\n",
        "plt.show()"
      ],
      "execution_count": 11,
      "outputs": [
        {
          "output_type": "display_data",
          "data": {
            "text/plain": [
              "<Figure size 432x288 with 1 Axes>"
            ],
            "image/png": "[encoded data removed]"
          },
          "metadata": {
            "needs_background": "light"
          }
        }
      ]
    },
    {
      "cell_type": "markdown",
      "metadata": {
        "id": "H9T_MITXNqGU"
      },
      "source": [
        "line is more horisontal as model is more simplier."
      ]
    },
    {
      "cell_type": "markdown",
      "metadata": {
        "id": "YILGPMdKeIn9"
      },
      "source": [
        "### Underfitting"
      ]
    },
    {
      "cell_type": "markdown",
      "metadata": {
        "id": "E6XcgQRPeOzI"
      },
      "source": [
        "Underfitting means when model is not fitting to points. It can be caused by several problems: small epoch number, wrong model, wrong parameters, bad preprocessed data...\n",
        " "
      ]
    },
    {
      "cell_type": "markdown",
      "metadata": {
        "id": "l3BW41XIxH8f"
      },
      "source": [
        "Let's consider one variable linear regression"
      ]
    },
    {
      "cell_type": "code",
      "metadata": {
        "id": "9jNidbFXqPK6",
        "colab": {
          "base_uri": "https://localhost:8080/",
          "height": 266
        },
        "outputId": "9701eedd-240b-4644-ce9d-30b66c2d6d3e"
      },
      "source": [
        "np.random.seed(3)\n",
        "\n",
        "x = np.arange(1, 10, 0.1)    \n",
        "y1 = np.random.rand(18) + 4  \n",
        "y2 = np.random.rand(18) + 3\n",
        "y3 = np.random.rand(18) + 3\n",
        "y4 = np.random.rand(18) + 3\n",
        "y5 = np.random.rand(18)*2 + 4\n",
        "y = np.concatenate([y1, y2, y3, y4, y5])\n",
        "\n",
        "plt.scatter(x, y) \n",
        "plt.show()"
      ],
      "execution_count": 12,
      "outputs": [
        {
          "output_type": "display_data",
          "data": {
            "text/plain": [
              "<Figure size 432x288 with 1 Axes>"
            ],
            "image/png": "[encoded data removed]"
          },
          "metadata": {
            "needs_background": "light"
          }
        }
      ]
    },
    {
      "cell_type": "code",
      "metadata": {
        "id": "uoH-cXrjsfTy",
        "colab": {
          "base_uri": "https://localhost:8080/",
          "height": 266
        },
        "outputId": "854b1f1e-4735-4b8d-cc6f-4416593e24aa"
      },
      "source": [
        "p = np.poly1d(np.polyfit(x, y, 1))\n",
        "\n",
        "t = np.linspace(0.5, 10.5, 2)  \n",
        "plt.scatter(x, y)\n",
        "plt.plot(t, p(t), c='orange')\n",
        "plt.show()"
      ],
      "execution_count": 13,
      "outputs": [
        {
          "output_type": "display_data",
          "data": {
            "text/plain": [
              "<Figure size 432x288 with 1 Axes>"
            ],
            "image/png": "[encoded data removed]"
          },
          "metadata": {
            "needs_background": "light"
          }
        }
      ]
    },
    {
      "cell_type": "markdown",
      "metadata": {
        "id": "jB0BysMk3lsB"
      },
      "source": [
        "using linear regression we got underfit"
      ]
    },
    {
      "cell_type": "code",
      "metadata": {
        "id": "Y_omvUIksfkh",
        "colab": {
          "base_uri": "https://localhost:8080/",
          "height": 265
        },
        "outputId": "641de8d5-9cf8-4248-9c91-3d07f8bf6b0a"
      },
      "source": [
        "p = np.poly1d(np.polyfit(x, y, 2))\n",
        "\n",
        "t = np.linspace(0.5, 10.5, 500)  \n",
        "plt.scatter(x, y)\n",
        "plt.plot(t, p(t), c='orange')\n",
        "plt.show()"
      ],
      "execution_count": 14,
      "outputs": [
        {
          "output_type": "display_data",
          "data": {
            "text/plain": [
              "<Figure size 432x288 with 1 Axes>"
            ],
            "image/png": "[encoded data removed]"
          },
          "metadata": {
            "needs_background": "light"
          }
        }
      ]
    },
    {
      "cell_type": "markdown",
      "metadata": {
        "id": "t5uTt3ZD36Kv"
      },
      "source": [
        "Second order polynom fits pretty well"
      ]
    },
    {
      "cell_type": "code",
      "metadata": {
        "id": "BlDam9W6scwD",
        "colab": {
          "base_uri": "https://localhost:8080/",
          "height": 269
        },
        "outputId": "18457a53-3c84-4409-bd97-295df61a03e8"
      },
      "source": [
        "p = np.poly1d(np.polyfit(x, y, 16))\n",
        "\n",
        "t = np.linspace(0.5, 10.5, 500)  \n",
        "plt.scatter(x, y)\n",
        "plt.plot(t, p(t), c='orange')\n",
        "plt.ylim(3, 7)\n",
        "plt.show()"
      ],
      "execution_count": 15,
      "outputs": [
        {
          "output_type": "display_data",
          "data": {
            "text/plain": [
              "<Figure size 432x288 with 1 Axes>"
            ],
            "image/png": "[encoded data removed]"
          },
          "metadata": {
            "needs_background": "light"
          }
        }
      ]
    },
    {
      "cell_type": "markdown",
      "metadata": {
        "id": "bCDKy1Nd4F28"
      },
      "source": [
        "16th order polynom gives us overfit of course"
      ]
    },
    {
      "cell_type": "markdown",
      "metadata": {
        "id": "MlwMhB6usc7q"
      },
      "source": [
        "Ways to solve underfitting:  \n",
        "* Change model parameters\n",
        "* Try more complex model\n",
        "* Try more epochs\n",
        "* Try without regularization\n",
        "\n"
      ]
    },
    {
      "cell_type": "markdown",
      "metadata": {
        "id": "pQcmfAD1sgA6"
      },
      "source": [
        "### Bias-Variance Tradeoff"
      ]
    },
    {
      "cell_type": "markdown",
      "metadata": {
        "id": "vEQkOADDsdz8"
      },
      "source": [
        "Overfitting = high variance. This means that model fits to points that are very far from average points.\n",
        "underfitting = high bias."
      ]
    },
    {
      "cell_type": "markdown",
      "metadata": {
        "id": "adW7ikpMeoEr"
      },
      "source": [
        "Bias-Variance Tradeoff is fundamental problem of supervised learning. Its goal is to find some balance between variance and bias. "
      ]
    }
  ]
}