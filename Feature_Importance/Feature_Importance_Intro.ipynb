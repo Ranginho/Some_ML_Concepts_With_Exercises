{
  "nbformat": 4,
  "nbformat_minor": 0,
  "metadata": {
    "colab": {
      "name": "Feature_Importance_Intro.ipynb",
      "provenance": []
    },
    "kernelspec": {
      "name": "python3",
      "display_name": "Python 3"
    },
    "language_info": {
      "name": "python"
    }
  },
  "cells": [
    {
      "cell_type": "markdown",
      "source": [
        "Sometimes we train machine learning model and get good result but we have much features and we guess that some of them are not needed but we don't know exactly which columns are needless. In such cases we want to find out which features are more important than others. Feature Importance is a technique that assigns some scores to features and helps us to find out which features are more useful to predict a target variable.\n",
        "\n",
        "There are many types and sources of feature importance scores, although popular examples include statistical correlation scores, coefficients calculated as part of linear models, decision trees, and permutation importance scores.\n",
        "\n",
        "Feature importance scores play an important role in a predictive modeling project, including providing insight into the data, insight into the model, and the basis for dimensionality reduction and feature selection that can improve the efficiency and effectiveness of a predictive model on the problem."
      ],
      "metadata": {
        "id": "VxkWAAklI6DW"
      }
    },
    {
      "cell_type": "code",
      "execution_count": 1,
      "metadata": {
        "colab": {
          "base_uri": "https://localhost:8080/"
        },
        "id": "QlC467V3rytK",
        "outputId": "a05f1a0b-22a9-42eb-eacc-65e5c07a446f"
      },
      "outputs": [
        {
          "output_type": "stream",
          "name": "stdout",
          "text": [
            "1.0.2\n"
          ]
        }
      ],
      "source": [
        "# check scikit-learn version\n",
        "import sklearn\n",
        "print(sklearn.__version__)"
      ]
    },
    {
      "cell_type": "markdown",
      "source": [
        "# Classification Data Creation"
      ],
      "metadata": {
        "id": "aqeoDJF1sLDB"
      }
    },
    {
      "cell_type": "markdown",
      "source": [
        "We'll use `make_classification` method from `sklearn.datasets` module to create a random dataset for classification tasks. The dataset will have 1,000 examples, with 10 input features, five of which will be informative and the remaining five will be redundant. We will fix the random number seed to ensure we get the same examples each time the code is run."
      ],
      "metadata": {
        "id": "ylg-pzn-s4_I"
      }
    },
    {
      "cell_type": "code",
      "source": [
        "from sklearn.datasets import make_classification\n",
        "\n",
        "# define dataset\n",
        "X, y = make_classification(n_samples=1000, n_features=10, n_informative=5, n_redundant=5, random_state=1)\n",
        "\n",
        "print(X.shape, y.shape)"
      ],
      "metadata": {
        "colab": {
          "base_uri": "https://localhost:8080/"
        },
        "id": "S5HRVQzir4xQ",
        "outputId": "ca21d044-fe48-4246-c972-61264dd4dd77"
      },
      "execution_count": 2,
      "outputs": [
        {
          "output_type": "stream",
          "name": "stdout",
          "text": [
            "(1000, 10) (1000,)\n"
          ]
        }
      ]
    },
    {
      "cell_type": "markdown",
      "source": [
        "# Regression Data Creation "
      ],
      "metadata": {
        "id": "j7DGFdrjtesf"
      }
    },
    {
      "cell_type": "markdown",
      "source": [
        "We'll use `make_regression` method from `sklearn.datasets` module to create a random dataset for regression tasks. The dataset will have 1,000 examples, with 10 input features, five of which will be informative and the remaining five will be redundant. We will fix the random number seed to ensure we get the same examples each time the code is run."
      ],
      "metadata": {
        "id": "QiCuvh6itimJ"
      }
    },
    {
      "cell_type": "code",
      "source": [
        "from sklearn.datasets import make_regression\n",
        "\n",
        "# define dataset\n",
        "X, y = make_regression(n_samples=1000, n_features=10, n_informative=5, random_state=1)\n",
        "\n",
        "print(X.shape, y.shape)"
      ],
      "metadata": {
        "colab": {
          "base_uri": "https://localhost:8080/"
        },
        "id": "ZcMtD5Yotb3a",
        "outputId": "92679b7e-9417-4d57-c36e-74ff9927ce18"
      },
      "execution_count": 3,
      "outputs": [
        {
          "output_type": "stream",
          "name": "stdout",
          "text": [
            "(1000, 10) (1000,)\n"
          ]
        }
      ]
    },
    {
      "cell_type": "markdown",
      "source": [
        "# Coefficients as Feature Importance\n",
        "\n",
        "Linear machine learning algorithms fit a model where the prediction is the weighted sum of the input values.\n",
        "\n",
        "Examples include linear regression, logistic regression, and extensions that add regularization, such as ridge regression and the elastic net.\n",
        "\n",
        "All of these algorithms find a set of coefficients to use in the weighted sum in order to make a prediction. These coefficients can be used directly as a crude type of feature importance score.\n",
        "\n",
        "Let’s take a closer look at using coefficients as feature importance for classification and regression. We will fit a model on the dataset to find the coefficients, then summarize the importance scores for each input feature and finally create a bar chart to get an idea of the relative importance of the features."
      ],
      "metadata": {
        "id": "DfYrxUJytzoo"
      }
    },
    {
      "cell_type": "markdown",
      "source": [
        "## Linear Regression Feature Importance"
      ],
      "metadata": {
        "id": "5n6H5pELt5mJ"
      }
    },
    {
      "cell_type": "markdown",
      "source": [
        "We can fit a LinearRegression model on the regression dataset and retrieve the coeff_ property that contains the coefficients found for each input variable.\n",
        "\n",
        "These coefficients can provide the basis for a crude feature importance score. This assumes that the input variables have the same scale or have been scaled prior to fitting a model."
      ],
      "metadata": {
        "id": "85F8gGs3uMUB"
      }
    },
    {
      "cell_type": "code",
      "source": [
        "from sklearn.datasets import make_regression\n",
        "from sklearn.linear_model import LinearRegression\n",
        "from matplotlib import pyplot\n",
        "\n",
        "X, y = make_regression(n_samples=1000, n_features=10, n_informative=5, random_state=1)\n",
        "\n",
        "model = LinearRegression()\n",
        "\n",
        "model.fit(X, y)\n",
        "\n",
        "importance = model.coef_\n",
        "\n",
        "for i,v in enumerate(importance):\n",
        "\tprint('Feature: %0d, Score: %.5f' % (i,v))\n",
        "\n",
        "pyplot.bar([x for x in range(len(importance))], importance)\n",
        "pyplot.show()"
      ],
      "metadata": {
        "colab": {
          "base_uri": "https://localhost:8080/",
          "height": 439
        },
        "id": "PuFk7wqotpDJ",
        "outputId": "5515d05e-9f28-4160-c8d9-932ef68e8563"
      },
      "execution_count": 4,
      "outputs": [
        {
          "output_type": "stream",
          "name": "stdout",
          "text": [
            "Feature: 0, Score: -0.00000\n",
            "Feature: 1, Score: 12.44483\n",
            "Feature: 2, Score: -0.00000\n",
            "Feature: 3, Score: -0.00000\n",
            "Feature: 4, Score: 93.32225\n",
            "Feature: 5, Score: 86.50811\n",
            "Feature: 6, Score: 26.74607\n",
            "Feature: 7, Score: 3.28535\n",
            "Feature: 8, Score: -0.00000\n",
            "Feature: 9, Score: 0.00000\n"
          ]
        },
        {
          "output_type": "display_data",
          "data": {
            "text/plain": [
              "<Figure size 432x288 with 1 Axes>"
            ],
            "image/png": "[encoded data removed]"
          },
          "metadata": {
            "needs_background": "light"
          }
        }
      ]
    },
    {
      "cell_type": "markdown",
      "source": [
        "The scores suggest that the model found the five important features and marked all other features with a zero coefficient, essentially removing them from the model."
      ],
      "metadata": {
        "id": "4cgKdfgovRG-"
      }
    },
    {
      "cell_type": "markdown",
      "source": [
        "## Logistic Regression Feature Importance"
      ],
      "metadata": {
        "id": "RzzvISoevXXW"
      }
    },
    {
      "cell_type": "markdown",
      "source": [
        "We can fit a LogisticRegression model on the regression dataset and retrieve the coeff_ property that contains the coefficients found for each input variable.\n",
        "\n",
        "These coefficients can provide the basis for a crude feature importance score. This assumes that the input variables have the same scale or have been scaled prior to fitting a model."
      ],
      "metadata": {
        "id": "zRY-XSt7vZfv"
      }
    },
    {
      "cell_type": "code",
      "source": [
        "from sklearn.datasets import make_classification\n",
        "from sklearn.linear_model import LogisticRegression\n",
        "from matplotlib import pyplot\n",
        "\n",
        "X, y = make_classification(n_samples=1000, n_features=10, n_informative=5, n_redundant=5, random_state=1)\n",
        "\n",
        "model = LogisticRegression()\n",
        "\n",
        "model.fit(X, y)\n",
        "\n",
        "importance = model.coef_[0]\n",
        "\n",
        "for i,v in enumerate(importance):\n",
        "\tprint('Feature: %0d, Score: %.5f' % (i,v))\n",
        "\n",
        "pyplot.bar([x for x in range(len(importance))], importance)\n",
        "pyplot.show()"
      ],
      "metadata": {
        "colab": {
          "base_uri": "https://localhost:8080/",
          "height": 439
        },
        "id": "xq5EgrNXu4v9",
        "outputId": "8f9327f9-e2e8-44a9-e0d0-a6841eade5b6"
      },
      "execution_count": 5,
      "outputs": [
        {
          "output_type": "stream",
          "name": "stdout",
          "text": [
            "Feature: 0, Score: 0.16320\n",
            "Feature: 1, Score: -0.64301\n",
            "Feature: 2, Score: 0.48497\n",
            "Feature: 3, Score: -0.46190\n",
            "Feature: 4, Score: 0.18432\n",
            "Feature: 5, Score: -0.11978\n",
            "Feature: 6, Score: -0.40602\n",
            "Feature: 7, Score: 0.03772\n",
            "Feature: 8, Score: -0.51785\n",
            "Feature: 9, Score: 0.26540\n"
          ]
        },
        {
          "output_type": "display_data",
          "data": {
            "text/plain": [
              "<Figure size 432x288 with 1 Axes>"
            ],
            "image/png": "[encoded data removed]"
          },
          "metadata": {
            "needs_background": "light"
          }
        }
      ]
    },
    {
      "cell_type": "markdown",
      "source": [
        "Recall this is a classification problem with classes 0 and 1. Notice that the coefficients are both positive and negative. The positive scores indicate a feature that predicts class 1, whereas the negative scores indicate a feature that predicts class 0.\n",
        "\n",
        "No clear pattern of important and unimportant features can be identified from these results, at least from what I can tell."
      ],
      "metadata": {
        "id": "PcD1l4_fv7Kg"
      }
    },
    {
      "cell_type": "markdown",
      "source": [
        "Now that we have seen the use of coefficients as importance scores, let’s look at the more common example of decision-tree-based importance scores."
      ],
      "metadata": {
        "id": "tX7nl8OMv-W-"
      }
    },
    {
      "cell_type": "markdown",
      "source": [
        "## Decision Tree Feature Importance"
      ],
      "metadata": {
        "id": "GD4cpQFTw4l2"
      }
    },
    {
      "cell_type": "markdown",
      "source": [
        "Decision tree algorithms like classification and regression trees (CART) offer importance scores based on the reduction in the criterion used to select split points, like Gini or entropy.\n",
        "\n",
        "This same approach can be used for ensembles of decision trees, such as the random forest and stochastic gradient boosting algorithms."
      ],
      "metadata": {
        "id": "w3Gk1p13xCPW"
      }
    },
    {
      "cell_type": "markdown",
      "source": [
        "### CART Feature Importance"
      ],
      "metadata": {
        "id": "yGncaTzGxMNF"
      }
    },
    {
      "cell_type": "markdown",
      "source": [
        "We can use the CART algorithm for feature importance implemented in scikit-learn as the DecisionTreeRegressor and DecisionTreeClassifier classes.\n",
        "\n",
        "After being fit, the model provides a feature_importances_ property that can be accessed to retrieve the relative importance scores for each input feature.\n",
        "\n",
        "Let’s take a look at an example of this for regression and classification."
      ],
      "metadata": {
        "id": "70YKtVi7xQkP"
      }
    },
    {
      "cell_type": "markdown",
      "source": [
        "#### CART Regression Feature Importance"
      ],
      "metadata": {
        "id": "U2S8esA9xZEo"
      }
    },
    {
      "cell_type": "code",
      "source": [
        "from sklearn.datasets import make_regression\n",
        "from sklearn.tree import DecisionTreeRegressor\n",
        "from matplotlib import pyplot\n",
        "\n",
        "X, y = make_regression(n_samples=1000, n_features=10, n_informative=5, random_state=1)\n",
        "\n",
        "model = DecisionTreeRegressor()\n",
        "\n",
        "model.fit(X, y)\n",
        "\n",
        "importance = model.feature_importances_\n",
        "\n",
        "for i,v in enumerate(importance):\n",
        "\tprint('Feature: %0d, Score: %.5f' % (i,v))\n",
        "\n",
        "pyplot.bar([x for x in range(len(importance))], importance)\n",
        "pyplot.show()"
      ],
      "metadata": {
        "colab": {
          "base_uri": "https://localhost:8080/",
          "height": 439
        },
        "id": "FSWpN2HFvfBd",
        "outputId": "1fe640ba-1151-4efb-e1ec-f6b093b9b6ce"
      },
      "execution_count": 6,
      "outputs": [
        {
          "output_type": "stream",
          "name": "stdout",
          "text": [
            "Feature: 0, Score: 0.00247\n",
            "Feature: 1, Score: 0.00511\n",
            "Feature: 2, Score: 0.00163\n",
            "Feature: 3, Score: 0.00203\n",
            "Feature: 4, Score: 0.51784\n",
            "Feature: 5, Score: 0.43825\n",
            "Feature: 6, Score: 0.02702\n",
            "Feature: 7, Score: 0.00183\n",
            "Feature: 8, Score: 0.00273\n",
            "Feature: 9, Score: 0.00110\n"
          ]
        },
        {
          "output_type": "display_data",
          "data": {
            "text/plain": [
              "<Figure size 432x288 with 1 Axes>"
            ],
            "image/png": "[encoded data removed]"
          },
          "metadata": {
            "needs_background": "light"
          }
        }
      ]
    },
    {
      "cell_type": "markdown",
      "source": [
        "The results suggest perhaps three of the 10 features as being important to prediction."
      ],
      "metadata": {
        "id": "_XEy7YfCxrVt"
      }
    },
    {
      "cell_type": "markdown",
      "source": [
        "#### CART Classification Feature Importance"
      ],
      "metadata": {
        "id": "4gT2WtJxxu69"
      }
    },
    {
      "cell_type": "code",
      "source": [
        "from sklearn.datasets import make_classification\n",
        "from sklearn.tree import DecisionTreeClassifier\n",
        "from matplotlib import pyplot\n",
        "\n",
        "X, y = make_classification(n_samples=1000, n_features=10, n_informative=5, n_redundant=5, random_state=1)\n",
        "\n",
        "model = DecisionTreeClassifier()\n",
        "\n",
        "model.fit(X, y)\n",
        "\n",
        "importance = model.feature_importances_\n",
        "\n",
        "for i,v in enumerate(importance):\n",
        "\tprint('Feature: %0d, Score: %.5f' % (i,v))\n",
        "\n",
        "pyplot.bar([x for x in range(len(importance))], importance)\n",
        "pyplot.show()"
      ],
      "metadata": {
        "colab": {
          "base_uri": "https://localhost:8080/",
          "height": 439
        },
        "id": "fAs1dts3xnyO",
        "outputId": "ecea8b29-ab5b-485e-d6c8-851b65734ee0"
      },
      "execution_count": 7,
      "outputs": [
        {
          "output_type": "stream",
          "name": "stdout",
          "text": [
            "Feature: 0, Score: 0.01932\n",
            "Feature: 1, Score: 0.01316\n",
            "Feature: 2, Score: 0.17680\n",
            "Feature: 3, Score: 0.30980\n",
            "Feature: 4, Score: 0.08978\n",
            "Feature: 5, Score: 0.01412\n",
            "Feature: 6, Score: 0.18150\n",
            "Feature: 7, Score: 0.02920\n",
            "Feature: 8, Score: 0.12993\n",
            "Feature: 9, Score: 0.03640\n"
          ]
        },
        {
          "output_type": "display_data",
          "data": {
            "text/plain": [
              "<Figure size 432x288 with 1 Axes>"
            ],
            "image/png": "[encoded data removed]"
          },
          "metadata": {
            "needs_background": "light"
          }
        }
      ]
    },
    {
      "cell_type": "markdown",
      "source": [
        "The results suggest perhaps four of the 10 features as being important to prediction."
      ],
      "metadata": {
        "id": "RSpsfOOPx5Nk"
      }
    },
    {
      "cell_type": "markdown",
      "source": [
        "## Random Forest Feature Importance"
      ],
      "metadata": {
        "id": "Ht3dnRmPx9nc"
      }
    },
    {
      "cell_type": "markdown",
      "source": [
        "We can use the Random Forest algorithm for feature importance implemented in scikit-learn as the RandomForestRegressor and RandomForestClassifier classes.\n",
        "\n",
        "After being fit, the model provides a feature_importances_ property that can be accessed to retrieve the relative importance scores for each input feature.\n",
        "\n",
        "This approach can also be used with the bagging and extra trees algorithms."
      ],
      "metadata": {
        "id": "HcT13sqtyC_X"
      }
    },
    {
      "cell_type": "markdown",
      "source": [
        "### Random Forest Regression Feature Importance"
      ],
      "metadata": {
        "id": "5KuISBfxyKZk"
      }
    },
    {
      "cell_type": "code",
      "source": [
        "from sklearn.datasets import make_regression\n",
        "from sklearn.ensemble import RandomForestRegressor\n",
        "from matplotlib import pyplot\n",
        "\n",
        "X, y = make_regression(n_samples=1000, n_features=10, n_informative=5, random_state=1)\n",
        "\n",
        "model = RandomForestRegressor()\n",
        "\n",
        "model.fit(X, y)\n",
        "\n",
        "importance = model.feature_importances_\n",
        "\n",
        "for i,v in enumerate(importance):\n",
        "\tprint('Feature: %0d, Score: %.5f' % (i,v))\n",
        "\n",
        "pyplot.bar([x for x in range(len(importance))], importance)\n",
        "pyplot.show()"
      ],
      "metadata": {
        "colab": {
          "base_uri": "https://localhost:8080/",
          "height": 439
        },
        "id": "zNeEesM0x1nL",
        "outputId": "f0441ac5-a539-4029-e33e-51969661260c"
      },
      "execution_count": 8,
      "outputs": [
        {
          "output_type": "stream",
          "name": "stdout",
          "text": [
            "Feature: 0, Score: 0.00312\n",
            "Feature: 1, Score: 0.00512\n",
            "Feature: 2, Score: 0.00295\n",
            "Feature: 3, Score: 0.00274\n",
            "Feature: 4, Score: 0.52868\n",
            "Feature: 5, Score: 0.42261\n",
            "Feature: 6, Score: 0.02611\n",
            "Feature: 7, Score: 0.00282\n",
            "Feature: 8, Score: 0.00296\n",
            "Feature: 9, Score: 0.00289\n"
          ]
        },
        {
          "output_type": "display_data",
          "data": {
            "text/plain": [
              "<Figure size 432x288 with 1 Axes>"
            ],
            "image/png": "[encoded data removed]"
          },
          "metadata": {
            "needs_background": "light"
          }
        }
      ]
    },
    {
      "cell_type": "markdown",
      "source": [
        "The results suggest perhaps two or three of the 10 features as being important to prediction."
      ],
      "metadata": {
        "id": "6J3DvtmUySk0"
      }
    },
    {
      "cell_type": "markdown",
      "source": [
        "### Random Forest Classification Feature Importance"
      ],
      "metadata": {
        "id": "CblP5X5FyVle"
      }
    },
    {
      "cell_type": "code",
      "source": [
        "from sklearn.datasets import make_classification\n",
        "from sklearn.ensemble import RandomForestClassifier\n",
        "from matplotlib import pyplot\n",
        "\n",
        "X, y = make_classification(n_samples=1000, n_features=10, n_informative=5, n_redundant=5, random_state=1)\n",
        "\n",
        "model = RandomForestClassifier()\n",
        "\n",
        "model.fit(X, y)\n",
        "\n",
        "importance = model.feature_importances_\n",
        "\n",
        "for i,v in enumerate(importance):\n",
        "\tprint('Feature: %0d, Score: %.5f' % (i,v))\n",
        "\n",
        "pyplot.bar([x for x in range(len(importance))], importance)\n",
        "pyplot.show()"
      ],
      "metadata": {
        "colab": {
          "base_uri": "https://localhost:8080/",
          "height": 440
        },
        "id": "sJPqeg-2yPMK",
        "outputId": "9b7c1eed-a863-4fa0-d6cc-072a5174634b"
      },
      "execution_count": 9,
      "outputs": [
        {
          "output_type": "stream",
          "name": "stdout",
          "text": [
            "Feature: 0, Score: 0.06220\n",
            "Feature: 1, Score: 0.11213\n",
            "Feature: 2, Score: 0.16175\n",
            "Feature: 3, Score: 0.19306\n",
            "Feature: 4, Score: 0.07455\n",
            "Feature: 5, Score: 0.10629\n",
            "Feature: 6, Score: 0.10800\n",
            "Feature: 7, Score: 0.05001\n",
            "Feature: 8, Score: 0.09116\n",
            "Feature: 9, Score: 0.04085\n"
          ]
        },
        {
          "output_type": "display_data",
          "data": {
            "text/plain": [
              "<Figure size 432x288 with 1 Axes>"
            ],
            "image/png": "[encoded data removed]"
          },
          "metadata": {
            "needs_background": "light"
          }
        }
      ]
    },
    {
      "cell_type": "markdown",
      "source": [
        "The results suggest perhaps two or three of the 10 features as being important to prediction."
      ],
      "metadata": {
        "id": "MkfSoSGoyfbQ"
      }
    },
    {
      "cell_type": "markdown",
      "source": [
        "## XGBoost Feature Importance"
      ],
      "metadata": {
        "id": "6h0VQtFvynM1"
      }
    },
    {
      "cell_type": "markdown",
      "source": [
        "XGBoost is a library that provides an efficient and effective implementation of the stochastic gradient boosting algorithm.\n",
        "\n",
        "This algorithm can be used with scikit-learn via the XGBRegressor and XGBClassifier classes.\n",
        "\n",
        "After being fit, the model provides a feature_importances_ property that can be accessed to retrieve the relative importance scores for each input feature.\n",
        "\n",
        "This algorithm is also provided via scikit-learn via the GradientBoostingClassifier and GradientBoostingRegressor classes and the same approach to feature selection can be used.\n",
        "\n",
        "First, install the XGBoost library, such as with pip:"
      ],
      "metadata": {
        "id": "WhDpRV3SysNk"
      }
    },
    {
      "cell_type": "code",
      "source": [
        "!sudo pip install xgboost"
      ],
      "metadata": {
        "colab": {
          "base_uri": "https://localhost:8080/"
        },
        "id": "Vm0PLbgTyaJp",
        "outputId": "49174619-9c93-4149-82a6-cac7d3460ed2"
      },
      "execution_count": 10,
      "outputs": [
        {
          "output_type": "stream",
          "name": "stdout",
          "text": [
            "Requirement already satisfied: xgboost in /usr/local/lib/python3.7/dist-packages (0.90)\n",
            "Requirement already satisfied: scipy in /usr/local/lib/python3.7/dist-packages (from xgboost) (1.4.1)\n",
            "Requirement already satisfied: numpy in /usr/local/lib/python3.7/dist-packages (from xgboost) (1.21.5)\n"
          ]
        }
      ]
    },
    {
      "cell_type": "code",
      "source": [
        "import xgboost\n",
        "print(xgboost.__version__)"
      ],
      "metadata": {
        "colab": {
          "base_uri": "https://localhost:8080/"
        },
        "id": "rIHvZkzUy3nZ",
        "outputId": "376301f4-e34b-47d3-dd4d-af1b56441bbb"
      },
      "execution_count": 11,
      "outputs": [
        {
          "output_type": "stream",
          "name": "stdout",
          "text": [
            "0.90\n"
          ]
        }
      ]
    },
    {
      "cell_type": "markdown",
      "source": [
        "### XGBoost Regression Feature Importance"
      ],
      "metadata": {
        "id": "lhGLKPm4y9pF"
      }
    },
    {
      "cell_type": "code",
      "source": [
        "from sklearn.datasets import make_regression\n",
        "from xgboost import XGBRegressor\n",
        "from matplotlib import pyplot\n",
        "\n",
        "X, y = make_regression(n_samples=1000, n_features=10, n_informative=5, random_state=1)\n",
        "\n",
        "model = XGBRegressor()\n",
        "\n",
        "model.fit(X, y)\n",
        "\n",
        "importance = model.feature_importances_\n",
        "\n",
        "for i,v in enumerate(importance):\n",
        "\tprint('Feature: %0d, Score: %.5f' % (i,v))\n",
        "\n",
        "pyplot.bar([x for x in range(len(importance))], importance)\n",
        "pyplot.show()"
      ],
      "metadata": {
        "colab": {
          "base_uri": "https://localhost:8080/",
          "height": 456
        },
        "id": "0PPhwbeSy7Ew",
        "outputId": "15c82181-6d65-45e8-b721-b9d25d59a174"
      },
      "execution_count": 12,
      "outputs": [
        {
          "output_type": "stream",
          "name": "stdout",
          "text": [
            "[17:22:15] WARNING: /workspace/src/objective/regression_obj.cu:152: reg:linear is now deprecated in favor of reg:squarederror.\n",
            "Feature: 0, Score: 0.00060\n",
            "Feature: 1, Score: 0.01917\n",
            "Feature: 2, Score: 0.00091\n",
            "Feature: 3, Score: 0.00118\n",
            "Feature: 4, Score: 0.49380\n",
            "Feature: 5, Score: 0.42342\n",
            "Feature: 6, Score: 0.05057\n",
            "Feature: 7, Score: 0.00419\n",
            "Feature: 8, Score: 0.00124\n",
            "Feature: 9, Score: 0.00491\n"
          ]
        },
        {
          "output_type": "display_data",
          "data": {
            "text/plain": [
              "<Figure size 432x288 with 1 Axes>"
            ],
            "image/png": "[encoded data removed]"
          },
          "metadata": {
            "needs_background": "light"
          }
        }
      ]
    },
    {
      "cell_type": "markdown",
      "source": [
        "The results suggest perhaps two or three of the 10 features as being important to prediction."
      ],
      "metadata": {
        "id": "rCuaUoeszFOP"
      }
    },
    {
      "cell_type": "markdown",
      "source": [
        "### XGBoost Classification Feature Importance"
      ],
      "metadata": {
        "id": "V48aOHnOzInO"
      }
    },
    {
      "cell_type": "code",
      "source": [
        "from sklearn.datasets import make_classification\n",
        "from xgboost import XGBClassifier\n",
        "from matplotlib import pyplot\n",
        "\n",
        "X, y = make_classification(n_samples=1000, n_features=10, n_informative=5, n_redundant=5, random_state=1)\n",
        "\n",
        "model = XGBClassifier()\n",
        "\n",
        "model.fit(X, y)\n",
        "\n",
        "importance = model.feature_importances_\n",
        "\n",
        "for i,v in enumerate(importance):\n",
        "\tprint('Feature: %0d, Score: %.5f' % (i,v))\n",
        "\n",
        "pyplot.bar([x for x in range(len(importance))], importance)\n",
        "pyplot.show()"
      ],
      "metadata": {
        "colab": {
          "base_uri": "https://localhost:8080/",
          "height": 439
        },
        "id": "Na79roqozB8N",
        "outputId": "2f59d0d9-0b47-4f61-9b1c-35de2dea501d"
      },
      "execution_count": 13,
      "outputs": [
        {
          "output_type": "stream",
          "name": "stdout",
          "text": [
            "Feature: 0, Score: 0.02464\n",
            "Feature: 1, Score: 0.08153\n",
            "Feature: 2, Score: 0.12516\n",
            "Feature: 3, Score: 0.28400\n",
            "Feature: 4, Score: 0.12694\n",
            "Feature: 5, Score: 0.10752\n",
            "Feature: 6, Score: 0.08624\n",
            "Feature: 7, Score: 0.04820\n",
            "Feature: 8, Score: 0.09357\n",
            "Feature: 9, Score: 0.02220\n"
          ]
        },
        {
          "output_type": "display_data",
          "data": {
            "text/plain": [
              "<Figure size 432x288 with 1 Axes>"
            ],
            "image/png": "[encoded data removed]"
          },
          "metadata": {
            "needs_background": "light"
          }
        }
      ]
    },
    {
      "cell_type": "markdown",
      "source": [
        "The results suggest perhaps seven of the 10 features as being important to prediction."
      ],
      "metadata": {
        "id": "83R5ULPhzPb0"
      }
    },
    {
      "cell_type": "markdown",
      "source": [
        "# Permutation Feature Importance"
      ],
      "metadata": {
        "id": "O6RF7TJ5zSJM"
      }
    },
    {
      "cell_type": "markdown",
      "source": [
        "Permutation feature importance is a technique for calculating relative importance scores that is independent of the model used.\n",
        "\n",
        "First, a model is fit on the dataset, such as a model that does not support native feature importance scores. Then the model is used to make predictions on a dataset, although the values of a feature (column) in the dataset are scrambled. This is repeated for each feature in the dataset. Then this whole process is repeated 3, 5, 10 or more times. The result is a mean importance score for each input feature (and distribution of scores given the repeats).\n",
        "\n",
        "This approach can be used for regression or classification and requires that a performance metric be chosen as the basis of the importance score, such as the mean squared error for regression and accuracy for classification.\n",
        "\n",
        "Permutation feature selection can be used via the permutation_importance() function that takes a fit model, a dataset (train or test dataset is fine), and a scoring function.\n",
        "\n",
        "Let’s take a look at this approach to feature selection with an algorithm that does not support feature selection natively, specifically k-nearest neighbors."
      ],
      "metadata": {
        "id": "fb5QQb7715x8"
      }
    },
    {
      "cell_type": "markdown",
      "source": [
        "## Permutation Feature Importance for Regression"
      ],
      "metadata": {
        "id": "o4h8ZRfYG5t7"
      }
    },
    {
      "cell_type": "code",
      "source": [
        "from sklearn.datasets import make_regression\n",
        "from sklearn.neighbors import KNeighborsRegressor\n",
        "from sklearn.inspection import permutation_importance\n",
        "from matplotlib import pyplot\n",
        "\n",
        "X, y = make_regression(n_samples=1000, n_features=10, n_informative=5, random_state=1)\n",
        "\n",
        "model = KNeighborsRegressor()\n",
        "\n",
        "model.fit(X, y)\n",
        "\n",
        "results = permutation_importance(model, X, y, scoring='neg_mean_squared_error')\n",
        "\n",
        "importance = results.importances_mean\n",
        "\n",
        "for i,v in enumerate(importance):\n",
        "\tprint('Feature: %0d, Score: %.5f' % (i,v))\n",
        "\n",
        "pyplot.bar([x for x in range(len(importance))], importance)\n",
        "pyplot.show()"
      ],
      "metadata": {
        "colab": {
          "base_uri": "https://localhost:8080/",
          "height": 439
        },
        "id": "eoJdoezczNQD",
        "outputId": "c2094a7a-b425-48ce-979d-2dfc8b346ad0"
      },
      "execution_count": 14,
      "outputs": [
        {
          "output_type": "stream",
          "name": "stdout",
          "text": [
            "Feature: 0, Score: 126.86944\n",
            "Feature: 1, Score: 319.56612\n",
            "Feature: 2, Score: 105.90767\n",
            "Feature: 3, Score: 11.61638\n",
            "Feature: 4, Score: 9413.97547\n",
            "Feature: 5, Score: 8039.57753\n",
            "Feature: 6, Score: 902.62713\n",
            "Feature: 7, Score: 135.25995\n",
            "Feature: 8, Score: 128.31181\n",
            "Feature: 9, Score: 100.16440\n"
          ]
        },
        {
          "output_type": "display_data",
          "data": {
            "text/plain": [
              "<Figure size 432x288 with 1 Axes>"
            ],
            "image/png": "[encoded data removed]"
          },
          "metadata": {
            "needs_background": "light"
          }
        }
      ]
    },
    {
      "cell_type": "markdown",
      "source": [
        "The results suggest perhaps two or three of the 10 features as being important to prediction."
      ],
      "metadata": {
        "id": "uAvTsfHPG0-7"
      }
    },
    {
      "cell_type": "markdown",
      "source": [
        "## Permutation Feature Importance for Classification"
      ],
      "metadata": {
        "id": "A9fppxpjG-Hj"
      }
    },
    {
      "cell_type": "code",
      "source": [
        "from sklearn.datasets import make_classification\n",
        "from sklearn.neighbors import KNeighborsClassifier\n",
        "from sklearn.inspection import permutation_importance\n",
        "from matplotlib import pyplot\n",
        "\n",
        "X, y = make_classification(n_samples=1000, n_features=10, n_informative=5, n_redundant=5, random_state=1)\n",
        "\n",
        "model = KNeighborsClassifier()\n",
        "\n",
        "model.fit(X, y)\n",
        "\n",
        "results = permutation_importance(model, X, y, scoring='accuracy')\n",
        "\n",
        "importance = results.importances_mean\n",
        "\n",
        "for i,v in enumerate(importance):\n",
        "\tprint('Feature: %0d, Score: %.5f' % (i,v))\n",
        "\n",
        "pyplot.bar([x for x in range(len(importance))], importance)\n",
        "pyplot.show()"
      ],
      "metadata": {
        "colab": {
          "base_uri": "https://localhost:8080/",
          "height": 439
        },
        "id": "SMMztIauGycz",
        "outputId": "29fe5c3d-faba-4187-c65a-495f822807b2"
      },
      "execution_count": 15,
      "outputs": [
        {
          "output_type": "stream",
          "name": "stdout",
          "text": [
            "Feature: 0, Score: 0.05120\n",
            "Feature: 1, Score: 0.05820\n",
            "Feature: 2, Score: 0.05240\n",
            "Feature: 3, Score: 0.09000\n",
            "Feature: 4, Score: 0.05280\n",
            "Feature: 5, Score: 0.05580\n",
            "Feature: 6, Score: 0.07280\n",
            "Feature: 7, Score: 0.05340\n",
            "Feature: 8, Score: 0.05640\n",
            "Feature: 9, Score: 0.02920\n"
          ]
        },
        {
          "output_type": "display_data",
          "data": {
            "text/plain": [
              "<Figure size 432x288 with 1 Axes>"
            ],
            "image/png": "[encoded data removed]"
          },
          "metadata": {
            "needs_background": "light"
          }
        }
      ]
    },
    {
      "cell_type": "markdown",
      "source": [
        "The results suggest perhaps two or three of the 10 features as being important to prediction."
      ],
      "metadata": {
        "id": "FvA7t1nsHHN6"
      }
    },
    {
      "cell_type": "markdown",
      "source": [
        "# Feature Selection with Importance"
      ],
      "metadata": {
        "id": "lBm8ZkAkHU8S"
      }
    },
    {
      "cell_type": "markdown",
      "source": [
        "Feature importance scores can be used to help interpret the data, but they can also be used directly to help rank and select features that are most useful to a predictive model.\n",
        "\n",
        "We can demonstrate this with a small example.\n",
        "\n",
        "Recall, our synthetic dataset has 1,000 examples each with 10 input variables, five of which are redundant and five of which are important to the outcome. We can use feature importance scores to help select the five variables that are relevant and only use them as inputs to a predictive model.\n",
        "\n",
        "First, we can split the training dataset into train and test sets and train a model on the training dataset, make predictions on the test set and evaluate the result using classification accuracy. We will use a logistic regression model as the predictive model.\n",
        "\n",
        "This provides a baseline for comparison when we remove some features using feature importance scores."
      ],
      "metadata": {
        "id": "BZvSB5HyHXbS"
      }
    },
    {
      "cell_type": "code",
      "source": [
        "from sklearn.datasets import make_classification\n",
        "from sklearn.model_selection import train_test_split\n",
        "from sklearn.linear_model import LogisticRegression\n",
        "from sklearn.metrics import accuracy_score\n",
        "\n",
        "X, y = make_classification(n_samples=1000, n_features=10, n_informative=5, n_redundant=5, random_state=1)\n",
        "\n",
        "X_train, X_test, y_train, y_test = train_test_split(X, y, test_size=0.33, random_state=1)\n",
        "\n",
        "model = LogisticRegression(solver='liblinear')\n",
        "model.fit(X_train, y_train)\n",
        "\n",
        "yhat = model.predict(X_test)\n",
        "\n",
        "accuracy = accuracy_score(y_test, yhat)\n",
        "print('Accuracy: %.2f' % (accuracy*100))"
      ],
      "metadata": {
        "colab": {
          "base_uri": "https://localhost:8080/"
        },
        "id": "Q-WBzq7VHD20",
        "outputId": "3635e90d-2a3b-45ea-afab-1c0f9d5b345c"
      },
      "execution_count": 16,
      "outputs": [
        {
          "output_type": "stream",
          "name": "stdout",
          "text": [
            "Accuracy: 84.55\n"
          ]
        }
      ]
    },
    {
      "cell_type": "markdown",
      "source": [
        "Given that we created the dataset, we would expect better or the same results with half the number of input variables.\n",
        "\n",
        "We could use any of the feature importance scores explored above, but in this case we will use the feature importance scores provided by random forest.\n",
        "\n",
        "We can use the SelectFromModel class to define both the model we wish to calculate importance scores, RandomForestClassifier in this case, and the number of features to select, 5 in this case."
      ],
      "metadata": {
        "id": "kkqZveK5HvIi"
      }
    },
    {
      "cell_type": "code",
      "source": [
        "from sklearn.feature_selection import SelectFromModel\n",
        "fs = SelectFromModel(RandomForestClassifier(n_estimators=200), max_features=5)"
      ],
      "metadata": {
        "id": "sIu-dwQyHsHY"
      },
      "execution_count": 18,
      "outputs": []
    },
    {
      "cell_type": "markdown",
      "source": [
        "We can fit the feature selection method on the training dataset.\n",
        "\n",
        "This will calculate the importance scores that can be used to rank all input features. We can then apply the method as a transform to select a subset of 5 most important features from the dataset. This transform will be applied to the training dataset and the test set."
      ],
      "metadata": {
        "id": "nj1pqfvzIKwC"
      }
    },
    {
      "cell_type": "code",
      "source": [
        "fs.fit(X_train, y_train)\n",
        "\n",
        "X_train_fs = fs.transform(X_train)\n",
        "\n",
        "X_test_fs = fs.transform(X_test)"
      ],
      "metadata": {
        "id": "4cr5AMaTH4kj"
      },
      "execution_count": 19,
      "outputs": []
    },
    {
      "cell_type": "markdown",
      "source": [
        "Tying this all together, the complete example of using random forest feature importance for feature selection is listed below."
      ],
      "metadata": {
        "id": "LyTHbNWtIcJ5"
      }
    },
    {
      "cell_type": "code",
      "source": [
        "from sklearn.datasets import make_classification\n",
        "from sklearn.model_selection import train_test_split\n",
        "from sklearn.feature_selection import SelectFromModel\n",
        "from sklearn.ensemble import RandomForestClassifier\n",
        "from sklearn.linear_model import LogisticRegression\n",
        "from sklearn.metrics import accuracy_score\n",
        "\n",
        "\n",
        "def select_features(X_train, y_train, X_test):\n",
        "\tfs = SelectFromModel(RandomForestClassifier(n_estimators=1000), max_features=5)\n",
        "\tfs.fit(X_train, y_train)\n",
        "\tX_train_fs = fs.transform(X_train)\n",
        "\tX_test_fs = fs.transform(X_test)\n",
        "\treturn X_train_fs, X_test_fs, fs\n",
        "\n",
        "X, y = make_classification(n_samples=1000, n_features=10, n_informative=5, n_redundant=5, random_state=1)\n",
        "\n",
        "X_train, X_test, y_train, y_test = train_test_split(X, y, test_size=0.33, random_state=1)\n",
        "\n",
        "X_train_fs, X_test_fs, fs = select_features(X_train, y_train, X_test)\n",
        "\n",
        "model = LogisticRegression(solver='liblinear')\n",
        "model.fit(X_train_fs, y_train)\n",
        "\n",
        "yhat = model.predict(X_test_fs)\n",
        "\n",
        "accuracy = accuracy_score(y_test, yhat)\n",
        "print('Accuracy: %.2f' % (accuracy*100))"
      ],
      "metadata": {
        "colab": {
          "base_uri": "https://localhost:8080/"
        },
        "id": "Sk9E8vngIRsI",
        "outputId": "b867f5c7-330e-49f0-b71a-c60e7b564bfe"
      },
      "execution_count": 20,
      "outputs": [
        {
          "output_type": "stream",
          "name": "stdout",
          "text": [
            "Accuracy: 84.55\n"
          ]
        }
      ]
    },
    {
      "cell_type": "markdown",
      "source": [
        "In this case, we can see that the model achieves the same performance on the dataset, although with half the number of input features. As expected, the feature importance scores calculated by random forest allowed us to accurately rank the input features and delete those that were not relevant to the target variable."
      ],
      "metadata": {
        "id": "xEMzWN_AIpqR"
      }
    }
  ]
}