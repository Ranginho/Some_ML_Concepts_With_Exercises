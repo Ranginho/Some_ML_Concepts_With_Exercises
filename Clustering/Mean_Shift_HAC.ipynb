{
  "nbformat": 4,
  "nbformat_minor": 0,
  "metadata": {
    "colab": {
      "name": "Mean_Shift_HAC.ipynb",
      "provenance": [],
      "collapsed_sections": []
    },
    "kernelspec": {
      "name": "python3",
      "display_name": "Python 3"
    }
  },
  "cells": [
    {
      "cell_type": "markdown",
      "metadata": {
        "id": "JXt3WqUYPmhy"
      },
      "source": [
        "Let's consider two more clustering algorithms from unsupervised learning - Mean Shift and HAC."
      ]
    },
    {
      "cell_type": "markdown",
      "metadata": {
        "id": "lIqb8moqUFuC"
      },
      "source": [
        "## Mean Shift"
      ]
    },
    {
      "cell_type": "markdown",
      "metadata": {
        "id": "O3OtzrlvUIel"
      },
      "source": [
        "Unlike K-Means, in this case we do not need to predetermine the number of clusters, as the algorithm itself does this based on the data, which in some cases is a big plus but it needs to predefine other parameter - bandwidth. Math behind mean shift is more complex so let's start with simple example:"
      ]
    },
    {
      "cell_type": "markdown",
      "metadata": {
        "id": "owKuaLeVkXKQ"
      },
      "source": [
        "Let's say we have this points:\n",
        "\n",
        "![](https://i.imgur.com/DqnagXH.png) \n",
        "\n",
        "Firstly we choose radius(this is bandwidth), let's say $r=3$. Than we choose some random point, for example lower left point and we consider it as center or circle with radius r. \n",
        "![](https://imgur.com/vdqBzcu.png)  \n",
        "Which points are inside this circle?\n",
        "![](https://imgur.com/lpy0R6K.png)  \n",
        "We calculate center of mass. We assign this value to each point so in our case it's just average of point coordinates.\n",
        "![](https://imgur.com/E0cBug5.png)  \n",
        "Nowe create a new circle with the same radius for this center of mass\n",
        "![](https://imgur.com/5CQu221.png)  \n",
        "We calculate center of mass for this new points and create a new circle\n",
        "![](https://imgur.com/zIbeDKm.png)  \n",
        "we continue this process until convex:\n",
        "![](https://imgur.com/9UYFEfz.png)  \n",
        "\n",
        "\n",
        "![](https://imgur.com/wpqkbpb.png)  \n",
        "We don't have new points in circle so this means that we reached to convex and the center of mass we got on the last step is centroid of a cluster for firstly chosen point.\n",
        "\n",
        "We should do this process for each point. Points with the same centroids are consider as a same cluster. One way to make this algorithm faster is that when we reach convex point, each point that is inside circle just assign to the same cluster and we don't need to do this whole process for this points"
      ]
    },
    {
      "cell_type": "markdown",
      "metadata": {
        "id": "gC8XicGswF2e"
      },
      "source": [
        "In fact we get a better result if each point has different center of mass, let's use this formula for each point to calculate center of mass:\n",
        "\n",
        "$$ M = \\frac{\\sum_{i=1}^{n} m_iA_i}{\\sum_{i=1}^{n} m_i} $$  \n",
        "\n",
        "$M$ - center of mass. $n$ - number of points. $A_i$ - $i$th point. $m_i$ - center of mass for $i$th point. It is logical that the closer point to the center of circle should have greater weight than the points that are far from center. In this way the points closer to the center will have a greater influence on the direction of movement of the circle, i.e. the circle will be more localized and we will get more accurate clusters.\n",
        "\n",
        "To get this we need some function that assigns masses ( it's called __kernel__). One of the most popular kernels is __gauss kernel__. It assigns masses using gaussian(normal) distribution:\n",
        "\n",
        "![](https://sciences.usca.edu/biology/zelmer/305/norm/stanorm.jpg)  \n",
        "\n",
        "This is the same logic as we talked before."
      ]
    },
    {
      "cell_type": "markdown",
      "metadata": {
        "id": "peYzhns60e89"
      },
      "source": [
        "We can implement Mean Shift algorithm using `MeanShift` class from `sklearn.cluster` module.\n",
        "\n",
        "Let's create data using `make_blobs()` function from `sklearn.datasets` module. parameters:  \n",
        "* `n_samples` - number of points\n",
        "* `centers` - number of center/clusters or their coordinates\n",
        "* `n_features` - number of features\n",
        "* `random_state` - to have same result for several run\n",
        "\n",
        "This function returns `X` and `y`, in our case we don't need `y` as it's unsupervised learning algorithm but still we can use it for visualisation purposes"
      ]
    },
    {
      "cell_type": "code",
      "metadata": {
        "id": "jVioguNMMN6Q",
        "colab": {
          "base_uri": "https://localhost:8080/",
          "height": 265
        },
        "outputId": "87ac909b-4546-4a7e-fd8b-37c95b513d12"
      },
      "source": [
        "import numpy as np\n",
        "import matplotlib.pyplot as plt\n",
        "from sklearn.datasets import make_blobs\n",
        "\n",
        "centers = np.array([[0, 0], [4, 5], [7, 2]])  # კლასტერების ცენტრები\n",
        "X, y = make_blobs(n_samples=100, centers=centers, n_features=2, random_state=0)\n",
        "\n",
        "plt.plot(X[y==0, 0], X[y==0, 1], 'bo', X[y==1, 0], X[y==1, 1], 'ro', X[y==2, 0], X[y==2, 1], 'go')\n",
        "plt.show()"
      ],
      "execution_count": 1,
      "outputs": [
        {
          "output_type": "display_data",
          "data": {
            "text/plain": [
              "<Figure size 432x288 with 1 Axes>"
            ],
            "image/png": "[encoded data removed]"
          },
          "metadata": {
            "needs_background": "light"
          }
        }
      ]
    },
    {
      "cell_type": "markdown",
      "metadata": {
        "id": "3WhV1lBK6hXJ"
      },
      "source": [
        "Red and greed clusters are close to each other and maybe model will get confused with this points. Let's run mean shift algorithm and print generated cluster center using `cluster_centers_` attribute. Men shift from `sklearn` library uses RBF (Radial Basis Function) kernel(not gaussian) and we can do not pass bandwidth, model chooses it regarding to data."
      ]
    },
    {
      "cell_type": "code",
      "metadata": {
        "id": "x-7evThK56ip",
        "colab": {
          "base_uri": "https://localhost:8080/"
        },
        "outputId": "d69bf284-8d78-4e90-8765-f594ed9eee2b"
      },
      "source": [
        "from sklearn.cluster import MeanShift\n",
        "\n",
        "ms = MeanShift().fit(X)\n",
        "ms.cluster_centers_"
      ],
      "execution_count": 2,
      "outputs": [
        {
          "output_type": "execute_result",
          "data": {
            "text/plain": [
              "array([[ 6.61718358,  2.0631853 ],\n",
              "       [ 4.10298085,  5.44110186],\n",
              "       [ 0.06110439, -0.01455301]])"
            ]
          },
          "metadata": {},
          "execution_count": 2
        }
      ]
    },
    {
      "cell_type": "markdown",
      "metadata": {
        "id": "szPeifE96wFQ"
      },
      "source": [
        "It's too close to real cenetrs(that we passed to `make_blobs()` function)"
      ]
    },
    {
      "cell_type": "code",
      "metadata": {
        "id": "G4Zu_uo-38Mo",
        "colab": {
          "base_uri": "https://localhost:8080/",
          "height": 265
        },
        "outputId": "b2fdfa7e-cb6c-4ef7-c53f-91544b4d1f28"
      },
      "source": [
        "# plt.plot(X[ms.labels_==0, 0], X[ms.labels_==0, 1], 'bo', \n",
        "#          X[ms.labels_==1, 0], X[ms.labels_==1, 1], 'ro', \n",
        "#          X[ms.labels_==2, 0], X[ms.labels_==2, 1], 'go')\n",
        "for i in range(len(ms.cluster_centers_)):\n",
        "    plt.scatter(X[ms.labels_==i, 0], X[ms.labels_==i, 1])\n",
        "plt.show()"
      ],
      "execution_count": 3,
      "outputs": [
        {
          "output_type": "display_data",
          "data": {
            "text/plain": [
              "<Figure size 432x288 with 1 Axes>"
            ],
            "image/png": "[encoded data removed]"
          },
          "metadata": {
            "needs_background": "light"
          }
        }
      ]
    },
    {
      "cell_type": "markdown",
      "metadata": {
        "id": "QF9o0xVk7UpX"
      },
      "source": [
        "Algorithm missclassified only one point and this point is not clear for even human so it's pretty good result especially because we didn't pass bandwidth parameter."
      ]
    },
    {
      "cell_type": "markdown",
      "metadata": {
        "id": "Af3Msqse9iqD"
      },
      "source": [
        "Let's try different bandwidth values:"
      ]
    },
    {
      "cell_type": "code",
      "metadata": {
        "id": "rLkRHiaz7O9u",
        "colab": {
          "base_uri": "https://localhost:8080/"
        },
        "outputId": "b9d1d70c-d38a-4248-dff7-c3ca7d234f04"
      },
      "source": [
        "ms = MeanShift(bandwidth=100).fit(X)\n",
        "ms.cluster_centers_"
      ],
      "execution_count": 4,
      "outputs": [
        {
          "output_type": "execute_result",
          "data": {
            "text/plain": [
              "array([[3.62904232, 2.45277867]])"
            ]
          },
          "metadata": {},
          "execution_count": 4
        }
      ]
    },
    {
      "cell_type": "markdown",
      "metadata": {
        "id": "pbolrAbC9wzH"
      },
      "source": [
        "We got one big cluster because our bandwidth is too big(as we said above)"
      ]
    },
    {
      "cell_type": "code",
      "metadata": {
        "id": "aZKgrgmq9v4A",
        "colab": {
          "base_uri": "https://localhost:8080/"
        },
        "outputId": "1b23d0e2-dbd3-407c-e4e5-b13e9433779c"
      },
      "source": [
        "ms = MeanShift(bandwidth=0.5).fit(X)\n",
        "ms.cluster_centers_"
      ],
      "execution_count": 5,
      "outputs": [
        {
          "output_type": "execute_result",
          "data": {
            "text/plain": [
              "array([[ 0.03311045,  0.26034346],\n",
              "       [-0.41765253, -0.24891771],\n",
              "       [ 7.83163538,  2.06867528],\n",
              "       [ 5.77036476,  2.45691303],\n",
              "       [ 4.39558552,  5.68297402],\n",
              "       [ 3.30829029,  4.88229142],\n",
              "       [ 6.18318326,  3.56045097],\n",
              "       [ 5.99711486,  1.39615176],\n",
              "       [ 5.78484592,  1.85495282],\n",
              "       [ 7.00090999,  0.78796457],\n",
              "       [ 4.95170737,  4.93134933],\n",
              "       [ 4.41480987,  3.89318181],\n",
              "       [ 3.57137359,  6.84839973],\n",
              "       [ 2.83120418,  5.97489164],\n",
              "       [ 0.71832979,  0.10133071],\n",
              "       [ 0.17875079, -0.48102018],\n",
              "       [-0.916495  , -1.70903234],\n",
              "       [ 9.27319036,  3.14050372],\n",
              "       [ 6.71686297,  3.82143739],\n",
              "       [ 3.66440984,  6.01245073],\n",
              "       [ 3.35779194,  4.33684776],\n",
              "       [ 2.98282545,  6.92684307],\n",
              "       [ 1.38153495,  1.33586931],\n",
              "       [-1.44149685,  0.62013631],\n",
              "       [ 8.12663592,  0.92006849],\n",
              "       [ 7.85683061,  1.34897441],\n",
              "       [ 7.77179055,  2.82350415],\n",
              "       [ 7.62523145,  0.39794234],\n",
              "       [ 7.1666735 ,  2.63503144],\n",
              "       [ 6.90154748,  1.33652171],\n",
              "       [ 6.5444675 ,  2.01747916],\n",
              "       [ 6.3563816 , -0.22340315],\n",
              "       [ 5.99978465,  0.4552289 ],\n",
              "       [ 5.92294203,  6.48051479],\n",
              "       [ 5.86755896,  5.90604466],\n",
              "       [ 5.48825219,  6.89588918],\n",
              "       [ 5.13940068,  3.76517418],\n",
              "       [ 3.23008393,  5.53924919],\n",
              "       [ 2.26975462, -1.45436567],\n",
              "       [ 1.86755799, -0.97727788],\n",
              "       [ 1.76405235,  0.40015721],\n",
              "       [ 1.49407907, -0.20515826],\n",
              "       [ 0.97873798,  2.2408932 ],\n",
              "       [ 0.8644362 , -0.74216502],\n",
              "       [ 0.14404357,  1.45427351],\n",
              "       [-0.51080514, -1.18063218],\n",
              "       [-0.89546656,  0.3869025 ],\n",
              "       [-1.61389785, -0.21274028],\n",
              "       [-1.70627019,  1.9507754 ],\n",
              "       [-2.55298982,  0.6536186 ]])"
            ]
          },
          "metadata": {},
          "execution_count": 5
        }
      ]
    },
    {
      "cell_type": "markdown",
      "metadata": {
        "id": "jiRMbbbo_fRw"
      },
      "source": [
        "We got lots of clusters because our bandwidth is too small(as we said above)"
      ]
    },
    {
      "cell_type": "markdown",
      "metadata": {
        "id": "WPLHRnwWABIR"
      },
      "source": [
        "## HAC"
      ]
    },
    {
      "cell_type": "markdown",
      "metadata": {
        "id": "fkjFASOMAE4t"
      },
      "source": [
        "HAC (Hierarchical Agglomerative Clustering) - this algorithm works from botton to top. At first we consider each point as seperate clusters and we merge them step by step. We don't need to pass number of clusters to this algorithm"
      ]
    },
    {
      "cell_type": "markdown",
      "metadata": {
        "id": "RkanUNxWH66Q"
      },
      "source": [
        "Algorithm:  \n",
        "1. Each point is seperate cluster\n",
        "2. We merge two closest clusters\n",
        "3. We repeat step $2$ until we have only one cluster\n",
        "\n",
        "___what does it mean 'closest clusters'?___  \n",
        "We should define distance between clusters:\n",
        "* single linkage - minimum distance between two points from this clusters(one point from first cluster and second point from the other cluster)\n",
        "* complete linkage - maximum distance between two points from this clusters(one point from first cluster and second point from the other cluster)\n",
        "* average linkage - average of distances between two points(we consider average of all pairs of points)\n",
        "* centroid linkage - distance between centroids\n",
        "* ward linkage -\n",
        "$$ L(A, B) = \\frac {n_A n_B}{n_A + n_B} (m_A - m_B)^2 $$\n",
        "$A$ and $B$ - name of clusters, $n_A$, $n_B$ number of elements in each cluster, $m_A$, $m_B$ center of cluster. \n",
        "\n",
        "ward linkage is mostly common.\n",
        "      \n",
        "___How do we get final clustering result from this one big cluster?___   \n",
        "We need to create a dendrogram. Is some kind of diagram that has shape of tree and shows us hierarchical dependence between objects. Let's look at example:\n",
        "\n",
        "Firstly let's generate some points using `make_blobs()` function"
      ]
    },
    {
      "cell_type": "code",
      "metadata": {
        "id": "9u_02ygv9veb",
        "colab": {
          "base_uri": "https://localhost:8080/",
          "height": 265
        },
        "outputId": "44f5455f-65e6-49a4-a399-4e37b7186aef"
      },
      "source": [
        "centers = np.array([[0, 0], [4, 5], [7, 2]])  # centers of clusters\n",
        "X, y = make_blobs(n_samples=15, centers=centers, n_features=2, random_state=0)\n",
        "\n",
        "plt.plot(X[y==0, 0], X[y==0, 1], 'bo', X[y==1, 0], X[y==1, 1], 'ro', X[y==2, 0], X[y==2, 1], 'go')\n",
        "plt.show()"
      ],
      "execution_count": 6,
      "outputs": [
        {
          "output_type": "display_data",
          "data": {
            "text/plain": [
              "<Figure size 432x288 with 1 Axes>"
            ],
            "image/png": "[encoded data removed]"
          },
          "metadata": {
            "needs_background": "light"
          }
        }
      ]
    },
    {
      "cell_type": "markdown",
      "metadata": {
        "id": "OhWO4U_RG0ch"
      },
      "source": [
        "We can use `dendrogram()` class from `scipy.cluster.hierarchy` module to create a dendrogram but firstly we need to get one big cluster and we'll use `linkage()` method from the same class for this"
      ]
    },
    {
      "cell_type": "code",
      "metadata": {
        "id": "3LD0XPIJAEMo",
        "colab": {
          "base_uri": "https://localhost:8080/"
        },
        "outputId": "1845475d-bba5-4ba0-896d-8d5f587eb3ca"
      },
      "source": [
        "from scipy.cluster.hierarchy import dendrogram, linkage\n",
        "\n",
        "z = linkage(X, 'ward')\n",
        "z"
      ],
      "execution_count": 7,
      "outputs": [
        {
          "output_type": "execute_result",
          "data": {
            "text/plain": [
              "array([[ 5.        ,  7.        ,  0.38150146,  2.        ],\n",
              "       [ 1.        ,  4.        ,  0.98321179,  2.        ],\n",
              "       [ 6.        ,  8.        ,  0.98905877,  2.        ],\n",
              "       [10.        , 15.        ,  1.14446255,  3.        ],\n",
              "       [13.        , 18.        ,  1.35442786,  4.        ],\n",
              "       [ 3.        , 16.        ,  1.4020422 ,  3.        ],\n",
              "       [ 9.        , 14.        ,  2.12617245,  2.        ],\n",
              "       [ 0.        , 19.        ,  2.17169758,  5.        ],\n",
              "       [11.        , 17.        ,  2.38676063,  3.        ],\n",
              "       [ 2.        , 23.        ,  2.83255622,  4.        ],\n",
              "       [20.        , 21.        ,  2.95866309,  5.        ],\n",
              "       [12.        , 22.        ,  3.2574221 ,  6.        ],\n",
              "       [24.        , 26.        , 10.20015058, 10.        ],\n",
              "       [25.        , 27.        , 15.16169329, 15.        ]])"
            ]
          },
          "metadata": {},
          "execution_count": 7
        }
      ]
    },
    {
      "cell_type": "markdown",
      "metadata": {
        "id": "q8FMAGbEKCMN"
      },
      "source": [
        "We get two dimensional matrix where each vector has four components: indexes of merged clusters, distance between them and number of points in new cluster. When we merge two clusters, index of new cluster is smallest unused number. If we have 15 data points, their cluster indexes are from $0$ to $14$ and the index of cluster that we get from the very first merge operation is $15$. Using this matrix we canc reate a dendrogram:"
      ]
    },
    {
      "cell_type": "code",
      "metadata": {
        "id": "M2NgaP529ska",
        "colab": {
          "base_uri": "https://localhost:8080/",
          "height": 486
        },
        "outputId": "c923086e-bad4-4f38-fa85-7835abf837ba"
      },
      "source": [
        "plt.figure(figsize=(10, 8))\n",
        "dendrogram(z)\n",
        "plt.show()"
      ],
      "execution_count": 8,
      "outputs": [
        {
          "output_type": "display_data",
          "data": {
            "text/plain": [
              "<Figure size 720x576 with 1 Axes>"
            ],
            "image/png": "[encoded data removed]"
          },
          "metadata": {
            "needs_background": "light"
          }
        }
      ]
    },
    {
      "cell_type": "markdown",
      "metadata": {
        "id": "5EUSKLxPLbHw"
      },
      "source": [
        "Number on $x$ axis are index of our points. height on horizontax axis, so coordinate on $y$ axis means distances between merged clusters.\n",
        "\n",
        "We know that firstly algorithm merges two closest clusters so if we want to find out the sequence of merging process, we can find the lowest horizontal line and this will be the first merged clusters, in our case clusters with indexes $5$ and $7$."
      ]
    },
    {
      "cell_type": "code",
      "metadata": {
        "id": "3XUGuAkeJO-K",
        "colab": {
          "base_uri": "https://localhost:8080/",
          "height": 265
        },
        "outputId": "84e468d6-f95f-4e76-edd2-32c1f19dd88b"
      },
      "source": [
        "# visualization of points 5 and 7 to make sure that they are the closest ones:\n",
        "plt.plot(X[y==0, 0], X[y==0, 1], 'bo', X[y==1, 0], X[y==1, 1], 'ro', X[y==2, 0], X[y==2, 1], 'go')\n",
        "plt.scatter([X[5, 0],  X[7, 0]], [X[5, 1], X[7, 1]], s=80, edgecolors='k', linewidths=3)\n",
        "plt.show()"
      ],
      "execution_count": 11,
      "outputs": [
        {
          "output_type": "display_data",
          "data": {
            "text/plain": [
              "<Figure size 432x288 with 1 Axes>"
            ],
            "image/png": "[encoded data removed]"
          },
          "metadata": {
            "needs_background": "light"
          }
        }
      ]
    },
    {
      "cell_type": "markdown",
      "metadata": {
        "id": "AA9m5WpbVdY6"
      },
      "source": [
        "cluster creation:  \n",
        "![](https://imgur.com/n4FjC7b.png)  \n",
        "\n",
        "Other approach:\n",
        "We can take maximum depth (`distance_threshold`) and say that if distance is bigger than this threshold, we won't merge clusters. "
      ]
    },
    {
      "cell_type": "markdown",
      "metadata": {
        "id": "o1QOtXfrEsZn"
      },
      "source": [
        "In practice if we want to write HAC algorithm `AgglomerativeClustering` class from `sklearn.cluster` module is used more often, we should pass only `n_clusters`(it's $2$ by default) to it or `distance_threshold`"
      ]
    },
    {
      "cell_type": "code",
      "metadata": {
        "id": "Ys5UcHcvRN_0",
        "colab": {
          "base_uri": "https://localhost:8080/"
        },
        "outputId": "c8eebad5-7989-4b97-8dcf-586ccbac3651"
      },
      "source": [
        "from sklearn.cluster import AgglomerativeClustering\n",
        "\n",
        "hac = AgglomerativeClustering(n_clusters=None, distance_threshold=4).fit(X)\n",
        "hac.n_clusters_   # let's look how many clusters did it found"
      ],
      "execution_count": 12,
      "outputs": [
        {
          "output_type": "execute_result",
          "data": {
            "text/plain": [
              "3"
            ]
          },
          "metadata": {},
          "execution_count": 12
        }
      ]
    },
    {
      "cell_type": "code",
      "metadata": {
        "id": "HV_-TBFEPxup",
        "colab": {
          "base_uri": "https://localhost:8080/",
          "height": 265
        },
        "outputId": "a02e015e-e0af-4df5-db12-2f49f61c83bc"
      },
      "source": [
        "for i in range(hac.n_clusters_):\n",
        "    plt.scatter(X[hac.labels_==i, 0], X[hac.labels_==i, 1]) \n",
        "plt.show()"
      ],
      "execution_count": 13,
      "outputs": [
        {
          "output_type": "display_data",
          "data": {
            "text/plain": [
              "<Figure size 432x288 with 1 Axes>"
            ],
            "image/png": "[encoded data removed]"
          },
          "metadata": {
            "needs_background": "light"
          }
        }
      ]
    },
    {
      "cell_type": "markdown",
      "metadata": {
        "id": "acWAJIgzR7Sv"
      },
      "source": [
        "There is only one missclassified data point. Let's consider bigger dataset with more clusters:"
      ]
    },
    {
      "cell_type": "code",
      "metadata": {
        "id": "RlbtyA9NRCAs",
        "colab": {
          "base_uri": "https://localhost:8080/",
          "height": 269
        },
        "outputId": "7f29333c-89b9-4de2-e9f5-3d190b997f6e"
      },
      "source": [
        "centers = np.array([[2, 1], [4, 5], [7, 2], [4.5, -3], [8, 6]])  # centers of classes\n",
        "X, y = make_blobs(n_samples=150, centers=centers, n_features=2, random_state=7)\n",
        "\n",
        "for i in range(5):\n",
        "    plt.scatter(X[y==i, 0], X[y==i, 1]) \n",
        "plt.show()"
      ],
      "execution_count": 14,
      "outputs": [
        {
          "output_type": "display_data",
          "data": {
            "text/plain": [
              "<Figure size 432x288 with 1 Axes>"
            ],
            "image/png": "[encoded data removed]"
          },
          "metadata": {
            "needs_background": "light"
          }
        }
      ]
    },
    {
      "cell_type": "markdown",
      "metadata": {
        "id": "qEMYC_laUpQf"
      },
      "source": [
        "Let's try max_depth = 5"
      ]
    },
    {
      "cell_type": "code",
      "metadata": {
        "id": "6mbBJKNOSwQc",
        "colab": {
          "base_uri": "https://localhost:8080/",
          "height": 269
        },
        "outputId": "df53d008-6328-4ccb-f577-e81a31d36b7b"
      },
      "source": [
        "hac = AgglomerativeClustering(n_clusters=None, distance_threshold=5).fit(X) \n",
        "\n",
        "for i in range(hac.n_clusters_):\n",
        "    plt.scatter(X[hac.labels_==i, 0], X[hac.labels_==i, 1]) \n",
        "plt.show()"
      ],
      "execution_count": 15,
      "outputs": [
        {
          "output_type": "display_data",
          "data": {
            "text/plain": [
              "<Figure size 432x288 with 1 Axes>"
            ],
            "image/png": "[encoded data removed]"
          },
          "metadata": {
            "needs_background": "light"
          }
        }
      ]
    },
    {
      "cell_type": "markdown",
      "metadata": {
        "id": "E3QUb569UuYC"
      },
      "source": [
        "We got lots of classes, let's try to increase max_depth to $10$"
      ]
    },
    {
      "cell_type": "code",
      "metadata": {
        "id": "OyPwVLvRTqH9",
        "colab": {
          "base_uri": "https://localhost:8080/",
          "height": 269
        },
        "outputId": "68373b12-bfc3-4a6e-f2e9-04ef03faebb0"
      },
      "source": [
        "hac = AgglomerativeClustering(n_clusters=None, distance_threshold=10).fit(X) \n",
        "\n",
        "for i in range(hac.n_clusters_):\n",
        "    plt.scatter(X[hac.labels_==i, 0], X[hac.labels_==i, 1]) \n",
        "plt.show()"
      ],
      "execution_count": 16,
      "outputs": [
        {
          "output_type": "display_data",
          "data": {
            "text/plain": [
              "<Figure size 432x288 with 1 Axes>"
            ],
            "image/png": "[encoded data removed]"
          },
          "metadata": {
            "needs_background": "light"
          }
        }
      ]
    },
    {
      "cell_type": "markdown",
      "metadata": {
        "id": "eQ4UeNS0VAaB"
      },
      "source": [
        "We got much better result. Let's try $3$ clusters:"
      ]
    },
    {
      "cell_type": "code",
      "metadata": {
        "id": "knlFfIuWUlCf",
        "colab": {
          "base_uri": "https://localhost:8080/",
          "height": 269
        },
        "outputId": "d44e3dcf-1af3-4fef-9e7f-791c55a65bcd"
      },
      "source": [
        "hac = AgglomerativeClustering(n_clusters=3).fit(X) \n",
        "\n",
        "for i in range(hac.n_clusters_):\n",
        "    plt.scatter(X[hac.labels_==i, 0], X[hac.labels_==i, 1]) \n",
        "plt.show()"
      ],
      "execution_count": 17,
      "outputs": [
        {
          "output_type": "display_data",
          "data": {
            "text/plain": [
              "<Figure size 432x288 with 1 Axes>"
            ],
            "image/png": "[encoded data removed]"
          },
          "metadata": {
            "needs_background": "light"
          }
        }
      ]
    },
    {
      "cell_type": "markdown",
      "metadata": {
        "id": "g1IDO21-WfxG"
      },
      "source": [
        "Previous one was better. \n",
        "\n",
        "Bad thing about HAC is that it's much slower than mean shift(mean shift is slower tham k-means)"
      ]
    },
    {
      "cell_type": "code",
      "source": [
        ""
      ],
      "metadata": {
        "id": "bgBxxfIhtuqA"
      },
      "execution_count": null,
      "outputs": []
    }
  ]
}