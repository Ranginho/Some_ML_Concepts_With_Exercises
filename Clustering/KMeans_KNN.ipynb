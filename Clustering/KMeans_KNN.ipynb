{
  "nbformat": 4,
  "nbformat_minor": 0,
  "metadata": {
    "colab": {
      "name": "KMeans_KNN",
      "provenance": [],
      "collapsed_sections": []
    },
    "kernelspec": {
      "name": "python3",
      "display_name": "Python 3"
    }
  },
  "cells": [
    {
      "cell_type": "markdown",
      "metadata": {
        "id": "7VQChi9Hss0W"
      },
      "source": [
        "## Unsupervised Learning - Clustering"
      ]
    },
    {
      "cell_type": "markdown",
      "metadata": {
        "id": "9T1-2y4os4QR"
      },
      "source": [
        "Unsupervised learning - this is type of learning when we don't have target value. Model just takes some data and it should find some different patterns. The most common problem of unsupervised learning is clustering. We use clastering when we want to make some clasters from similar data points. For example:\n",
        "* Market segmentation - when we want to create clusters for similar customers.\n",
        "* Image segmentation - create clusters of some pixels and divide some objects on picture.\n",
        "* Anomaly detection - data points that are far from others after clusterization can be considered as anomalies/outliers and we can delete them.\n",
        "\n",
        "As we don't have a target value in unsupervised learning, it's hard to estimate a model. There are some evaluation criterias, however, which criterion is important for a particular task is up to the user to decide."
      ]
    },
    {
      "cell_type": "markdown",
      "metadata": {
        "id": "q-LKbMwUUSjV"
      },
      "source": [
        "The main goal of clusterization is to make clusters from similar data points and for this we want to define what is __similar__. There are lots of similarity measures, we can consider them as distance between data points. If this distance is small, data points are more similar. Mostly common used similarity measures:  \n",
        "* Euclidean distance - distance between two points, it's very simple - distance that we generally use in geometry:\n",
        "$$ D_{A, B} = \\sqrt { \\sum_{i=1}^{m} (A_i-B_i)^2 } $$ \n",
        "$D_{A, B}$ - eucleadian distance betweem $A$ and $B$ points. $A_i$ and $B_i$ are the coordinates of $A$ and $B$, $m$ - dimension of point (for machine learning problems - number of features)\n",
        "* Cosine distance - cosine of the angle between two vectors.\n",
        "$$ D_{\\vec u, \\vec v} = \\frac {\\vec u \\cdot \\vec v}{\\lvert \\lvert \\vec u \\rvert \\rvert \\ \\lvert \\lvert \\vec v \\rvert \\rvert} $$  \n",
        "vector scalar product is $ \\vec u \\cdot \\vec v = \\lvert \\lvert \\vec u \\rvert \\rvert \\ \\lvert \\lvert \\vec v \\rvert \\rvert \\ \\cos \\alpha $, where $\\alpha$ is angle between vectors. Also vector scalar product is $\\vec u \\cdot \\vec v$ so we can get this formula:\n",
        "$$ D_{\\vec u, \\vec v} = \\frac {\\sum_{i=1}^{m} u_i v_i}{\\lvert \\lvert \\vec u \\rvert \\rvert \\ \\lvert \\lvert \\vec v \\rvert \\rvert} $$  \n",
        "* Jaccard similarity - this is used to estimate similarity between sets and it's Intersection over Union:\n",
        "$$ D_{A, B} = \\frac {\\lvert A \\cap B \\rvert}{\\lvert A \\cup B \\rvert} $$  \n",
        "* Manhattan distance - what is distance to get from point A to point B if we are allowed to move only on lines(not on diagonals):\n",
        "$$ D_{A, B} = { \\sum_{i=1}^{m} \\lvert A_i-B_i \\rvert  } $$\n",
        "\n",
        "[for visualization of manhattan distance you can see this link](https://www.researchgate.net/profile/Jose-Martinez-245/publication/343237167/figure/fig24/AS:917936684404746@1595864568479/Euclidean-and-Manhattan-distance-comparison-3235-Optimizations-The-first-optimization.png)\n"
      ]
    },
    {
      "cell_type": "markdown",
      "metadata": {
        "id": "ALJos61L2a2c"
      },
      "source": [
        "### K-Means"
      ]
    },
    {
      "cell_type": "markdown",
      "metadata": {
        "id": "UdYVLIJX8AHH"
      },
      "source": [
        "K-Means is very popular clustering algorithm. It 's __exclusive__ clustering algorithm, each point is assigned to only one cluster. It uses eucledian distance to mesure similarity(but we can use other similarity measure if we want). We get $k$ cluster using this algorithm and we should define $k$ before we run the algorithm. Algorithm: \n",
        "\n",
        "**Step 1:** We choose $k$ number center (we can choose this points randomly but in general we get better result if we choose some real points randomly as centers)\n"
      ]
    },
    {
      "cell_type": "code",
      "metadata": {
        "id": "fBTa5zg8rQYN",
        "colab": {
          "base_uri": "https://localhost:8080/",
          "height": 265
        },
        "outputId": "132f1432-2d14-4448-ccaf-32d1718c35cd"
      },
      "source": [
        "import matplotlib.pyplot as plt\n",
        "import numpy as np\n",
        "\n",
        "np.random.seed(7) \n",
        "\n",
        "# Random Data\n",
        "x1 = np.random.rand(10)*2\n",
        "y1 = np.random.rand(10)*2\n",
        "x2 = np.random.rand(10)*2 + 2\n",
        "y2 = np.random.rand(10)*3 + 1\n",
        "\n",
        "x = np.concatenate([x1, x2])\n",
        "y = np.concatenate([y1, y2])\n",
        "plt.plot(x, y, 'ko') \n",
        "\n",
        "# Choose cluster centers randomly and mark them with blue and red X-s.\n",
        "blue_ind, red_ind = np.random.choice(np.arange(x.shape[0]), 2)\n",
        "blue_center = np.array([x[blue_ind], y[blue_ind]])\n",
        "red_center = np.array([x[red_ind], y[red_ind]])\n",
        "\n",
        "plt.plot(blue_center[0], blue_center[1], 'bx', red_center[0], red_center[1], 'rx', markeredgewidth=2, markersize=12)\n",
        "plt.show()"
      ],
      "execution_count": 6,
      "outputs": [
        {
          "output_type": "display_data",
          "data": {
            "text/plain": [
              "<Figure size 432x288 with 1 Axes>"
            ],
            "image/png": "[encoded data removed]"
          },
          "metadata": {
            "needs_background": "light"
          }
        }
      ]
    },
    {
      "cell_type": "markdown",
      "metadata": {
        "id": "jPOS19g_1AGz"
      },
      "source": [
        "**Step 2:** We calculate distances from each point to centers and each point is assigned to a closer cluster "
      ]
    },
    {
      "cell_type": "code",
      "metadata": {
        "id": "YztuenkMxskq",
        "colab": {
          "base_uri": "https://localhost:8080/",
          "height": 265
        },
        "outputId": "700f2dc6-5422-49ab-af6d-a4f40849fb45"
      },
      "source": [
        "# Let's calculate distance^2 as it doesn't matter in our case\n",
        "dist_blue = (x - blue_center[0])**2 + (y - blue_center[1])**2 \n",
        "dist_red = (x - red_center[0])**2 + (y - red_center[1])**2\n",
        "\n",
        "# for each point we determine which cluster center is closer (0-blue, 1-red)\n",
        "clusters = np.argmin(np.column_stack((dist_blue, dist_red)), axis=1)  \n",
        "\n",
        "# visualization\n",
        "plt.plot(x[clusters == 0], y[clusters == 0], 'bo', x[clusters == 1], y[clusters == 1], 'ro')\n",
        "plt.plot(blue_center[0], blue_center[1], 'bx', red_center[0], red_center[1], 'rx', markeredgewidth=2, markersize=12)\n",
        "plt.show()"
      ],
      "execution_count": 7,
      "outputs": [
        {
          "output_type": "display_data",
          "data": {
            "text/plain": [
              "<Figure size 432x288 with 1 Axes>"
            ],
            "image/png": "[encoded data removed]"
          },
          "metadata": {
            "needs_background": "light"
          }
        }
      ]
    },
    {
      "cell_type": "markdown",
      "metadata": {
        "id": "sfQNTkNJ62Wf"
      },
      "source": [
        "**Step 3:** we calculate new center for each cluster using points that belongs to this cluster"
      ]
    },
    {
      "cell_type": "code",
      "metadata": {
        "id": "akUXwOlM3D0l",
        "colab": {
          "base_uri": "https://localhost:8080/",
          "height": 265
        },
        "outputId": "160b9aed-7aac-4826-9fda-c7bc632b4a9b"
      },
      "source": [
        "blue_center = np.array([x[clusters == 0].mean(), y[clusters == 0].mean()])\n",
        "red_center = np.array([x[clusters == 1].mean(), y[clusters == 1].mean()])\n",
        "\n",
        "plt.plot(x[clusters == 0], y[clusters == 0], 'bo', x[clusters == 1], y[clusters == 1], 'ro')\n",
        "plt.plot(blue_center[0], blue_center[1], 'bx', red_center[0], red_center[1], 'rx', markeredgewidth=2, markersize=12)\n",
        "plt.show()"
      ],
      "execution_count": 8,
      "outputs": [
        {
          "output_type": "display_data",
          "data": {
            "text/plain": [
              "<Figure size 432x288 with 1 Axes>"
            ],
            "image/png": "[encoded data removed]"
          },
          "metadata": {
            "needs_background": "light"
          }
        }
      ]
    },
    {
      "cell_type": "markdown",
      "metadata": {
        "id": "3jByJjqN8kJ-"
      },
      "source": [
        "we repeat step 2 with new cluster centers:"
      ]
    },
    {
      "cell_type": "code",
      "metadata": {
        "id": "beCJ5S5D8dp1",
        "colab": {
          "base_uri": "https://localhost:8080/",
          "height": 265
        },
        "outputId": "9613cd33-b1d7-48ad-c000-d33c7d35efa1"
      },
      "source": [
        "dist_blue = (x - blue_center[0])**2 + (y - blue_center[1])**2 \n",
        "dist_red = (x - red_center[0])**2 + (y - red_center[1])**2  \n",
        "\n",
        "clusters = np.argmin(np.column_stack((dist_blue, dist_red)), axis=1)  \n",
        "\n",
        "plt.plot(x[clusters == 0], y[clusters == 0], 'bo', x[clusters == 1], y[clusters == 1], 'ro')\n",
        "plt.plot(blue_center[0], blue_center[1], 'bx', red_center[0], red_center[1], 'rx', markeredgewidth=2, markersize=12)\n",
        "plt.show()"
      ],
      "execution_count": 9,
      "outputs": [
        {
          "output_type": "display_data",
          "data": {
            "text/plain": [
              "<Figure size 432x288 with 1 Axes>"
            ],
            "image/png": "[encoded data removed]"
          },
          "metadata": {
            "needs_background": "light"
          }
        }
      ]
    },
    {
      "cell_type": "markdown",
      "metadata": {
        "id": "vhQDxctt9I0W"
      },
      "source": [
        "We repeat steps 2 and 3 before convex and we stop when cluster center coordinates are not changed anymore.\n",
        "We see on visualization that we are very close to our goal after only two iterations and maybe one more iteration will be enough to get convex.\n",
        "If on any step we get empty cluster, we can eliminate it and we'll get $k-1$ cluster(this happens very rarely)"
      ]
    },
    {
      "cell_type": "markdown",
      "metadata": {
        "id": "1Q0jud-tBU7E"
      },
      "source": [
        "We should know that K-means doesn't always find global optimum, we may get different result for different initial cluster centers so very often people run this algorithm several times and they choose the best one. We choose the best one using cost function:  \n",
        "$$ J = \\frac {1}{n} \\sum_{i=1}^{n} \\lvert \\lvert x_i - \\mu_{c_i} \\rvert \\rvert $$\n",
        "\n",
        "სადაც  \n",
        "* $n$ - number of data points\n",
        "* $x_i$ - $i$th point\n",
        "* $c_i$ - cluster index of $i$th point   \n",
        "* $\\mu_i$ - center of $i$th cluster \n",
        "* $\\mu_{c_i}$ - center of the cluster for $i$th point\n",
        "\n",
        "We can say that cost function is the average of the squares of the distances from the centers of their own clusters of points and we are trying to minimize it."
      ]
    },
    {
      "cell_type": "markdown",
      "metadata": {
        "id": "74wAkJ98NHHl"
      },
      "source": [
        "_How do we choose $k$(number of clusters)?_\n",
        "\n",
        "The higher the number of clusters means the lower the cost (if the number of data points is equal to the number of clusters, than cost is $0$, because all points will be the cluster itself). Very common practice is to use [elbow method](https://en.wikipedia.org/wiki/Elbow_method_(clustering)#:~:text=In%20cluster%20analysis%2C%20the%20elbow,number%20of%20clusters%20to%20use.). You can also try different number of clusters and choose the best one. There are some other methods too to choose K."
      ]
    },
    {
      "cell_type": "markdown",
      "metadata": {
        "id": "tUiNbbxyNFRk"
      },
      "source": [
        "We can implement this algorithm using `KMeans` class from `sklearn.cluster` module. We should pass `n_clusters` - number of clusters. By default it does center initialization so that it convexes soon(we can choose centers randomly if we want)."
      ]
    },
    {
      "cell_type": "code",
      "metadata": {
        "id": "w3t1ZBpj9HCN"
      },
      "source": [
        "from sklearn.cluster import KMeans\n",
        "\n",
        "X = np.column_stack((x, y)) \n",
        "kmeans = KMeans(n_clusters=2, random_state=0).fit(X)"
      ],
      "execution_count": 10,
      "outputs": []
    },
    {
      "cell_type": "markdown",
      "metadata": {
        "id": "sUR0k_Z8SQVE"
      },
      "source": [
        "The distribution of points in clusters is stored in the `labels_` attribute"
      ]
    },
    {
      "cell_type": "code",
      "metadata": {
        "id": "SZHvILglQKYU",
        "colab": {
          "base_uri": "https://localhost:8080/"
        },
        "outputId": "04adb6cb-9663-4858-c8f4-4e60ca3bb239"
      },
      "source": [
        "kmeans.labels_"
      ],
      "execution_count": 11,
      "outputs": [
        {
          "output_type": "execute_result",
          "data": {
            "text/plain": [
              "array([1, 1, 1, 1, 1, 1, 1, 1, 1, 1, 0, 0, 0, 0, 0, 0, 0, 0, 0, 0],\n",
              "      dtype=int32)"
            ]
          },
          "metadata": {},
          "execution_count": 11
        }
      ]
    },
    {
      "cell_type": "markdown",
      "metadata": {
        "id": "C4dnp613SeXA"
      },
      "source": [
        "Visualization:"
      ]
    },
    {
      "cell_type": "code",
      "metadata": {
        "id": "l9M4WYcFSMuV",
        "colab": {
          "base_uri": "https://localhost:8080/",
          "height": 265
        },
        "outputId": "c4c71b5b-0380-4870-e4d4-9f944599fe57"
      },
      "source": [
        "clusters = kmeans.labels_\n",
        "for i in range(len(np.unique(clusters))):\n",
        "    plt.scatter(x[clusters == i], y[clusters == i])\n",
        "plt.show()"
      ],
      "execution_count": 12,
      "outputs": [
        {
          "output_type": "display_data",
          "data": {
            "text/plain": [
              "<Figure size 432x288 with 1 Axes>"
            ],
            "image/png": "[encoded data removed]"
          },
          "metadata": {
            "needs_background": "light"
          }
        }
      ]
    },
    {
      "cell_type": "markdown",
      "metadata": {
        "id": "zuDtyFF6TSJB"
      },
      "source": [
        "We see that it found clusters perfectly."
      ]
    },
    {
      "cell_type": "markdown",
      "metadata": {
        "id": "4FkCP-ssTtxg"
      },
      "source": [
        "## KNN"
      ]
    },
    {
      "cell_type": "markdown",
      "metadata": {
        "id": "CiCtxrLhTxAj"
      },
      "source": [
        "We have clustering algorithms in supervised learning too and most common one is KNN (K Nearest Neighbours). It's very simple algorithm:\n",
        "* We have data points with target values\n",
        "* We choose $k$\n",
        "* for each new data point we calculate the distance between this new point and every other point and we choose $k$ number nearest neighbours.\n",
        "* We look at our chosen k neighbour and we choose the most frequent class(mode), this is the class for our new data point.\n",
        "\n",
        "We can use KNN not only for classification but for regression too(we'll take average value instead of mode on the last step).\n",
        "We should know that as we increase number of data points, evaluation time increases because algorithm calculates distances for each point."
      ]
    },
    {
      "cell_type": "markdown",
      "metadata": {
        "id": "N4IFMzDIidtM"
      },
      "source": [
        "_How do we choose $k$?_  \n",
        "It's much simplier to choose $k$ for KNN rather than for KMeans because we know how to estimate our model. Model is better when our accuracy is higher(or MSE is lower for regression tasks).\n",
        "Also:\n",
        "* If we choose very small $k$, accuracy will be lower because choosing cluster using only $1$ or $2$ neighbour isn't a good idea, in such case anomalies may have a big effect.\n",
        "* If $k$ is too big than we may consider points that are too far and we still get a low accuracy. \n",
        "* In the case of binary classification, we choose odd $k$ so that we can not get the same number of nearest neighbors of the same class.\n",
        "\n",
        "So we just try several different values of $k$ and choose the best one."
      ]
    },
    {
      "cell_type": "markdown",
      "metadata": {
        "id": "s2pbnUUKND4p"
      },
      "source": [
        "We have `KNeighborsClassifier` and `KNeighborsRegressor` classes in `sklearn.neighbors` module. Let's consider classification example:"
      ]
    },
    {
      "cell_type": "code",
      "metadata": {
        "id": "-Fj9gSTcTZFG",
        "colab": {
          "base_uri": "https://localhost:8080/",
          "height": 265
        },
        "outputId": "990d3d47-a0d4-4bc6-fcca-328a24e62217"
      },
      "source": [
        "from sklearn.datasets import make_classification\n",
        "\n",
        "X, y = make_classification(n_samples=60, n_classes=3, n_features=2, \n",
        "                           n_redundant=0, n_clusters_per_class=1, random_state=25)\n",
        "\n",
        "plt.plot(X[y==0, 0], X[y==0, 1], 'bo', X[y==1, 0], X[y==1, 1], 'ro', X[y==2, 0], X[y==2, 1], 'go')\n",
        "plt.show()"
      ],
      "execution_count": 13,
      "outputs": [
        {
          "output_type": "display_data",
          "data": {
            "text/plain": [
              "<Figure size 432x288 with 1 Axes>"
            ],
            "image/png": "[encoded data removed]"
          },
          "metadata": {
            "needs_background": "light"
          }
        }
      ]
    },
    {
      "cell_type": "code",
      "metadata": {
        "id": "CvxOCVMMOH2q",
        "colab": {
          "base_uri": "https://localhost:8080/",
          "height": 265
        },
        "outputId": "04568311-61c0-4b02-db24-18d5ffd0a4e8"
      },
      "source": [
        "from sklearn.model_selection import train_test_split\n",
        "\n",
        "X_train, X_test, y_train, y_test = train_test_split(X, y, test_size=0.3, random_state=0)\n",
        "\n",
        "plt.plot(X_train[y_train==0, 0], X_train[y_train==0, 1], 'bo', \n",
        "         X_train[y_train==1, 0], X_train[y_train==1, 1], 'ro', \n",
        "         X_train[y_train==2, 0], X_train[y_train==2, 1], 'go')\n",
        "plt.show()"
      ],
      "execution_count": 14,
      "outputs": [
        {
          "output_type": "display_data",
          "data": {
            "text/plain": [
              "<Figure size 432x288 with 1 Axes>"
            ],
            "image/png": "[encoded data removed]"
          },
          "metadata": {
            "needs_background": "light"
          }
        }
      ]
    },
    {
      "cell_type": "code",
      "metadata": {
        "id": "_d2rkGk4WaHh",
        "colab": {
          "base_uri": "https://localhost:8080/"
        },
        "outputId": "08316e7f-ed37-4c3d-e6f6-4d80448a0a15"
      },
      "source": [
        "from sklearn.neighbors import KNeighborsClassifier\n",
        "\n",
        "knn = KNeighborsClassifier(n_neighbors=3)\n",
        "knn.fit(X_train, y_train)\n",
        "\n",
        "knn.score(X_test, y_test)"
      ],
      "execution_count": 15,
      "outputs": [
        {
          "output_type": "execute_result",
          "data": {
            "text/plain": [
              "1.0"
            ]
          },
          "metadata": {},
          "execution_count": 15
        }
      ]
    },
    {
      "cell_type": "markdown",
      "metadata": {
        "id": "9hucNoDUYzoj"
      },
      "source": [
        "we got 100% accuracy because classes were distributed too simple, for harder dataset we'll get less score"
      ]
    },
    {
      "cell_type": "code",
      "metadata": {
        "id": "Iw0s_ZLeYlbx",
        "colab": {
          "base_uri": "https://localhost:8080/",
          "height": 265
        },
        "outputId": "e483eee6-cf06-45b5-aa8a-a5a51be4ae75"
      },
      "source": [
        "X, y = make_classification(n_samples=60, n_classes=3, n_features=2, \n",
        "                           n_redundant=0, n_clusters_per_class=1, random_state=2)\n",
        "\n",
        "plt.plot(X[y==0, 0], X[y==0, 1], 'bo', X[y==1, 0], X[y==1, 1], 'ro', X[y==2, 0], X[y==2, 1], 'go')\n",
        "plt.show()"
      ],
      "execution_count": 16,
      "outputs": [
        {
          "output_type": "display_data",
          "data": {
            "text/plain": [
              "<Figure size 432x288 with 1 Axes>"
            ],
            "image/png": "[encoded data removed]"
          },
          "metadata": {
            "needs_background": "light"
          }
        }
      ]
    },
    {
      "cell_type": "code",
      "metadata": {
        "id": "dLqtj7UUZEBa",
        "colab": {
          "base_uri": "https://localhost:8080/",
          "height": 265
        },
        "outputId": "7567877f-d995-48f6-e928-3eba6e7269d4"
      },
      "source": [
        "X_train, X_test, y_train, y_test = train_test_split(X, y, test_size=0.3, random_state=0)\n",
        "\n",
        "plt.plot(X_train[y_train==0, 0], X_train[y_train==0, 1], 'bo', \n",
        "         X_train[y_train==1, 0], X_train[y_train==1, 1], 'ro', \n",
        "         X_train[y_train==2, 0], X_train[y_train==2, 1], 'go')\n",
        "plt.show()"
      ],
      "execution_count": 17,
      "outputs": [
        {
          "output_type": "display_data",
          "data": {
            "text/plain": [
              "<Figure size 432x288 with 1 Axes>"
            ],
            "image/png": "[encoded data removed]"
          },
          "metadata": {
            "needs_background": "light"
          }
        }
      ]
    },
    {
      "cell_type": "code",
      "metadata": {
        "id": "X6gu26EaZHv1",
        "colab": {
          "base_uri": "https://localhost:8080/"
        },
        "outputId": "1b4ce1d7-1d42-4e59-c8b9-272f7c7d79f9"
      },
      "source": [
        "knn = KNeighborsClassifier(n_neighbors=3)\n",
        "knn.fit(X_train, y_train)\n",
        "\n",
        "knn.score(X_test, y_test)"
      ],
      "execution_count": 18,
      "outputs": [
        {
          "output_type": "execute_result",
          "data": {
            "text/plain": [
              "0.7777777777777778"
            ]
          },
          "metadata": {},
          "execution_count": 18
        }
      ]
    },
    {
      "cell_type": "markdown",
      "metadata": {
        "id": "3Bwg5W24ZVG6"
      },
      "source": [
        "we got 78% accuracy for $k=3$, let's try different $k$:"
      ]
    },
    {
      "cell_type": "code",
      "metadata": {
        "id": "xjWo-ZyGZK-P",
        "colab": {
          "base_uri": "https://localhost:8080/"
        },
        "outputId": "0627feee-85f8-436b-d629-31c1bc633a52"
      },
      "source": [
        "knn = KNeighborsClassifier(n_neighbors=5)\n",
        "knn.fit(X_train, y_train)\n",
        "\n",
        "knn.score(X_test, y_test)"
      ],
      "execution_count": 19,
      "outputs": [
        {
          "output_type": "execute_result",
          "data": {
            "text/plain": [
              "0.7222222222222222"
            ]
          },
          "metadata": {},
          "execution_count": 19
        }
      ]
    },
    {
      "cell_type": "markdown",
      "metadata": {
        "id": "9kcqpU5rZyAM"
      },
      "source": [
        "we got even worse result with $k=5%"
      ]
    },
    {
      "cell_type": "code",
      "metadata": {
        "id": "V_rtGdMjZn7V",
        "colab": {
          "base_uri": "https://localhost:8080/"
        },
        "outputId": "e04fbd62-c68c-4fa3-c4da-366249c3abd2"
      },
      "source": [
        "knn = KNeighborsClassifier(n_neighbors=4)\n",
        "knn.fit(X_train, y_train)\n",
        "\n",
        "knn.score(X_test, y_test)"
      ],
      "execution_count": 20,
      "outputs": [
        {
          "output_type": "execute_result",
          "data": {
            "text/plain": [
              "0.8333333333333334"
            ]
          },
          "metadata": {},
          "execution_count": 20
        }
      ]
    },
    {
      "cell_type": "markdown",
      "metadata": {
        "id": "Jk1AZPZYaBUC"
      },
      "source": [
        "We got pretty good result with $k=4$. We have $18$ data points in our test set and $83%$ means that we correctly guessed $15$ data points and it's quite good result."
      ]
    },
    {
      "cell_type": "code",
      "metadata": {
        "id": "TgKAfxQgZ7nQ",
        "colab": {
          "base_uri": "https://localhost:8080/",
          "height": 265
        },
        "outputId": "283f11a8-6a99-4ee1-c137-e22483a10054"
      },
      "source": [
        "pred = knn.predict(X_test)\n",
        "diff = (y_test != pred)  # incorrectly classified points\n",
        "\n",
        "plt.plot(X[y==0, 0], X[y==0, 1], 'bo', X[y==1, 0], X[y==1, 1], 'ro', X[y==2, 0], X[y==2, 1], 'go')\n",
        "\n",
        "plt.scatter(X_test[diff, 0], X_test[diff, 1], s=120, edgecolors='black',\n",
        "            facecolors='none', linewidths=3)\n",
        "plt.show()"
      ],
      "execution_count": 21,
      "outputs": [
        {
          "output_type": "display_data",
          "data": {
            "text/plain": [
              "<Figure size 432x288 with 1 Axes>"
            ],
            "image/png": "[encoded data removed]"
          },
          "metadata": {
            "needs_background": "light"
          }
        }
      ]
    },
    {
      "cell_type": "markdown",
      "metadata": {
        "id": "Q13jpEwjePSz"
      },
      "source": [
        "Incorrectly classified points are really hard to guess because they are closer to other clusters"
      ]
    },
    {
      "cell_type": "code",
      "source": [
        ""
      ],
      "metadata": {
        "id": "7my6Y3ODe_UY"
      },
      "execution_count": null,
      "outputs": []
    }
  ]
}